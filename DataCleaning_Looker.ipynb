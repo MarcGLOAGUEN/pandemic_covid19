{
 "cells": [
  {
   "cell_type": "code",
   "execution_count": 2,
   "id": "initial_id",
   "metadata": {
    "collapsed": true,
    "ExecuteTime": {
     "end_time": "2023-12-10T18:01:45.631410Z",
     "start_time": "2023-12-10T18:01:44.307958Z"
    }
   },
   "outputs": [],
   "source": [
    "import pandas as pd"
   ]
  },
  {
   "cell_type": "code",
   "execution_count": 3,
   "outputs": [],
   "source": [
    "data = pd.read_csv('ressources/time_series_covid19_confirmed_global_iso3_regions.csv')"
   ],
   "metadata": {
    "collapsed": false,
    "ExecuteTime": {
     "end_time": "2023-12-10T18:01:45.659795Z",
     "start_time": "2023-12-10T18:01:45.632135Z"
    }
   },
   "id": "d07fb998aed851bf"
  },
  {
   "cell_type": "code",
   "execution_count": 4,
   "outputs": [],
   "source": [
    "data.drop(index=0, inplace=True)"
   ],
   "metadata": {
    "collapsed": false,
    "ExecuteTime": {
     "end_time": "2023-12-10T18:01:45.659998Z",
     "start_time": "2023-12-10T18:01:45.657318Z"
    }
   },
   "id": "974395c23ecece2b"
  },
  {
   "cell_type": "code",
   "execution_count": 5,
   "outputs": [],
   "source": [
    "data.set_index(['Country/Region','Region Name'], inplace=True)"
   ],
   "metadata": {
    "collapsed": false,
    "ExecuteTime": {
     "end_time": "2023-12-10T18:01:45.665671Z",
     "start_time": "2023-12-10T18:01:45.660376Z"
    }
   },
   "id": "d975bb8aa35ada51"
  },
  {
   "cell_type": "code",
   "execution_count": 6,
   "outputs": [
    {
     "data": {
      "text/plain": "Index(['Province/State', 'Lat', 'Long'], dtype='object')"
     },
     "execution_count": 6,
     "metadata": {},
     "output_type": "execute_result"
    }
   ],
   "source": [
    "data.columns[:3]"
   ],
   "metadata": {
    "collapsed": false,
    "ExecuteTime": {
     "end_time": "2023-12-10T18:01:45.670949Z",
     "start_time": "2023-12-10T18:01:45.666547Z"
    }
   },
   "id": "3468a3e99c2a29e1"
  },
  {
   "cell_type": "code",
   "execution_count": 7,
   "outputs": [
    {
     "data": {
      "text/plain": "Index(['ISO 3166-1 Alpha 3-Codes', 'Region Code', 'Sub-region Code',\n       'Sub-region Name', 'Intermediate Region Code',\n       'Intermediate Region Name'],\n      dtype='object')"
     },
     "execution_count": 7,
     "metadata": {},
     "output_type": "execute_result"
    }
   ],
   "source": [
    "data.columns[-6:]"
   ],
   "metadata": {
    "collapsed": false,
    "ExecuteTime": {
     "end_time": "2023-12-10T18:01:45.671146Z",
     "start_time": "2023-12-10T18:01:45.669205Z"
    }
   },
   "id": "1bfc5412ff1f2451"
  },
  {
   "cell_type": "code",
   "execution_count": 8,
   "outputs": [],
   "source": [
    "covid19_confirmed = data.drop(columns=data.columns[-6:]).drop(columns=data.columns[:3]).reset_index().melt(id_vars=['Country/Region','Region Name'],var_name='Date', value_name='Cases')"
   ],
   "metadata": {
    "collapsed": false,
    "ExecuteTime": {
     "end_time": "2023-12-10T18:01:45.707580Z",
     "start_time": "2023-12-10T18:01:45.671931Z"
    }
   },
   "id": "4fe2cdcc62b28cb3"
  },
  {
   "cell_type": "code",
   "execution_count": 9,
   "outputs": [],
   "source": [
    "covid19_newcases = data.drop(columns=data.columns[-6:]).drop(columns=data.columns[:3]).T.diff().fillna(0).T.reset_index().melt(id_vars=['Country/Region','Region Name'],var_name='Date', value_name='New Cases')"
   ],
   "metadata": {
    "collapsed": false,
    "ExecuteTime": {
     "end_time": "2023-12-10T18:01:45.744228Z",
     "start_time": "2023-12-10T18:01:45.708922Z"
    }
   },
   "id": "6f57a3727c2da016"
  },
  {
   "cell_type": "code",
   "execution_count": 10,
   "outputs": [],
   "source": [
    "covid19 = pd.concat([covid19_newcases, covid19_confirmed['Cases']],axis=1)"
   ],
   "metadata": {
    "collapsed": false,
    "ExecuteTime": {
     "end_time": "2023-12-10T18:01:45.751034Z",
     "start_time": "2023-12-10T18:01:45.745300Z"
    }
   },
   "id": "ae1796097a12927f"
  },
  {
   "cell_type": "code",
   "execution_count": 11,
   "outputs": [],
   "source": [
    "covid19.Date = pd.to_datetime(covid19.Date, format='%m/%d/%y')"
   ],
   "metadata": {
    "collapsed": false,
    "ExecuteTime": {
     "end_time": "2023-12-10T18:01:45.768571Z",
     "start_time": "2023-12-10T18:01:45.756392Z"
    }
   },
   "id": "8c87fe0b6060e5a1"
  },
  {
   "cell_type": "code",
   "execution_count": 12,
   "outputs": [],
   "source": [
    "cumsum_cases = covid19[['Date','New Cases']].groupby('Date').sum().cumsum().reset_index()"
   ],
   "metadata": {
    "collapsed": false,
    "ExecuteTime": {
     "end_time": "2023-12-10T18:01:45.778103Z",
     "start_time": "2023-12-10T18:01:45.768297Z"
    }
   },
   "id": "a3429b598c4437cd"
  },
  {
   "cell_type": "code",
   "execution_count": 13,
   "outputs": [],
   "source": [
    "covid19 = covid19.merge(cumsum_cases, how='left', right_on=\"Date\", left_on=\"Date\").rename(columns={'New Cases_x':'New Cases','Cases':'Case by country', 'New Cases_y':'Cases Global'})"
   ],
   "metadata": {
    "collapsed": false,
    "ExecuteTime": {
     "end_time": "2023-12-10T18:01:45.807020Z",
     "start_time": "2023-12-10T18:01:45.779134Z"
    }
   },
   "id": "d6bc2d6ee7a1de96"
  },
  {
   "cell_type": "code",
   "execution_count": 14,
   "outputs": [],
   "source": [
    "covid19 = covid19.merge(covid19[['Date','New Cases']].groupby('Date').sum().reset_index(), how='left', right_on=\"Date\", left_on=\"Date\")"
   ],
   "metadata": {
    "collapsed": false,
    "ExecuteTime": {
     "end_time": "2023-12-10T18:01:45.835038Z",
     "start_time": "2023-12-10T18:01:45.807965Z"
    }
   },
   "id": "c2ecc15cef8dba76"
  },
  {
   "cell_type": "code",
   "execution_count": 15,
   "outputs": [],
   "source": [
    "covid19.rename(columns={'New Cases_x':'New Cases','New Cases_y':'New Cases by day'}, inplace=True)"
   ],
   "metadata": {
    "collapsed": false,
    "ExecuteTime": {
     "end_time": "2023-12-10T18:01:45.835785Z",
     "start_time": "2023-12-10T18:01:45.834146Z"
    }
   },
   "id": "30aaeb4b10a9ac0f"
  },
  {
   "cell_type": "code",
   "execution_count": 16,
   "outputs": [],
   "source": [
    "covid19.to_csv('covid19_Looker.csv', index=False)"
   ],
   "metadata": {
    "collapsed": false,
    "ExecuteTime": {
     "end_time": "2023-12-10T18:01:46.443103Z",
     "start_time": "2023-12-10T18:01:45.836081Z"
    }
   },
   "id": "f84ff453e268674"
  },
  {
   "cell_type": "code",
   "execution_count": 16,
   "outputs": [],
   "source": [],
   "metadata": {
    "collapsed": false,
    "ExecuteTime": {
     "end_time": "2023-12-10T18:01:46.443960Z",
     "start_time": "2023-12-10T18:01:46.442385Z"
    }
   },
   "id": "6bf7503f01f7e7"
  }
 ],
 "metadata": {
  "kernelspec": {
   "display_name": "Python 3",
   "language": "python",
   "name": "python3"
  },
  "language_info": {
   "codemirror_mode": {
    "name": "ipython",
    "version": 2
   },
   "file_extension": ".py",
   "mimetype": "text/x-python",
   "name": "python",
   "nbconvert_exporter": "python",
   "pygments_lexer": "ipython2",
   "version": "2.7.6"
  }
 },
 "nbformat": 4,
 "nbformat_minor": 5
}
