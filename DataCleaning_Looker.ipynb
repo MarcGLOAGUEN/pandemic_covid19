{
 "cells": [
  {
   "cell_type": "code",
   "execution_count": 172,
   "id": "initial_id",
   "metadata": {
    "collapsed": true,
    "ExecuteTime": {
     "end_time": "2023-12-13T09:23:00.848637Z",
     "start_time": "2023-12-13T09:23:00.829667Z"
    }
   },
   "outputs": [],
   "source": [
    "import pandas as pd\n",
    "import pycountry\n",
    "import numpy as np"
   ]
  },
  {
   "cell_type": "code",
   "execution_count": 45,
   "outputs": [],
   "source": [
    "data = pd.read_csv('ressources/time_series_covid19_confirmed_global_iso3_regions.csv')"
   ],
   "metadata": {
    "collapsed": false,
    "ExecuteTime": {
     "end_time": "2023-12-13T08:58:10.641951Z",
     "start_time": "2023-12-13T08:58:10.492664Z"
    }
   },
   "id": "d07fb998aed851bf"
  },
  {
   "cell_type": "code",
   "execution_count": 46,
   "outputs": [],
   "source": [
    "data.drop(index=0, inplace=True)"
   ],
   "metadata": {
    "collapsed": false,
    "ExecuteTime": {
     "end_time": "2023-12-13T08:58:10.642138Z",
     "start_time": "2023-12-13T08:58:10.521905Z"
    }
   },
   "id": "974395c23ecece2b"
  },
  {
   "cell_type": "code",
   "execution_count": 47,
   "outputs": [
    {
     "data": {
      "text/plain": "    Province/State        Country/Region         Lat       Long  1/22/20  \\\n1              NaN           Afghanistan    33.93911  67.709953      0.0   \n2              NaN               Albania     41.1533    20.1683      0.0   \n3              NaN               Algeria     28.0339     1.6596      0.0   \n4              NaN               Andorra     42.5063     1.5218      0.0   \n5              NaN                Angola    -11.2027    17.8739      0.0   \n..             ...                   ...         ...        ...      ...   \n285            NaN    West Bank and Gaza     31.9522    35.2332      0.0   \n286            NaN  Winter Olympics 2022     39.9042   116.4074      0.0   \n287            NaN                 Yemen   15.552727  48.516388      0.0   \n288            NaN                Zambia  -13.133897  27.849332      0.0   \n289            NaN              Zimbabwe  -19.015438  29.154857      0.0   \n\n     1/23/20  1/24/20  1/25/20  1/26/20  1/27/20  ...    3/7/23    3/8/23  \\\n1        0.0      0.0      0.0      0.0      0.0  ...  209436.0  209451.0   \n2        0.0      0.0      0.0      0.0      0.0  ...  334427.0  334443.0   \n3        0.0      0.0      0.0      0.0      0.0  ...  271490.0  271494.0   \n4        0.0      0.0      0.0      0.0      0.0  ...   47875.0   47890.0   \n5        0.0      0.0      0.0      0.0      0.0  ...  105277.0  105288.0   \n..       ...      ...      ...      ...      ...  ...       ...       ...   \n285      0.0      0.0      0.0      0.0      0.0  ...  703228.0  703228.0   \n286      0.0      0.0      0.0      0.0      0.0  ...     535.0     535.0   \n287      0.0      0.0      0.0      0.0      0.0  ...   11945.0   11945.0   \n288      0.0      0.0      0.0      0.0      0.0  ...  343135.0  343135.0   \n289      0.0      0.0      0.0      0.0      0.0  ...  264127.0  264276.0   \n\n       3/9/23  ISO 3166-1 Alpha 3-Codes  Region Code  Region Name  \\\n1    209451.0                       AFG          142         Asia   \n2    334457.0                       ALB          150       Europe   \n3    271496.0                       DZA            2       Africa   \n4     47890.0                       AND          150       Europe   \n5    105288.0                       AGO            2       Africa   \n..        ...                       ...          ...          ...   \n285  703228.0                       PSE          142         Asia   \n286     535.0                       NaN          NaN          NaN   \n287   11945.0                       YEM          142         Asia   \n288  343135.0                       ZMB            2       Africa   \n289  264276.0                       ZWE            2       Africa   \n\n     Sub-region Code     Sub-region Name  Intermediate Region Code  \\\n1                 34       Southern Asia                       NaN   \n2                 39     Southern Europe                       NaN   \n3                 15     Northern Africa                       NaN   \n4                 39     Southern Europe                       NaN   \n5                202  Sub-Saharan Africa                        17   \n..               ...                 ...                       ...   \n285              145        Western Asia                       NaN   \n286              NaN                 NaN                       NaN   \n287              145        Western Asia                       NaN   \n288              202  Sub-Saharan Africa                        14   \n289              202  Sub-Saharan Africa                        14   \n\n     Intermediate Region Name  \n1                         NaN  \n2                         NaN  \n3                         NaN  \n4                         NaN  \n5               Middle Africa  \n..                        ...  \n285                       NaN  \n286                       NaN  \n287                       NaN  \n288            Eastern Africa  \n289            Eastern Africa  \n\n[289 rows x 1154 columns]",
      "text/html": "<div>\n<style scoped>\n    .dataframe tbody tr th:only-of-type {\n        vertical-align: middle;\n    }\n\n    .dataframe tbody tr th {\n        vertical-align: top;\n    }\n\n    .dataframe thead th {\n        text-align: right;\n    }\n</style>\n<table border=\"1\" class=\"dataframe\">\n  <thead>\n    <tr style=\"text-align: right;\">\n      <th></th>\n      <th>Province/State</th>\n      <th>Country/Region</th>\n      <th>Lat</th>\n      <th>Long</th>\n      <th>1/22/20</th>\n      <th>1/23/20</th>\n      <th>1/24/20</th>\n      <th>1/25/20</th>\n      <th>1/26/20</th>\n      <th>1/27/20</th>\n      <th>...</th>\n      <th>3/7/23</th>\n      <th>3/8/23</th>\n      <th>3/9/23</th>\n      <th>ISO 3166-1 Alpha 3-Codes</th>\n      <th>Region Code</th>\n      <th>Region Name</th>\n      <th>Sub-region Code</th>\n      <th>Sub-region Name</th>\n      <th>Intermediate Region Code</th>\n      <th>Intermediate Region Name</th>\n    </tr>\n  </thead>\n  <tbody>\n    <tr>\n      <th>1</th>\n      <td>NaN</td>\n      <td>Afghanistan</td>\n      <td>33.93911</td>\n      <td>67.709953</td>\n      <td>0.0</td>\n      <td>0.0</td>\n      <td>0.0</td>\n      <td>0.0</td>\n      <td>0.0</td>\n      <td>0.0</td>\n      <td>...</td>\n      <td>209436.0</td>\n      <td>209451.0</td>\n      <td>209451.0</td>\n      <td>AFG</td>\n      <td>142</td>\n      <td>Asia</td>\n      <td>34</td>\n      <td>Southern Asia</td>\n      <td>NaN</td>\n      <td>NaN</td>\n    </tr>\n    <tr>\n      <th>2</th>\n      <td>NaN</td>\n      <td>Albania</td>\n      <td>41.1533</td>\n      <td>20.1683</td>\n      <td>0.0</td>\n      <td>0.0</td>\n      <td>0.0</td>\n      <td>0.0</td>\n      <td>0.0</td>\n      <td>0.0</td>\n      <td>...</td>\n      <td>334427.0</td>\n      <td>334443.0</td>\n      <td>334457.0</td>\n      <td>ALB</td>\n      <td>150</td>\n      <td>Europe</td>\n      <td>39</td>\n      <td>Southern Europe</td>\n      <td>NaN</td>\n      <td>NaN</td>\n    </tr>\n    <tr>\n      <th>3</th>\n      <td>NaN</td>\n      <td>Algeria</td>\n      <td>28.0339</td>\n      <td>1.6596</td>\n      <td>0.0</td>\n      <td>0.0</td>\n      <td>0.0</td>\n      <td>0.0</td>\n      <td>0.0</td>\n      <td>0.0</td>\n      <td>...</td>\n      <td>271490.0</td>\n      <td>271494.0</td>\n      <td>271496.0</td>\n      <td>DZA</td>\n      <td>2</td>\n      <td>Africa</td>\n      <td>15</td>\n      <td>Northern Africa</td>\n      <td>NaN</td>\n      <td>NaN</td>\n    </tr>\n    <tr>\n      <th>4</th>\n      <td>NaN</td>\n      <td>Andorra</td>\n      <td>42.5063</td>\n      <td>1.5218</td>\n      <td>0.0</td>\n      <td>0.0</td>\n      <td>0.0</td>\n      <td>0.0</td>\n      <td>0.0</td>\n      <td>0.0</td>\n      <td>...</td>\n      <td>47875.0</td>\n      <td>47890.0</td>\n      <td>47890.0</td>\n      <td>AND</td>\n      <td>150</td>\n      <td>Europe</td>\n      <td>39</td>\n      <td>Southern Europe</td>\n      <td>NaN</td>\n      <td>NaN</td>\n    </tr>\n    <tr>\n      <th>5</th>\n      <td>NaN</td>\n      <td>Angola</td>\n      <td>-11.2027</td>\n      <td>17.8739</td>\n      <td>0.0</td>\n      <td>0.0</td>\n      <td>0.0</td>\n      <td>0.0</td>\n      <td>0.0</td>\n      <td>0.0</td>\n      <td>...</td>\n      <td>105277.0</td>\n      <td>105288.0</td>\n      <td>105288.0</td>\n      <td>AGO</td>\n      <td>2</td>\n      <td>Africa</td>\n      <td>202</td>\n      <td>Sub-Saharan Africa</td>\n      <td>17</td>\n      <td>Middle Africa</td>\n    </tr>\n    <tr>\n      <th>...</th>\n      <td>...</td>\n      <td>...</td>\n      <td>...</td>\n      <td>...</td>\n      <td>...</td>\n      <td>...</td>\n      <td>...</td>\n      <td>...</td>\n      <td>...</td>\n      <td>...</td>\n      <td>...</td>\n      <td>...</td>\n      <td>...</td>\n      <td>...</td>\n      <td>...</td>\n      <td>...</td>\n      <td>...</td>\n      <td>...</td>\n      <td>...</td>\n      <td>...</td>\n      <td>...</td>\n    </tr>\n    <tr>\n      <th>285</th>\n      <td>NaN</td>\n      <td>West Bank and Gaza</td>\n      <td>31.9522</td>\n      <td>35.2332</td>\n      <td>0.0</td>\n      <td>0.0</td>\n      <td>0.0</td>\n      <td>0.0</td>\n      <td>0.0</td>\n      <td>0.0</td>\n      <td>...</td>\n      <td>703228.0</td>\n      <td>703228.0</td>\n      <td>703228.0</td>\n      <td>PSE</td>\n      <td>142</td>\n      <td>Asia</td>\n      <td>145</td>\n      <td>Western Asia</td>\n      <td>NaN</td>\n      <td>NaN</td>\n    </tr>\n    <tr>\n      <th>286</th>\n      <td>NaN</td>\n      <td>Winter Olympics 2022</td>\n      <td>39.9042</td>\n      <td>116.4074</td>\n      <td>0.0</td>\n      <td>0.0</td>\n      <td>0.0</td>\n      <td>0.0</td>\n      <td>0.0</td>\n      <td>0.0</td>\n      <td>...</td>\n      <td>535.0</td>\n      <td>535.0</td>\n      <td>535.0</td>\n      <td>NaN</td>\n      <td>NaN</td>\n      <td>NaN</td>\n      <td>NaN</td>\n      <td>NaN</td>\n      <td>NaN</td>\n      <td>NaN</td>\n    </tr>\n    <tr>\n      <th>287</th>\n      <td>NaN</td>\n      <td>Yemen</td>\n      <td>15.552727</td>\n      <td>48.516388</td>\n      <td>0.0</td>\n      <td>0.0</td>\n      <td>0.0</td>\n      <td>0.0</td>\n      <td>0.0</td>\n      <td>0.0</td>\n      <td>...</td>\n      <td>11945.0</td>\n      <td>11945.0</td>\n      <td>11945.0</td>\n      <td>YEM</td>\n      <td>142</td>\n      <td>Asia</td>\n      <td>145</td>\n      <td>Western Asia</td>\n      <td>NaN</td>\n      <td>NaN</td>\n    </tr>\n    <tr>\n      <th>288</th>\n      <td>NaN</td>\n      <td>Zambia</td>\n      <td>-13.133897</td>\n      <td>27.849332</td>\n      <td>0.0</td>\n      <td>0.0</td>\n      <td>0.0</td>\n      <td>0.0</td>\n      <td>0.0</td>\n      <td>0.0</td>\n      <td>...</td>\n      <td>343135.0</td>\n      <td>343135.0</td>\n      <td>343135.0</td>\n      <td>ZMB</td>\n      <td>2</td>\n      <td>Africa</td>\n      <td>202</td>\n      <td>Sub-Saharan Africa</td>\n      <td>14</td>\n      <td>Eastern Africa</td>\n    </tr>\n    <tr>\n      <th>289</th>\n      <td>NaN</td>\n      <td>Zimbabwe</td>\n      <td>-19.015438</td>\n      <td>29.154857</td>\n      <td>0.0</td>\n      <td>0.0</td>\n      <td>0.0</td>\n      <td>0.0</td>\n      <td>0.0</td>\n      <td>0.0</td>\n      <td>...</td>\n      <td>264127.0</td>\n      <td>264276.0</td>\n      <td>264276.0</td>\n      <td>ZWE</td>\n      <td>2</td>\n      <td>Africa</td>\n      <td>202</td>\n      <td>Sub-Saharan Africa</td>\n      <td>14</td>\n      <td>Eastern Africa</td>\n    </tr>\n  </tbody>\n</table>\n<p>289 rows × 1154 columns</p>\n</div>"
     },
     "execution_count": 47,
     "metadata": {},
     "output_type": "execute_result"
    }
   ],
   "source": [
    "data"
   ],
   "metadata": {
    "collapsed": false,
    "ExecuteTime": {
     "end_time": "2023-12-13T08:58:10.642608Z",
     "start_time": "2023-12-13T08:58:10.525043Z"
    }
   },
   "id": "6a7950e2a1c9f175"
  },
  {
   "cell_type": "code",
   "execution_count": 48,
   "outputs": [],
   "source": [
    "data.set_index(['Country/Region','Region Name'], inplace=True)"
   ],
   "metadata": {
    "collapsed": false,
    "ExecuteTime": {
     "end_time": "2023-12-13T08:58:10.642669Z",
     "start_time": "2023-12-13T08:58:10.536638Z"
    }
   },
   "id": "d975bb8aa35ada51"
  },
  {
   "cell_type": "code",
   "execution_count": 49,
   "outputs": [
    {
     "data": {
      "text/plain": "Index(['Province/State', 'Lat', 'Long'], dtype='object')"
     },
     "execution_count": 49,
     "metadata": {},
     "output_type": "execute_result"
    }
   ],
   "source": [
    "data.columns[:3]"
   ],
   "metadata": {
    "collapsed": false,
    "ExecuteTime": {
     "end_time": "2023-12-13T08:58:10.642805Z",
     "start_time": "2023-12-13T08:58:10.539893Z"
    }
   },
   "id": "3468a3e99c2a29e1"
  },
  {
   "cell_type": "code",
   "execution_count": 50,
   "outputs": [
    {
     "data": {
      "text/plain": "Index(['ISO 3166-1 Alpha 3-Codes', 'Region Code', 'Sub-region Code',\n       'Sub-region Name', 'Intermediate Region Code',\n       'Intermediate Region Name'],\n      dtype='object')"
     },
     "execution_count": 50,
     "metadata": {},
     "output_type": "execute_result"
    }
   ],
   "source": [
    "data.columns[-6:]"
   ],
   "metadata": {
    "collapsed": false,
    "ExecuteTime": {
     "end_time": "2023-12-13T08:58:10.642907Z",
     "start_time": "2023-12-13T08:58:10.542391Z"
    }
   },
   "id": "1bfc5412ff1f2451"
  },
  {
   "cell_type": "code",
   "execution_count": 51,
   "outputs": [],
   "source": [
    "data.drop(columns=data.columns[-6:], inplace=True)\n",
    "data.drop(columns=data.columns[:3], inplace=True)"
   ],
   "metadata": {
    "collapsed": false,
    "ExecuteTime": {
     "end_time": "2023-12-13T08:58:10.642950Z",
     "start_time": "2023-12-13T08:58:10.544842Z"
    }
   },
   "id": "ccb685dc9c6dc0b2"
  },
  {
   "cell_type": "code",
   "execution_count": 52,
   "outputs": [],
   "source": [
    "data.insert(0,\"1/21/20\",0.0)"
   ],
   "metadata": {
    "collapsed": false,
    "ExecuteTime": {
     "end_time": "2023-12-13T08:58:10.642990Z",
     "start_time": "2023-12-13T08:58:10.548775Z"
    }
   },
   "id": "7487ab2e25422476"
  },
  {
   "cell_type": "code",
   "execution_count": 53,
   "outputs": [],
   "source": [
    "data = data.groupby(['Country/Region', 'Region Name']).sum()"
   ],
   "metadata": {
    "collapsed": false,
    "ExecuteTime": {
     "end_time": "2023-12-13T08:58:10.643029Z",
     "start_time": "2023-12-13T08:58:10.550959Z"
    }
   },
   "id": "368f15da87af0547"
  },
  {
   "cell_type": "code",
   "execution_count": 54,
   "outputs": [
    {
     "data": {
      "text/plain": "            Country/Region Region Name     Date  New Cases\n0              Afghanistan        Asia  1/21/20        0.0\n1                  Albania      Europe  1/21/20        0.0\n2                  Algeria      Africa  1/21/20        0.0\n3                  Andorra      Europe  1/21/20        0.0\n4                   Angola      Africa  1/21/20        0.0\n...                    ...         ...      ...        ...\n228795             Vietnam        Asia   3/9/23        0.0\n228796  West Bank and Gaza        Asia   3/9/23        0.0\n228797               Yemen        Asia   3/9/23        0.0\n228798              Zambia      Africa   3/9/23        0.0\n228799            Zimbabwe      Africa   3/9/23        0.0\n\n[228800 rows x 4 columns]",
      "text/html": "<div>\n<style scoped>\n    .dataframe tbody tr th:only-of-type {\n        vertical-align: middle;\n    }\n\n    .dataframe tbody tr th {\n        vertical-align: top;\n    }\n\n    .dataframe thead th {\n        text-align: right;\n    }\n</style>\n<table border=\"1\" class=\"dataframe\">\n  <thead>\n    <tr style=\"text-align: right;\">\n      <th></th>\n      <th>Country/Region</th>\n      <th>Region Name</th>\n      <th>Date</th>\n      <th>New Cases</th>\n    </tr>\n  </thead>\n  <tbody>\n    <tr>\n      <th>0</th>\n      <td>Afghanistan</td>\n      <td>Asia</td>\n      <td>1/21/20</td>\n      <td>0.0</td>\n    </tr>\n    <tr>\n      <th>1</th>\n      <td>Albania</td>\n      <td>Europe</td>\n      <td>1/21/20</td>\n      <td>0.0</td>\n    </tr>\n    <tr>\n      <th>2</th>\n      <td>Algeria</td>\n      <td>Africa</td>\n      <td>1/21/20</td>\n      <td>0.0</td>\n    </tr>\n    <tr>\n      <th>3</th>\n      <td>Andorra</td>\n      <td>Europe</td>\n      <td>1/21/20</td>\n      <td>0.0</td>\n    </tr>\n    <tr>\n      <th>4</th>\n      <td>Angola</td>\n      <td>Africa</td>\n      <td>1/21/20</td>\n      <td>0.0</td>\n    </tr>\n    <tr>\n      <th>...</th>\n      <td>...</td>\n      <td>...</td>\n      <td>...</td>\n      <td>...</td>\n    </tr>\n    <tr>\n      <th>228795</th>\n      <td>Vietnam</td>\n      <td>Asia</td>\n      <td>3/9/23</td>\n      <td>0.0</td>\n    </tr>\n    <tr>\n      <th>228796</th>\n      <td>West Bank and Gaza</td>\n      <td>Asia</td>\n      <td>3/9/23</td>\n      <td>0.0</td>\n    </tr>\n    <tr>\n      <th>228797</th>\n      <td>Yemen</td>\n      <td>Asia</td>\n      <td>3/9/23</td>\n      <td>0.0</td>\n    </tr>\n    <tr>\n      <th>228798</th>\n      <td>Zambia</td>\n      <td>Africa</td>\n      <td>3/9/23</td>\n      <td>0.0</td>\n    </tr>\n    <tr>\n      <th>228799</th>\n      <td>Zimbabwe</td>\n      <td>Africa</td>\n      <td>3/9/23</td>\n      <td>0.0</td>\n    </tr>\n  </tbody>\n</table>\n<p>228800 rows × 4 columns</p>\n</div>"
     },
     "execution_count": 54,
     "metadata": {},
     "output_type": "execute_result"
    }
   ],
   "source": [
    "# Nbr de nouveau cas pas pays\n",
    "covid19 = data.T.diff().fillna(0).T.reset_index().melt(id_vars=['Country/Region', 'Region Name'],var_name='Date', value_name='New Cases')\n",
    "covid19"
   ],
   "metadata": {
    "collapsed": false,
    "ExecuteTime": {
     "end_time": "2023-12-13T08:58:10.643684Z",
     "start_time": "2023-12-13T08:58:10.555738Z"
    }
   },
   "id": "99613fc837c22844"
  },
  {
   "cell_type": "code",
   "execution_count": 55,
   "outputs": [
    {
     "data": {
      "text/plain": "         New Cases by day\nDate                     \n1/1/21           563692.0\n1/1/22          1203137.0\n1/1/23           314595.0\n1/10/21          601539.0\n1/10/22         3251715.0\n...                   ...\n9/8/21           637701.0\n9/8/22           583960.0\n9/9/20           285310.0\n9/9/21           640145.0\n9/9/22           525628.0\n\n[1144 rows x 1 columns]",
      "text/html": "<div>\n<style scoped>\n    .dataframe tbody tr th:only-of-type {\n        vertical-align: middle;\n    }\n\n    .dataframe tbody tr th {\n        vertical-align: top;\n    }\n\n    .dataframe thead th {\n        text-align: right;\n    }\n</style>\n<table border=\"1\" class=\"dataframe\">\n  <thead>\n    <tr style=\"text-align: right;\">\n      <th></th>\n      <th>New Cases by day</th>\n    </tr>\n    <tr>\n      <th>Date</th>\n      <th></th>\n    </tr>\n  </thead>\n  <tbody>\n    <tr>\n      <th>1/1/21</th>\n      <td>563692.0</td>\n    </tr>\n    <tr>\n      <th>1/1/22</th>\n      <td>1203137.0</td>\n    </tr>\n    <tr>\n      <th>1/1/23</th>\n      <td>314595.0</td>\n    </tr>\n    <tr>\n      <th>1/10/21</th>\n      <td>601539.0</td>\n    </tr>\n    <tr>\n      <th>1/10/22</th>\n      <td>3251715.0</td>\n    </tr>\n    <tr>\n      <th>...</th>\n      <td>...</td>\n    </tr>\n    <tr>\n      <th>9/8/21</th>\n      <td>637701.0</td>\n    </tr>\n    <tr>\n      <th>9/8/22</th>\n      <td>583960.0</td>\n    </tr>\n    <tr>\n      <th>9/9/20</th>\n      <td>285310.0</td>\n    </tr>\n    <tr>\n      <th>9/9/21</th>\n      <td>640145.0</td>\n    </tr>\n    <tr>\n      <th>9/9/22</th>\n      <td>525628.0</td>\n    </tr>\n  </tbody>\n</table>\n<p>1144 rows × 1 columns</p>\n</div>"
     },
     "execution_count": 55,
     "metadata": {},
     "output_type": "execute_result"
    }
   ],
   "source": [
    "#new cases by date\n",
    "newcases_date = covid19[['Date','New Cases']].groupby(['Date']).sum()\n",
    "newcases_date.rename(columns={'New Cases':\"New Cases by day\"}, inplace=True)\n",
    "newcases_date"
   ],
   "metadata": {
    "collapsed": false,
    "ExecuteTime": {
     "end_time": "2023-12-13T08:58:10.644071Z",
     "start_time": "2023-12-13T08:58:10.592289Z"
    }
   },
   "id": "ddba3ade7a0ecea8"
  },
  {
   "cell_type": "code",
   "execution_count": 56,
   "outputs": [
    {
     "data": {
      "text/plain": "            Country/Region Region Name     Date  Cases by country\n0              Afghanistan        Asia  1/21/20               0.0\n1                  Albania      Europe  1/21/20               0.0\n2                  Algeria      Africa  1/21/20               0.0\n3                  Andorra      Europe  1/21/20               0.0\n4                   Angola      Africa  1/21/20               0.0\n...                    ...         ...      ...               ...\n228795             Vietnam        Asia   3/9/23        11526994.0\n228796  West Bank and Gaza        Asia   3/9/23          703228.0\n228797               Yemen        Asia   3/9/23           11945.0\n228798              Zambia      Africa   3/9/23          343135.0\n228799            Zimbabwe      Africa   3/9/23          264276.0\n\n[228800 rows x 4 columns]",
      "text/html": "<div>\n<style scoped>\n    .dataframe tbody tr th:only-of-type {\n        vertical-align: middle;\n    }\n\n    .dataframe tbody tr th {\n        vertical-align: top;\n    }\n\n    .dataframe thead th {\n        text-align: right;\n    }\n</style>\n<table border=\"1\" class=\"dataframe\">\n  <thead>\n    <tr style=\"text-align: right;\">\n      <th></th>\n      <th>Country/Region</th>\n      <th>Region Name</th>\n      <th>Date</th>\n      <th>Cases by country</th>\n    </tr>\n  </thead>\n  <tbody>\n    <tr>\n      <th>0</th>\n      <td>Afghanistan</td>\n      <td>Asia</td>\n      <td>1/21/20</td>\n      <td>0.0</td>\n    </tr>\n    <tr>\n      <th>1</th>\n      <td>Albania</td>\n      <td>Europe</td>\n      <td>1/21/20</td>\n      <td>0.0</td>\n    </tr>\n    <tr>\n      <th>2</th>\n      <td>Algeria</td>\n      <td>Africa</td>\n      <td>1/21/20</td>\n      <td>0.0</td>\n    </tr>\n    <tr>\n      <th>3</th>\n      <td>Andorra</td>\n      <td>Europe</td>\n      <td>1/21/20</td>\n      <td>0.0</td>\n    </tr>\n    <tr>\n      <th>4</th>\n      <td>Angola</td>\n      <td>Africa</td>\n      <td>1/21/20</td>\n      <td>0.0</td>\n    </tr>\n    <tr>\n      <th>...</th>\n      <td>...</td>\n      <td>...</td>\n      <td>...</td>\n      <td>...</td>\n    </tr>\n    <tr>\n      <th>228795</th>\n      <td>Vietnam</td>\n      <td>Asia</td>\n      <td>3/9/23</td>\n      <td>11526994.0</td>\n    </tr>\n    <tr>\n      <th>228796</th>\n      <td>West Bank and Gaza</td>\n      <td>Asia</td>\n      <td>3/9/23</td>\n      <td>703228.0</td>\n    </tr>\n    <tr>\n      <th>228797</th>\n      <td>Yemen</td>\n      <td>Asia</td>\n      <td>3/9/23</td>\n      <td>11945.0</td>\n    </tr>\n    <tr>\n      <th>228798</th>\n      <td>Zambia</td>\n      <td>Africa</td>\n      <td>3/9/23</td>\n      <td>343135.0</td>\n    </tr>\n    <tr>\n      <th>228799</th>\n      <td>Zimbabwe</td>\n      <td>Africa</td>\n      <td>3/9/23</td>\n      <td>264276.0</td>\n    </tr>\n  </tbody>\n</table>\n<p>228800 rows × 4 columns</p>\n</div>"
     },
     "execution_count": 56,
     "metadata": {},
     "output_type": "execute_result"
    }
   ],
   "source": [
    "#Nombre de cas par Pays cumulé\n",
    "data.reset_index().melt(id_vars=['Country/Region','Region Name'],var_name='Date', value_name='Cases by country')"
   ],
   "metadata": {
    "collapsed": false,
    "ExecuteTime": {
     "end_time": "2023-12-13T08:58:10.645414Z",
     "start_time": "2023-12-13T08:58:10.603421Z"
    }
   },
   "id": "4ace920e0615bd11"
  },
  {
   "cell_type": "code",
   "execution_count": 57,
   "outputs": [
    {
     "data": {
      "text/plain": "     Region Name     Date  Case by Region\n0         Africa  1/21/20             0.0\n1       Americas  1/21/20             0.0\n2           Asia  1/21/20             0.0\n3         Europe  1/21/20             0.0\n4        Oceania  1/21/20             0.0\n...          ...      ...             ...\n5715      Africa   3/9/23      13059037.0\n5716    Americas   3/9/23     191238459.0\n5717        Asia   3/9/23     211418050.0\n5718      Europe   3/9/23     246814428.0\n5719     Oceania   3/9/23      14014081.0\n\n[5720 rows x 3 columns]",
      "text/html": "<div>\n<style scoped>\n    .dataframe tbody tr th:only-of-type {\n        vertical-align: middle;\n    }\n\n    .dataframe tbody tr th {\n        vertical-align: top;\n    }\n\n    .dataframe thead th {\n        text-align: right;\n    }\n</style>\n<table border=\"1\" class=\"dataframe\">\n  <thead>\n    <tr style=\"text-align: right;\">\n      <th></th>\n      <th>Region Name</th>\n      <th>Date</th>\n      <th>Case by Region</th>\n    </tr>\n  </thead>\n  <tbody>\n    <tr>\n      <th>0</th>\n      <td>Africa</td>\n      <td>1/21/20</td>\n      <td>0.0</td>\n    </tr>\n    <tr>\n      <th>1</th>\n      <td>Americas</td>\n      <td>1/21/20</td>\n      <td>0.0</td>\n    </tr>\n    <tr>\n      <th>2</th>\n      <td>Asia</td>\n      <td>1/21/20</td>\n      <td>0.0</td>\n    </tr>\n    <tr>\n      <th>3</th>\n      <td>Europe</td>\n      <td>1/21/20</td>\n      <td>0.0</td>\n    </tr>\n    <tr>\n      <th>4</th>\n      <td>Oceania</td>\n      <td>1/21/20</td>\n      <td>0.0</td>\n    </tr>\n    <tr>\n      <th>...</th>\n      <td>...</td>\n      <td>...</td>\n      <td>...</td>\n    </tr>\n    <tr>\n      <th>5715</th>\n      <td>Africa</td>\n      <td>3/9/23</td>\n      <td>13059037.0</td>\n    </tr>\n    <tr>\n      <th>5716</th>\n      <td>Americas</td>\n      <td>3/9/23</td>\n      <td>191238459.0</td>\n    </tr>\n    <tr>\n      <th>5717</th>\n      <td>Asia</td>\n      <td>3/9/23</td>\n      <td>211418050.0</td>\n    </tr>\n    <tr>\n      <th>5718</th>\n      <td>Europe</td>\n      <td>3/9/23</td>\n      <td>246814428.0</td>\n    </tr>\n    <tr>\n      <th>5719</th>\n      <td>Oceania</td>\n      <td>3/9/23</td>\n      <td>14014081.0</td>\n    </tr>\n  </tbody>\n</table>\n<p>5720 rows × 3 columns</p>\n</div>"
     },
     "execution_count": 57,
     "metadata": {},
     "output_type": "execute_result"
    }
   ],
   "source": [
    "# Nombre de cas par continent cumulé\n",
    "continent_cumsum = data.groupby(['Region Name']).sum().reset_index().melt(id_vars=['Region Name'],var_name='Date', value_name='Case by Region')\n",
    "continent_cumsum"
   ],
   "metadata": {
    "collapsed": false,
    "ExecuteTime": {
     "end_time": "2023-12-13T08:58:10.739689Z",
     "start_time": "2023-12-13T08:58:10.641436Z"
    }
   },
   "id": "b2c36158b6ee8ad0"
  },
  {
   "cell_type": "code",
   "execution_count": 58,
   "outputs": [
    {
     "data": {
      "text/plain": "     Region Name     Date  New Cases by region/day\n0         Africa   1/1/21                  27814.0\n1         Africa   1/1/22                  40559.0\n2         Africa   1/1/23                    514.0\n3         Africa  1/10/21                  31638.0\n4         Africa  1/10/22                  37673.0\n...          ...      ...                      ...\n5715     Oceania   9/8/21                   1992.0\n5716     Oceania   9/8/22                   9461.0\n5717     Oceania   9/9/20                     87.0\n5718     Oceania   9/9/21                   2445.0\n5719     Oceania   9/9/22                   2061.0\n\n[5720 rows x 3 columns]",
      "text/html": "<div>\n<style scoped>\n    .dataframe tbody tr th:only-of-type {\n        vertical-align: middle;\n    }\n\n    .dataframe tbody tr th {\n        vertical-align: top;\n    }\n\n    .dataframe thead th {\n        text-align: right;\n    }\n</style>\n<table border=\"1\" class=\"dataframe\">\n  <thead>\n    <tr style=\"text-align: right;\">\n      <th></th>\n      <th>Region Name</th>\n      <th>Date</th>\n      <th>New Cases by region/day</th>\n    </tr>\n  </thead>\n  <tbody>\n    <tr>\n      <th>0</th>\n      <td>Africa</td>\n      <td>1/1/21</td>\n      <td>27814.0</td>\n    </tr>\n    <tr>\n      <th>1</th>\n      <td>Africa</td>\n      <td>1/1/22</td>\n      <td>40559.0</td>\n    </tr>\n    <tr>\n      <th>2</th>\n      <td>Africa</td>\n      <td>1/1/23</td>\n      <td>514.0</td>\n    </tr>\n    <tr>\n      <th>3</th>\n      <td>Africa</td>\n      <td>1/10/21</td>\n      <td>31638.0</td>\n    </tr>\n    <tr>\n      <th>4</th>\n      <td>Africa</td>\n      <td>1/10/22</td>\n      <td>37673.0</td>\n    </tr>\n    <tr>\n      <th>...</th>\n      <td>...</td>\n      <td>...</td>\n      <td>...</td>\n    </tr>\n    <tr>\n      <th>5715</th>\n      <td>Oceania</td>\n      <td>9/8/21</td>\n      <td>1992.0</td>\n    </tr>\n    <tr>\n      <th>5716</th>\n      <td>Oceania</td>\n      <td>9/8/22</td>\n      <td>9461.0</td>\n    </tr>\n    <tr>\n      <th>5717</th>\n      <td>Oceania</td>\n      <td>9/9/20</td>\n      <td>87.0</td>\n    </tr>\n    <tr>\n      <th>5718</th>\n      <td>Oceania</td>\n      <td>9/9/21</td>\n      <td>2445.0</td>\n    </tr>\n    <tr>\n      <th>5719</th>\n      <td>Oceania</td>\n      <td>9/9/22</td>\n      <td>2061.0</td>\n    </tr>\n  </tbody>\n</table>\n<p>5720 rows × 3 columns</p>\n</div>"
     },
     "execution_count": 58,
     "metadata": {},
     "output_type": "execute_result"
    }
   ],
   "source": [
    "# Nouveau cas par région\n",
    "newcases_date_region = covid19[['Date','Region Name','New Cases']].groupby(['Region Name','Date']).sum()\n",
    "newcases_date_region.reset_index(inplace=True)\n",
    "newcases_date_region.rename(columns={'New Cases':\"New Cases by region/day\"}, inplace=True)\n",
    "newcases_date_region"
   ],
   "metadata": {
    "collapsed": false,
    "ExecuteTime": {
     "end_time": "2023-12-13T08:58:10.788240Z",
     "start_time": "2023-12-13T08:58:10.689800Z"
    }
   },
   "id": "8b4a292d1d40c436"
  },
  {
   "cell_type": "code",
   "execution_count": 59,
   "outputs": [
    {
     "data": {
      "text/plain": "         Date  Global Cases\n0     1/21/20           0.0\n1     1/22/20         557.0\n2     1/23/20         657.0\n3     1/24/20         944.0\n4     1/25/20        1437.0\n...       ...           ...\n1139   3/5/23   675998807.0\n1140   3/6/23   676056847.0\n1141   3/7/23   676187284.0\n1142   3/8/23   676366730.0\n1143   3/9/23   676544055.0\n\n[1144 rows x 2 columns]",
      "text/html": "<div>\n<style scoped>\n    .dataframe tbody tr th:only-of-type {\n        vertical-align: middle;\n    }\n\n    .dataframe tbody tr th {\n        vertical-align: top;\n    }\n\n    .dataframe thead th {\n        text-align: right;\n    }\n</style>\n<table border=\"1\" class=\"dataframe\">\n  <thead>\n    <tr style=\"text-align: right;\">\n      <th></th>\n      <th>Date</th>\n      <th>Global Cases</th>\n    </tr>\n  </thead>\n  <tbody>\n    <tr>\n      <th>0</th>\n      <td>1/21/20</td>\n      <td>0.0</td>\n    </tr>\n    <tr>\n      <th>1</th>\n      <td>1/22/20</td>\n      <td>557.0</td>\n    </tr>\n    <tr>\n      <th>2</th>\n      <td>1/23/20</td>\n      <td>657.0</td>\n    </tr>\n    <tr>\n      <th>3</th>\n      <td>1/24/20</td>\n      <td>944.0</td>\n    </tr>\n    <tr>\n      <th>4</th>\n      <td>1/25/20</td>\n      <td>1437.0</td>\n    </tr>\n    <tr>\n      <th>...</th>\n      <td>...</td>\n      <td>...</td>\n    </tr>\n    <tr>\n      <th>1139</th>\n      <td>3/5/23</td>\n      <td>675998807.0</td>\n    </tr>\n    <tr>\n      <th>1140</th>\n      <td>3/6/23</td>\n      <td>676056847.0</td>\n    </tr>\n    <tr>\n      <th>1141</th>\n      <td>3/7/23</td>\n      <td>676187284.0</td>\n    </tr>\n    <tr>\n      <th>1142</th>\n      <td>3/8/23</td>\n      <td>676366730.0</td>\n    </tr>\n    <tr>\n      <th>1143</th>\n      <td>3/9/23</td>\n      <td>676544055.0</td>\n    </tr>\n  </tbody>\n</table>\n<p>1144 rows × 2 columns</p>\n</div>"
     },
     "execution_count": 59,
     "metadata": {},
     "output_type": "execute_result"
    }
   ],
   "source": [
    "# Nombre de cas world cumulé\n",
    "world_cumsum = data.T.sum(1).reset_index()\n",
    "world_cumsum.columns = ['Date','Global Cases']\n",
    "world_cumsum"
   ],
   "metadata": {
    "collapsed": false,
    "ExecuteTime": {
     "end_time": "2023-12-13T08:58:10.788880Z",
     "start_time": "2023-12-13T08:58:10.713600Z"
    }
   },
   "id": "dd06c1dea84cd717"
  },
  {
   "cell_type": "code",
   "execution_count": 60,
   "outputs": [
    {
     "data": {
      "text/plain": "            Country/Region Region Name     Date  New Cases\n0              Afghanistan        Asia  1/21/20        0.0\n1                  Albania      Europe  1/21/20        0.0\n2                  Algeria      Africa  1/21/20        0.0\n3                  Andorra      Europe  1/21/20        0.0\n4                   Angola      Africa  1/21/20        0.0\n...                    ...         ...      ...        ...\n228795             Vietnam        Asia   3/9/23        0.0\n228796  West Bank and Gaza        Asia   3/9/23        0.0\n228797               Yemen        Asia   3/9/23        0.0\n228798              Zambia      Africa   3/9/23        0.0\n228799            Zimbabwe      Africa   3/9/23        0.0\n\n[228800 rows x 4 columns]",
      "text/html": "<div>\n<style scoped>\n    .dataframe tbody tr th:only-of-type {\n        vertical-align: middle;\n    }\n\n    .dataframe tbody tr th {\n        vertical-align: top;\n    }\n\n    .dataframe thead th {\n        text-align: right;\n    }\n</style>\n<table border=\"1\" class=\"dataframe\">\n  <thead>\n    <tr style=\"text-align: right;\">\n      <th></th>\n      <th>Country/Region</th>\n      <th>Region Name</th>\n      <th>Date</th>\n      <th>New Cases</th>\n    </tr>\n  </thead>\n  <tbody>\n    <tr>\n      <th>0</th>\n      <td>Afghanistan</td>\n      <td>Asia</td>\n      <td>1/21/20</td>\n      <td>0.0</td>\n    </tr>\n    <tr>\n      <th>1</th>\n      <td>Albania</td>\n      <td>Europe</td>\n      <td>1/21/20</td>\n      <td>0.0</td>\n    </tr>\n    <tr>\n      <th>2</th>\n      <td>Algeria</td>\n      <td>Africa</td>\n      <td>1/21/20</td>\n      <td>0.0</td>\n    </tr>\n    <tr>\n      <th>3</th>\n      <td>Andorra</td>\n      <td>Europe</td>\n      <td>1/21/20</td>\n      <td>0.0</td>\n    </tr>\n    <tr>\n      <th>4</th>\n      <td>Angola</td>\n      <td>Africa</td>\n      <td>1/21/20</td>\n      <td>0.0</td>\n    </tr>\n    <tr>\n      <th>...</th>\n      <td>...</td>\n      <td>...</td>\n      <td>...</td>\n      <td>...</td>\n    </tr>\n    <tr>\n      <th>228795</th>\n      <td>Vietnam</td>\n      <td>Asia</td>\n      <td>3/9/23</td>\n      <td>0.0</td>\n    </tr>\n    <tr>\n      <th>228796</th>\n      <td>West Bank and Gaza</td>\n      <td>Asia</td>\n      <td>3/9/23</td>\n      <td>0.0</td>\n    </tr>\n    <tr>\n      <th>228797</th>\n      <td>Yemen</td>\n      <td>Asia</td>\n      <td>3/9/23</td>\n      <td>0.0</td>\n    </tr>\n    <tr>\n      <th>228798</th>\n      <td>Zambia</td>\n      <td>Africa</td>\n      <td>3/9/23</td>\n      <td>0.0</td>\n    </tr>\n    <tr>\n      <th>228799</th>\n      <td>Zimbabwe</td>\n      <td>Africa</td>\n      <td>3/9/23</td>\n      <td>0.0</td>\n    </tr>\n  </tbody>\n</table>\n<p>228800 rows × 4 columns</p>\n</div>"
     },
     "execution_count": 60,
     "metadata": {},
     "output_type": "execute_result"
    }
   ],
   "source": [
    "covid19"
   ],
   "metadata": {
    "collapsed": false,
    "ExecuteTime": {
     "end_time": "2023-12-13T08:58:10.789066Z",
     "start_time": "2023-12-13T08:58:10.720078Z"
    }
   },
   "id": "8e6eb4716fac31a0"
  },
  {
   "cell_type": "code",
   "execution_count": 61,
   "outputs": [],
   "source": [
    "covid19 = covid19.merge(world_cumsum, how='left',on='Date').merge(continent_cumsum, how='left', on=['Region Name','Date'])"
   ],
   "metadata": {
    "collapsed": false,
    "ExecuteTime": {
     "end_time": "2023-12-13T08:58:10.843950Z",
     "start_time": "2023-12-13T08:58:10.729404Z"
    }
   },
   "id": "c9d43465938f18f9"
  },
  {
   "cell_type": "code",
   "execution_count": 62,
   "outputs": [],
   "source": [
    "covid19 = covid19.merge(newcases_date, how='left', on='Date').merge(newcases_date_region, how='left', on=['Region Name','Date'])"
   ],
   "metadata": {
    "collapsed": false,
    "ExecuteTime": {
     "end_time": "2023-12-13T08:58:10.852019Z",
     "start_time": "2023-12-13T08:58:10.768173Z"
    }
   },
   "id": "28e820132fb74dcd"
  },
  {
   "cell_type": "code",
   "execution_count": 63,
   "outputs": [
    {
     "data": {
      "text/plain": "            Country/Region Region Name     Date  New Cases  Global Cases  \\\n0              Afghanistan        Asia  1/21/20        0.0           0.0   \n1                  Albania      Europe  1/21/20        0.0           0.0   \n2                  Algeria      Africa  1/21/20        0.0           0.0   \n3                  Andorra      Europe  1/21/20        0.0           0.0   \n4                   Angola      Africa  1/21/20        0.0           0.0   \n...                    ...         ...      ...        ...           ...   \n228795             Vietnam        Asia   3/9/23        0.0   676544055.0   \n228796  West Bank and Gaza        Asia   3/9/23        0.0   676544055.0   \n228797               Yemen        Asia   3/9/23        0.0   676544055.0   \n228798              Zambia      Africa   3/9/23        0.0   676544055.0   \n228799            Zimbabwe      Africa   3/9/23        0.0   676544055.0   \n\n        Case by Region  New Cases by day  New Cases by region/day  \n0                  0.0               0.0                      0.0  \n1                  0.0               0.0                      0.0  \n2                  0.0               0.0                      0.0  \n3                  0.0               0.0                      0.0  \n4                  0.0               0.0                      0.0  \n...                ...               ...                      ...  \n228795     211418050.0          177325.0                  23308.0  \n228796     211418050.0          177325.0                  23308.0  \n228797     211418050.0          177325.0                  23308.0  \n228798      13059037.0          177325.0                    451.0  \n228799      13059037.0          177325.0                    451.0  \n\n[228800 rows x 8 columns]",
      "text/html": "<div>\n<style scoped>\n    .dataframe tbody tr th:only-of-type {\n        vertical-align: middle;\n    }\n\n    .dataframe tbody tr th {\n        vertical-align: top;\n    }\n\n    .dataframe thead th {\n        text-align: right;\n    }\n</style>\n<table border=\"1\" class=\"dataframe\">\n  <thead>\n    <tr style=\"text-align: right;\">\n      <th></th>\n      <th>Country/Region</th>\n      <th>Region Name</th>\n      <th>Date</th>\n      <th>New Cases</th>\n      <th>Global Cases</th>\n      <th>Case by Region</th>\n      <th>New Cases by day</th>\n      <th>New Cases by region/day</th>\n    </tr>\n  </thead>\n  <tbody>\n    <tr>\n      <th>0</th>\n      <td>Afghanistan</td>\n      <td>Asia</td>\n      <td>1/21/20</td>\n      <td>0.0</td>\n      <td>0.0</td>\n      <td>0.0</td>\n      <td>0.0</td>\n      <td>0.0</td>\n    </tr>\n    <tr>\n      <th>1</th>\n      <td>Albania</td>\n      <td>Europe</td>\n      <td>1/21/20</td>\n      <td>0.0</td>\n      <td>0.0</td>\n      <td>0.0</td>\n      <td>0.0</td>\n      <td>0.0</td>\n    </tr>\n    <tr>\n      <th>2</th>\n      <td>Algeria</td>\n      <td>Africa</td>\n      <td>1/21/20</td>\n      <td>0.0</td>\n      <td>0.0</td>\n      <td>0.0</td>\n      <td>0.0</td>\n      <td>0.0</td>\n    </tr>\n    <tr>\n      <th>3</th>\n      <td>Andorra</td>\n      <td>Europe</td>\n      <td>1/21/20</td>\n      <td>0.0</td>\n      <td>0.0</td>\n      <td>0.0</td>\n      <td>0.0</td>\n      <td>0.0</td>\n    </tr>\n    <tr>\n      <th>4</th>\n      <td>Angola</td>\n      <td>Africa</td>\n      <td>1/21/20</td>\n      <td>0.0</td>\n      <td>0.0</td>\n      <td>0.0</td>\n      <td>0.0</td>\n      <td>0.0</td>\n    </tr>\n    <tr>\n      <th>...</th>\n      <td>...</td>\n      <td>...</td>\n      <td>...</td>\n      <td>...</td>\n      <td>...</td>\n      <td>...</td>\n      <td>...</td>\n      <td>...</td>\n    </tr>\n    <tr>\n      <th>228795</th>\n      <td>Vietnam</td>\n      <td>Asia</td>\n      <td>3/9/23</td>\n      <td>0.0</td>\n      <td>676544055.0</td>\n      <td>211418050.0</td>\n      <td>177325.0</td>\n      <td>23308.0</td>\n    </tr>\n    <tr>\n      <th>228796</th>\n      <td>West Bank and Gaza</td>\n      <td>Asia</td>\n      <td>3/9/23</td>\n      <td>0.0</td>\n      <td>676544055.0</td>\n      <td>211418050.0</td>\n      <td>177325.0</td>\n      <td>23308.0</td>\n    </tr>\n    <tr>\n      <th>228797</th>\n      <td>Yemen</td>\n      <td>Asia</td>\n      <td>3/9/23</td>\n      <td>0.0</td>\n      <td>676544055.0</td>\n      <td>211418050.0</td>\n      <td>177325.0</td>\n      <td>23308.0</td>\n    </tr>\n    <tr>\n      <th>228798</th>\n      <td>Zambia</td>\n      <td>Africa</td>\n      <td>3/9/23</td>\n      <td>0.0</td>\n      <td>676544055.0</td>\n      <td>13059037.0</td>\n      <td>177325.0</td>\n      <td>451.0</td>\n    </tr>\n    <tr>\n      <th>228799</th>\n      <td>Zimbabwe</td>\n      <td>Africa</td>\n      <td>3/9/23</td>\n      <td>0.0</td>\n      <td>676544055.0</td>\n      <td>13059037.0</td>\n      <td>177325.0</td>\n      <td>451.0</td>\n    </tr>\n  </tbody>\n</table>\n<p>228800 rows × 8 columns</p>\n</div>"
     },
     "execution_count": 63,
     "metadata": {},
     "output_type": "execute_result"
    }
   ],
   "source": [
    "covid19"
   ],
   "metadata": {
    "collapsed": false,
    "ExecuteTime": {
     "end_time": "2023-12-13T08:58:10.876189Z",
     "start_time": "2023-12-13T08:58:10.808737Z"
    }
   },
   "id": "1916e88234a71a56"
  },
  {
   "cell_type": "code",
   "execution_count": 64,
   "outputs": [],
   "source": [
    "covid19.to_csv('data/covid19_Looker_v2.csv', index=False)"
   ],
   "metadata": {
    "collapsed": false,
    "ExecuteTime": {
     "end_time": "2023-12-13T08:58:11.272453Z",
     "start_time": "2023-12-13T08:58:10.814875Z"
    }
   },
   "id": "f84ff453e268674"
  },
  {
   "cell_type": "code",
   "execution_count": 65,
   "outputs": [],
   "source": [
    "covid19_fr = covid19[(covid19['Country/Region']==\"France\") & (covid19['Region Name']==\"Europe\")][['Date','New Cases']]"
   ],
   "metadata": {
    "collapsed": false,
    "ExecuteTime": {
     "end_time": "2023-12-13T08:58:11.289708Z",
     "start_time": "2023-12-13T08:58:11.286644Z"
    }
   },
   "id": "3059b89d2326d366"
  },
  {
   "cell_type": "code",
   "execution_count": 66,
   "outputs": [],
   "source": [
    "covid19_fr.insert(2,'Total Cases',covid19_fr['New Cases'].cumsum())"
   ],
   "metadata": {
    "collapsed": false,
    "ExecuteTime": {
     "end_time": "2023-12-13T08:58:11.296079Z",
     "start_time": "2023-12-13T08:58:11.290178Z"
    }
   },
   "id": "f782b52f06a3a209"
  },
  {
   "cell_type": "code",
   "execution_count": 67,
   "outputs": [],
   "source": [
    "covid19_fr.to_csv('data/covid19_fr.csv', index=False)"
   ],
   "metadata": {
    "collapsed": false,
    "ExecuteTime": {
     "end_time": "2023-12-13T08:58:11.300035Z",
     "start_time": "2023-12-13T08:58:11.292953Z"
    }
   },
   "id": "f8398ad5c37c7550"
  },
  {
   "cell_type": "code",
   "execution_count": 68,
   "outputs": [
    {
     "data": {
      "text/plain": "       YearWeekISO ReportingCountry  FirstDose  SecondDose  DoseAdditional1  \\\n0         2021-W01               AT          0           0                0   \n1         2022-W23               AT         14          12               12   \n2         2021-W32               AT          0           0                0   \n3         2021-W32               AT          0           0                0   \n4         2021-W32               AT          0           0                0   \n...            ...              ...        ...         ...              ...   \n816548    2022-W37               SK          3           3                6   \n816549    2022-W37               SK         42          52              216   \n816550    2022-W36               SK          0           1                0   \n816551    2022-W36               SK          2           0                2   \n816552    2022-W36               SK          4           7                9   \n\n        DoseAdditional2  DoseAdditional3  DoseAdditional4  DoseAdditional5  \\\n0                     0                0                0                0   \n1                     5                0                0                0   \n2                     0                0                0                0   \n3                     0                0                0                0   \n4                     0                0                0                0   \n...                 ...              ...              ...              ...   \n816548                0                0                0                0   \n816549              758                0                0                0   \n816550                1                0                0                0   \n816551                2                1                0                0   \n816552                0                0                0                0   \n\n       TargetGroup  Vaccine  \n0         Age50_59  MODBA.1  \n1         Age18_24     NVXD  \n2         Age10_14  MODBA.1  \n3         Age15_17  MODBA.1  \n4         Age18_24  MODBA.1  \n...            ...      ...  \n816548    Age10_14      COM  \n816549         ALL      COM  \n816550    Age60_69     NVXD  \n816551    Age50_59     NVXD  \n816552    Age25_49     NVXD  \n\n[816553 rows x 11 columns]",
      "text/html": "<div>\n<style scoped>\n    .dataframe tbody tr th:only-of-type {\n        vertical-align: middle;\n    }\n\n    .dataframe tbody tr th {\n        vertical-align: top;\n    }\n\n    .dataframe thead th {\n        text-align: right;\n    }\n</style>\n<table border=\"1\" class=\"dataframe\">\n  <thead>\n    <tr style=\"text-align: right;\">\n      <th></th>\n      <th>YearWeekISO</th>\n      <th>ReportingCountry</th>\n      <th>FirstDose</th>\n      <th>SecondDose</th>\n      <th>DoseAdditional1</th>\n      <th>DoseAdditional2</th>\n      <th>DoseAdditional3</th>\n      <th>DoseAdditional4</th>\n      <th>DoseAdditional5</th>\n      <th>TargetGroup</th>\n      <th>Vaccine</th>\n    </tr>\n  </thead>\n  <tbody>\n    <tr>\n      <th>0</th>\n      <td>2021-W01</td>\n      <td>AT</td>\n      <td>0</td>\n      <td>0</td>\n      <td>0</td>\n      <td>0</td>\n      <td>0</td>\n      <td>0</td>\n      <td>0</td>\n      <td>Age50_59</td>\n      <td>MODBA.1</td>\n    </tr>\n    <tr>\n      <th>1</th>\n      <td>2022-W23</td>\n      <td>AT</td>\n      <td>14</td>\n      <td>12</td>\n      <td>12</td>\n      <td>5</td>\n      <td>0</td>\n      <td>0</td>\n      <td>0</td>\n      <td>Age18_24</td>\n      <td>NVXD</td>\n    </tr>\n    <tr>\n      <th>2</th>\n      <td>2021-W32</td>\n      <td>AT</td>\n      <td>0</td>\n      <td>0</td>\n      <td>0</td>\n      <td>0</td>\n      <td>0</td>\n      <td>0</td>\n      <td>0</td>\n      <td>Age10_14</td>\n      <td>MODBA.1</td>\n    </tr>\n    <tr>\n      <th>3</th>\n      <td>2021-W32</td>\n      <td>AT</td>\n      <td>0</td>\n      <td>0</td>\n      <td>0</td>\n      <td>0</td>\n      <td>0</td>\n      <td>0</td>\n      <td>0</td>\n      <td>Age15_17</td>\n      <td>MODBA.1</td>\n    </tr>\n    <tr>\n      <th>4</th>\n      <td>2021-W32</td>\n      <td>AT</td>\n      <td>0</td>\n      <td>0</td>\n      <td>0</td>\n      <td>0</td>\n      <td>0</td>\n      <td>0</td>\n      <td>0</td>\n      <td>Age18_24</td>\n      <td>MODBA.1</td>\n    </tr>\n    <tr>\n      <th>...</th>\n      <td>...</td>\n      <td>...</td>\n      <td>...</td>\n      <td>...</td>\n      <td>...</td>\n      <td>...</td>\n      <td>...</td>\n      <td>...</td>\n      <td>...</td>\n      <td>...</td>\n      <td>...</td>\n    </tr>\n    <tr>\n      <th>816548</th>\n      <td>2022-W37</td>\n      <td>SK</td>\n      <td>3</td>\n      <td>3</td>\n      <td>6</td>\n      <td>0</td>\n      <td>0</td>\n      <td>0</td>\n      <td>0</td>\n      <td>Age10_14</td>\n      <td>COM</td>\n    </tr>\n    <tr>\n      <th>816549</th>\n      <td>2022-W37</td>\n      <td>SK</td>\n      <td>42</td>\n      <td>52</td>\n      <td>216</td>\n      <td>758</td>\n      <td>0</td>\n      <td>0</td>\n      <td>0</td>\n      <td>ALL</td>\n      <td>COM</td>\n    </tr>\n    <tr>\n      <th>816550</th>\n      <td>2022-W36</td>\n      <td>SK</td>\n      <td>0</td>\n      <td>1</td>\n      <td>0</td>\n      <td>1</td>\n      <td>0</td>\n      <td>0</td>\n      <td>0</td>\n      <td>Age60_69</td>\n      <td>NVXD</td>\n    </tr>\n    <tr>\n      <th>816551</th>\n      <td>2022-W36</td>\n      <td>SK</td>\n      <td>2</td>\n      <td>0</td>\n      <td>2</td>\n      <td>2</td>\n      <td>1</td>\n      <td>0</td>\n      <td>0</td>\n      <td>Age50_59</td>\n      <td>NVXD</td>\n    </tr>\n    <tr>\n      <th>816552</th>\n      <td>2022-W36</td>\n      <td>SK</td>\n      <td>4</td>\n      <td>7</td>\n      <td>9</td>\n      <td>0</td>\n      <td>0</td>\n      <td>0</td>\n      <td>0</td>\n      <td>Age25_49</td>\n      <td>NVXD</td>\n    </tr>\n  </tbody>\n</table>\n<p>816553 rows × 11 columns</p>\n</div>"
     },
     "execution_count": 68,
     "metadata": {},
     "output_type": "execute_result"
    }
   ],
   "source": [
    "vaccins = pd.read_csv('ressources/vaccin.csv')\n",
    "vaccins.drop(columns=['Denominator','NumberDosesReceived',\"NumberDosesExported\",\"FirstDoseRefused\",\"UnknownDose\",\"Region\",\"Population\"], inplace=True)\n",
    "vaccins"
   ],
   "metadata": {
    "collapsed": false,
    "ExecuteTime": {
     "end_time": "2023-12-13T08:58:11.765477Z",
     "start_time": "2023-12-13T08:58:11.297095Z"
    }
   },
   "id": "bee987e4574d8ad3"
  },
  {
   "cell_type": "code",
   "execution_count": 69,
   "outputs": [
    {
     "data": {
      "text/plain": "       YearWeekISO ReportingCountry  FirstDose  SecondDose  DoseAdditional1  \\\n494952    2021-W41               FR         96          61                3   \n494953    2021-W22               FR       2190        6115                0   \n494954    2021-W22               FR       2004        3668                0   \n494955    2021-W22               FR       4002        9191                0   \n494956    2021-W22               FR         15          31                0   \n...            ...              ...        ...         ...              ...   \n517690    2020-W53               FR         86           0                0   \n517691    2020-W53               FR        196           2                0   \n517692    2020-W53               FR         17           0                0   \n517693    2021-W27               FR          0           0                0   \n517694    2021-W27               FR     184348      329532                0   \n\n        DoseAdditional2  DoseAdditional3  DoseAdditional4  DoseAdditional5  \\\n494952                0                0                0                0   \n494953                0                0                0                0   \n494954                0                0                0                0   \n494955                0                0                0                0   \n494956                0                0                0                0   \n...                 ...              ...              ...              ...   \n517690                0                0                0                0   \n517691                0                0                0                0   \n517692                0                0                0                0   \n517693                0                0                0                0   \n517694                0                0                0                0   \n\n       TargetGroup    Vaccine  \n494952    Age70_79        UNK  \n494953      Age80+        UNK  \n494954      Age80+        UNK  \n494955      Age80+        UNK  \n494956      Age80+        UNK  \n...            ...        ...  \n517690         ALL        UNK  \n517691         ALL        UNK  \n517692      Age<18        UNK  \n517693         ALL  MODBA.4-5  \n517694    Age18_24        UNK  \n\n[22743 rows x 11 columns]",
      "text/html": "<div>\n<style scoped>\n    .dataframe tbody tr th:only-of-type {\n        vertical-align: middle;\n    }\n\n    .dataframe tbody tr th {\n        vertical-align: top;\n    }\n\n    .dataframe thead th {\n        text-align: right;\n    }\n</style>\n<table border=\"1\" class=\"dataframe\">\n  <thead>\n    <tr style=\"text-align: right;\">\n      <th></th>\n      <th>YearWeekISO</th>\n      <th>ReportingCountry</th>\n      <th>FirstDose</th>\n      <th>SecondDose</th>\n      <th>DoseAdditional1</th>\n      <th>DoseAdditional2</th>\n      <th>DoseAdditional3</th>\n      <th>DoseAdditional4</th>\n      <th>DoseAdditional5</th>\n      <th>TargetGroup</th>\n      <th>Vaccine</th>\n    </tr>\n  </thead>\n  <tbody>\n    <tr>\n      <th>494952</th>\n      <td>2021-W41</td>\n      <td>FR</td>\n      <td>96</td>\n      <td>61</td>\n      <td>3</td>\n      <td>0</td>\n      <td>0</td>\n      <td>0</td>\n      <td>0</td>\n      <td>Age70_79</td>\n      <td>UNK</td>\n    </tr>\n    <tr>\n      <th>494953</th>\n      <td>2021-W22</td>\n      <td>FR</td>\n      <td>2190</td>\n      <td>6115</td>\n      <td>0</td>\n      <td>0</td>\n      <td>0</td>\n      <td>0</td>\n      <td>0</td>\n      <td>Age80+</td>\n      <td>UNK</td>\n    </tr>\n    <tr>\n      <th>494954</th>\n      <td>2021-W22</td>\n      <td>FR</td>\n      <td>2004</td>\n      <td>3668</td>\n      <td>0</td>\n      <td>0</td>\n      <td>0</td>\n      <td>0</td>\n      <td>0</td>\n      <td>Age80+</td>\n      <td>UNK</td>\n    </tr>\n    <tr>\n      <th>494955</th>\n      <td>2021-W22</td>\n      <td>FR</td>\n      <td>4002</td>\n      <td>9191</td>\n      <td>0</td>\n      <td>0</td>\n      <td>0</td>\n      <td>0</td>\n      <td>0</td>\n      <td>Age80+</td>\n      <td>UNK</td>\n    </tr>\n    <tr>\n      <th>494956</th>\n      <td>2021-W22</td>\n      <td>FR</td>\n      <td>15</td>\n      <td>31</td>\n      <td>0</td>\n      <td>0</td>\n      <td>0</td>\n      <td>0</td>\n      <td>0</td>\n      <td>Age80+</td>\n      <td>UNK</td>\n    </tr>\n    <tr>\n      <th>...</th>\n      <td>...</td>\n      <td>...</td>\n      <td>...</td>\n      <td>...</td>\n      <td>...</td>\n      <td>...</td>\n      <td>...</td>\n      <td>...</td>\n      <td>...</td>\n      <td>...</td>\n      <td>...</td>\n    </tr>\n    <tr>\n      <th>517690</th>\n      <td>2020-W53</td>\n      <td>FR</td>\n      <td>86</td>\n      <td>0</td>\n      <td>0</td>\n      <td>0</td>\n      <td>0</td>\n      <td>0</td>\n      <td>0</td>\n      <td>ALL</td>\n      <td>UNK</td>\n    </tr>\n    <tr>\n      <th>517691</th>\n      <td>2020-W53</td>\n      <td>FR</td>\n      <td>196</td>\n      <td>2</td>\n      <td>0</td>\n      <td>0</td>\n      <td>0</td>\n      <td>0</td>\n      <td>0</td>\n      <td>ALL</td>\n      <td>UNK</td>\n    </tr>\n    <tr>\n      <th>517692</th>\n      <td>2020-W53</td>\n      <td>FR</td>\n      <td>17</td>\n      <td>0</td>\n      <td>0</td>\n      <td>0</td>\n      <td>0</td>\n      <td>0</td>\n      <td>0</td>\n      <td>Age&lt;18</td>\n      <td>UNK</td>\n    </tr>\n    <tr>\n      <th>517693</th>\n      <td>2021-W27</td>\n      <td>FR</td>\n      <td>0</td>\n      <td>0</td>\n      <td>0</td>\n      <td>0</td>\n      <td>0</td>\n      <td>0</td>\n      <td>0</td>\n      <td>ALL</td>\n      <td>MODBA.4-5</td>\n    </tr>\n    <tr>\n      <th>517694</th>\n      <td>2021-W27</td>\n      <td>FR</td>\n      <td>184348</td>\n      <td>329532</td>\n      <td>0</td>\n      <td>0</td>\n      <td>0</td>\n      <td>0</td>\n      <td>0</td>\n      <td>Age18_24</td>\n      <td>UNK</td>\n    </tr>\n  </tbody>\n</table>\n<p>22743 rows × 11 columns</p>\n</div>"
     },
     "execution_count": 69,
     "metadata": {},
     "output_type": "execute_result"
    }
   ],
   "source": [
    "vaccins[vaccins.ReportingCountry=='FR']"
   ],
   "metadata": {
    "collapsed": false,
    "ExecuteTime": {
     "end_time": "2023-12-13T08:58:11.814899Z",
     "start_time": "2023-12-13T08:58:11.787185Z"
    }
   },
   "id": "5325f936b0bb40e9"
  },
  {
   "cell_type": "code",
   "execution_count": 70,
   "outputs": [],
   "source": [
    "col_DoseAdditional = ['DoseAdditional1','DoseAdditional2','DoseAdditional3','DoseAdditional4','DoseAdditional5']\n",
    "DoseAdditional = vaccins[col_DoseAdditional].sum(axis=1)\n",
    "vaccins.insert(4,\"DoseAdditional\",DoseAdditional)\n",
    "vaccins.drop(columns=col_DoseAdditional, inplace=True)"
   ],
   "metadata": {
    "collapsed": false,
    "ExecuteTime": {
     "end_time": "2023-12-13T08:58:11.885690Z",
     "start_time": "2023-12-13T08:58:11.794482Z"
    }
   },
   "id": "6689d84fd8c5d892"
  },
  {
   "cell_type": "code",
   "execution_count": 71,
   "outputs": [],
   "source": [
    "vaccins.insert(0,\"Date\",pd.to_datetime(vaccins.YearWeekISO+\"-1\", format='%Y-W%U-%w'))\n",
    "vaccins.drop(columns='YearWeekISO', inplace=True)"
   ],
   "metadata": {
    "collapsed": false,
    "ExecuteTime": {
     "end_time": "2023-12-13T08:58:11.961171Z",
     "start_time": "2023-12-13T08:58:11.863276Z"
    }
   },
   "id": "9c666f553e70671b"
  },
  {
   "cell_type": "code",
   "execution_count": 72,
   "outputs": [
    {
     "data": {
      "text/plain": "             Date ReportingCountry  FirstDose  SecondDose  DoseAdditional  \\\n0      2021-01-04               AT          0           0               0   \n1      2022-06-06               AT         14          12              17   \n2      2021-08-09               AT          0           0               0   \n3      2021-08-09               AT          0           0               0   \n4      2021-08-09               AT          0           0               0   \n...           ...              ...        ...         ...             ...   \n816548 2022-09-12               SK          3           3               6   \n816549 2022-09-12               SK         42          52             974   \n816550 2022-09-05               SK          0           1               1   \n816551 2022-09-05               SK          2           0               5   \n816552 2022-09-05               SK          4           7               9   \n\n       TargetGroup  Vaccine  \n0         Age50_59  MODBA.1  \n1         Age18_24     NVXD  \n2         Age10_14  MODBA.1  \n3         Age15_17  MODBA.1  \n4         Age18_24  MODBA.1  \n...            ...      ...  \n816548    Age10_14      COM  \n816549         ALL      COM  \n816550    Age60_69     NVXD  \n816551    Age50_59     NVXD  \n816552    Age25_49     NVXD  \n\n[816553 rows x 7 columns]",
      "text/html": "<div>\n<style scoped>\n    .dataframe tbody tr th:only-of-type {\n        vertical-align: middle;\n    }\n\n    .dataframe tbody tr th {\n        vertical-align: top;\n    }\n\n    .dataframe thead th {\n        text-align: right;\n    }\n</style>\n<table border=\"1\" class=\"dataframe\">\n  <thead>\n    <tr style=\"text-align: right;\">\n      <th></th>\n      <th>Date</th>\n      <th>ReportingCountry</th>\n      <th>FirstDose</th>\n      <th>SecondDose</th>\n      <th>DoseAdditional</th>\n      <th>TargetGroup</th>\n      <th>Vaccine</th>\n    </tr>\n  </thead>\n  <tbody>\n    <tr>\n      <th>0</th>\n      <td>2021-01-04</td>\n      <td>AT</td>\n      <td>0</td>\n      <td>0</td>\n      <td>0</td>\n      <td>Age50_59</td>\n      <td>MODBA.1</td>\n    </tr>\n    <tr>\n      <th>1</th>\n      <td>2022-06-06</td>\n      <td>AT</td>\n      <td>14</td>\n      <td>12</td>\n      <td>17</td>\n      <td>Age18_24</td>\n      <td>NVXD</td>\n    </tr>\n    <tr>\n      <th>2</th>\n      <td>2021-08-09</td>\n      <td>AT</td>\n      <td>0</td>\n      <td>0</td>\n      <td>0</td>\n      <td>Age10_14</td>\n      <td>MODBA.1</td>\n    </tr>\n    <tr>\n      <th>3</th>\n      <td>2021-08-09</td>\n      <td>AT</td>\n      <td>0</td>\n      <td>0</td>\n      <td>0</td>\n      <td>Age15_17</td>\n      <td>MODBA.1</td>\n    </tr>\n    <tr>\n      <th>4</th>\n      <td>2021-08-09</td>\n      <td>AT</td>\n      <td>0</td>\n      <td>0</td>\n      <td>0</td>\n      <td>Age18_24</td>\n      <td>MODBA.1</td>\n    </tr>\n    <tr>\n      <th>...</th>\n      <td>...</td>\n      <td>...</td>\n      <td>...</td>\n      <td>...</td>\n      <td>...</td>\n      <td>...</td>\n      <td>...</td>\n    </tr>\n    <tr>\n      <th>816548</th>\n      <td>2022-09-12</td>\n      <td>SK</td>\n      <td>3</td>\n      <td>3</td>\n      <td>6</td>\n      <td>Age10_14</td>\n      <td>COM</td>\n    </tr>\n    <tr>\n      <th>816549</th>\n      <td>2022-09-12</td>\n      <td>SK</td>\n      <td>42</td>\n      <td>52</td>\n      <td>974</td>\n      <td>ALL</td>\n      <td>COM</td>\n    </tr>\n    <tr>\n      <th>816550</th>\n      <td>2022-09-05</td>\n      <td>SK</td>\n      <td>0</td>\n      <td>1</td>\n      <td>1</td>\n      <td>Age60_69</td>\n      <td>NVXD</td>\n    </tr>\n    <tr>\n      <th>816551</th>\n      <td>2022-09-05</td>\n      <td>SK</td>\n      <td>2</td>\n      <td>0</td>\n      <td>5</td>\n      <td>Age50_59</td>\n      <td>NVXD</td>\n    </tr>\n    <tr>\n      <th>816552</th>\n      <td>2022-09-05</td>\n      <td>SK</td>\n      <td>4</td>\n      <td>7</td>\n      <td>9</td>\n      <td>Age25_49</td>\n      <td>NVXD</td>\n    </tr>\n  </tbody>\n</table>\n<p>816553 rows × 7 columns</p>\n</div>"
     },
     "execution_count": 72,
     "metadata": {},
     "output_type": "execute_result"
    }
   ],
   "source": [
    "vaccins"
   ],
   "metadata": {
    "collapsed": false,
    "ExecuteTime": {
     "end_time": "2023-12-13T08:58:11.967264Z",
     "start_time": "2023-12-13T08:58:11.961487Z"
    }
   },
   "id": "582b8ecfc91cce05"
  },
  {
   "cell_type": "code",
   "execution_count": 73,
   "outputs": [],
   "source": [
    "vaccins_fr = vaccins[vaccins.ReportingCountry=='FR'].drop(columns='ReportingCountry')"
   ],
   "metadata": {
    "collapsed": false,
    "ExecuteTime": {
     "end_time": "2023-12-13T08:58:12.022130Z",
     "start_time": "2023-12-13T08:58:11.988578Z"
    }
   },
   "id": "c823aa5dc15caf9c"
  },
  {
   "cell_type": "code",
   "execution_count": 74,
   "outputs": [],
   "source": [
    "vaccins_fr = vaccins_fr.melt(id_vars=['Date','TargetGroup','Vaccine'], var_name='Doses', value_name='Count')"
   ],
   "metadata": {
    "collapsed": false,
    "ExecuteTime": {
     "end_time": "2023-12-13T08:58:12.022624Z",
     "start_time": "2023-12-13T08:58:11.992789Z"
    }
   },
   "id": "a7e07ca1ec61485"
  },
  {
   "cell_type": "code",
   "execution_count": 75,
   "outputs": [
    {
     "data": {
      "text/plain": "            Date TargetGroup    Vaccine           Doses  Count\n0     2021-10-11    Age70_79        UNK       FirstDose     96\n1     2021-05-31      Age80+        UNK       FirstDose   2190\n2     2021-05-31      Age80+        UNK       FirstDose   2004\n3     2021-05-31      Age80+        UNK       FirstDose   4002\n4     2021-05-31      Age80+        UNK       FirstDose     15\n...          ...         ...        ...             ...    ...\n68224 2021-01-04         ALL        UNK  DoseAdditional      0\n68225 2021-01-04         ALL        UNK  DoseAdditional      0\n68226 2021-01-04      Age<18        UNK  DoseAdditional      0\n68227 2021-07-05         ALL  MODBA.4-5  DoseAdditional      0\n68228 2021-07-05    Age18_24        UNK  DoseAdditional      0\n\n[68229 rows x 5 columns]",
      "text/html": "<div>\n<style scoped>\n    .dataframe tbody tr th:only-of-type {\n        vertical-align: middle;\n    }\n\n    .dataframe tbody tr th {\n        vertical-align: top;\n    }\n\n    .dataframe thead th {\n        text-align: right;\n    }\n</style>\n<table border=\"1\" class=\"dataframe\">\n  <thead>\n    <tr style=\"text-align: right;\">\n      <th></th>\n      <th>Date</th>\n      <th>TargetGroup</th>\n      <th>Vaccine</th>\n      <th>Doses</th>\n      <th>Count</th>\n    </tr>\n  </thead>\n  <tbody>\n    <tr>\n      <th>0</th>\n      <td>2021-10-11</td>\n      <td>Age70_79</td>\n      <td>UNK</td>\n      <td>FirstDose</td>\n      <td>96</td>\n    </tr>\n    <tr>\n      <th>1</th>\n      <td>2021-05-31</td>\n      <td>Age80+</td>\n      <td>UNK</td>\n      <td>FirstDose</td>\n      <td>2190</td>\n    </tr>\n    <tr>\n      <th>2</th>\n      <td>2021-05-31</td>\n      <td>Age80+</td>\n      <td>UNK</td>\n      <td>FirstDose</td>\n      <td>2004</td>\n    </tr>\n    <tr>\n      <th>3</th>\n      <td>2021-05-31</td>\n      <td>Age80+</td>\n      <td>UNK</td>\n      <td>FirstDose</td>\n      <td>4002</td>\n    </tr>\n    <tr>\n      <th>4</th>\n      <td>2021-05-31</td>\n      <td>Age80+</td>\n      <td>UNK</td>\n      <td>FirstDose</td>\n      <td>15</td>\n    </tr>\n    <tr>\n      <th>...</th>\n      <td>...</td>\n      <td>...</td>\n      <td>...</td>\n      <td>...</td>\n      <td>...</td>\n    </tr>\n    <tr>\n      <th>68224</th>\n      <td>2021-01-04</td>\n      <td>ALL</td>\n      <td>UNK</td>\n      <td>DoseAdditional</td>\n      <td>0</td>\n    </tr>\n    <tr>\n      <th>68225</th>\n      <td>2021-01-04</td>\n      <td>ALL</td>\n      <td>UNK</td>\n      <td>DoseAdditional</td>\n      <td>0</td>\n    </tr>\n    <tr>\n      <th>68226</th>\n      <td>2021-01-04</td>\n      <td>Age&lt;18</td>\n      <td>UNK</td>\n      <td>DoseAdditional</td>\n      <td>0</td>\n    </tr>\n    <tr>\n      <th>68227</th>\n      <td>2021-07-05</td>\n      <td>ALL</td>\n      <td>MODBA.4-5</td>\n      <td>DoseAdditional</td>\n      <td>0</td>\n    </tr>\n    <tr>\n      <th>68228</th>\n      <td>2021-07-05</td>\n      <td>Age18_24</td>\n      <td>UNK</td>\n      <td>DoseAdditional</td>\n      <td>0</td>\n    </tr>\n  </tbody>\n</table>\n<p>68229 rows × 5 columns</p>\n</div>"
     },
     "execution_count": 75,
     "metadata": {},
     "output_type": "execute_result"
    }
   ],
   "source": [
    "vaccins_fr"
   ],
   "metadata": {
    "collapsed": false,
    "ExecuteTime": {
     "end_time": "2023-12-13T08:58:12.023107Z",
     "start_time": "2023-12-13T08:58:12.001637Z"
    }
   },
   "id": "f551bc53f5c21aee"
  },
  {
   "cell_type": "code",
   "execution_count": 76,
   "outputs": [],
   "source": [
    "vaccins_fr.to_csv(\"data/vaccins_fr.csv\", index=False)"
   ],
   "metadata": {
    "collapsed": false,
    "ExecuteTime": {
     "end_time": "2023-12-13T08:58:12.074244Z",
     "start_time": "2023-12-13T08:58:12.003985Z"
    }
   },
   "id": "abb01c669fee6cd3"
  },
  {
   "cell_type": "code",
   "execution_count": 77,
   "outputs": [],
   "source": [
    "Name = vaccins.ReportingCountry.apply(lambda alpha2 : pycountry.countries.get(alpha_2=alpha2).name if pycountry.countries.get(alpha_2=alpha2) else 'Greece')"
   ],
   "metadata": {
    "collapsed": false,
    "ExecuteTime": {
     "end_time": "2023-12-13T08:58:12.968458Z",
     "start_time": "2023-12-13T08:58:12.069199Z"
    }
   },
   "id": "301469ab908d8e3e"
  },
  {
   "cell_type": "code",
   "execution_count": 78,
   "outputs": [
    {
     "data": {
      "text/plain": "0"
     },
     "execution_count": 78,
     "metadata": {},
     "output_type": "execute_result"
    }
   ],
   "source": [
    "Name.isna().sum()"
   ],
   "metadata": {
    "collapsed": false,
    "ExecuteTime": {
     "end_time": "2023-12-13T08:58:12.983731Z",
     "start_time": "2023-12-13T08:58:12.981597Z"
    }
   },
   "id": "bcfcd8b4a2116048"
  },
  {
   "cell_type": "code",
   "execution_count": 79,
   "outputs": [],
   "source": [
    "vaccins.insert(1,'Country/Region',Name.values)"
   ],
   "metadata": {
    "collapsed": false,
    "ExecuteTime": {
     "end_time": "2023-12-13T08:58:13.007078Z",
     "start_time": "2023-12-13T08:58:12.984364Z"
    }
   },
   "id": "e4b321ee95c22d25"
  },
  {
   "cell_type": "code",
   "execution_count": 80,
   "outputs": [],
   "source": [
    "vaccins.drop(columns='ReportingCountry', inplace=True)"
   ],
   "metadata": {
    "collapsed": false,
    "ExecuteTime": {
     "end_time": "2023-12-13T08:58:13.014898Z",
     "start_time": "2023-12-13T08:58:12.990474Z"
    }
   },
   "id": "5fc159b555bf930e"
  },
  {
   "cell_type": "code",
   "execution_count": 81,
   "outputs": [],
   "source": [
    "vaccins_eu = vaccins.melt(id_vars=['Date','Country/Region',\"TargetGroup\",\"Vaccine\"], var_name='Doses', value_name='Count')"
   ],
   "metadata": {
    "collapsed": false,
    "ExecuteTime": {
     "end_time": "2023-12-13T08:58:13.171700Z",
     "start_time": "2023-12-13T08:58:13.014801Z"
    }
   },
   "id": "d36953f562fe0289"
  },
  {
   "cell_type": "code",
   "execution_count": 82,
   "outputs": [
    {
     "data": {
      "text/plain": "              Date Country/Region    Vaccine           Doses  Count\n32      2021-02-08        Austria      JANSS       FirstDose      0\n41      2021-02-08        Austria        MOD       FirstDose   4065\n45      2021-02-08        Austria    MODBA.1       FirstDose      1\n53      2021-07-05        Austria  COMBA.4-5       FirstDose      0\n68      2022-05-02        Austria        UNK       FirstDose      0\n...            ...            ...        ...             ...    ...\n2449622 2023-01-30       Slovakia      JANSS  DoseAdditional      1\n2449629 2022-09-19       Slovakia        COM  DoseAdditional   2443\n2449634 2022-09-12       Slovakia       NVXD  DoseAdditional      8\n2449644 2022-09-12       Slovakia      JANSS  DoseAdditional     13\n2449655 2022-09-12       Slovakia        COM  DoseAdditional    974\n\n[265989 rows x 5 columns]",
      "text/html": "<div>\n<style scoped>\n    .dataframe tbody tr th:only-of-type {\n        vertical-align: middle;\n    }\n\n    .dataframe tbody tr th {\n        vertical-align: top;\n    }\n\n    .dataframe thead th {\n        text-align: right;\n    }\n</style>\n<table border=\"1\" class=\"dataframe\">\n  <thead>\n    <tr style=\"text-align: right;\">\n      <th></th>\n      <th>Date</th>\n      <th>Country/Region</th>\n      <th>Vaccine</th>\n      <th>Doses</th>\n      <th>Count</th>\n    </tr>\n  </thead>\n  <tbody>\n    <tr>\n      <th>32</th>\n      <td>2021-02-08</td>\n      <td>Austria</td>\n      <td>JANSS</td>\n      <td>FirstDose</td>\n      <td>0</td>\n    </tr>\n    <tr>\n      <th>41</th>\n      <td>2021-02-08</td>\n      <td>Austria</td>\n      <td>MOD</td>\n      <td>FirstDose</td>\n      <td>4065</td>\n    </tr>\n    <tr>\n      <th>45</th>\n      <td>2021-02-08</td>\n      <td>Austria</td>\n      <td>MODBA.1</td>\n      <td>FirstDose</td>\n      <td>1</td>\n    </tr>\n    <tr>\n      <th>53</th>\n      <td>2021-07-05</td>\n      <td>Austria</td>\n      <td>COMBA.4-5</td>\n      <td>FirstDose</td>\n      <td>0</td>\n    </tr>\n    <tr>\n      <th>68</th>\n      <td>2022-05-02</td>\n      <td>Austria</td>\n      <td>UNK</td>\n      <td>FirstDose</td>\n      <td>0</td>\n    </tr>\n    <tr>\n      <th>...</th>\n      <td>...</td>\n      <td>...</td>\n      <td>...</td>\n      <td>...</td>\n      <td>...</td>\n    </tr>\n    <tr>\n      <th>2449622</th>\n      <td>2023-01-30</td>\n      <td>Slovakia</td>\n      <td>JANSS</td>\n      <td>DoseAdditional</td>\n      <td>1</td>\n    </tr>\n    <tr>\n      <th>2449629</th>\n      <td>2022-09-19</td>\n      <td>Slovakia</td>\n      <td>COM</td>\n      <td>DoseAdditional</td>\n      <td>2443</td>\n    </tr>\n    <tr>\n      <th>2449634</th>\n      <td>2022-09-12</td>\n      <td>Slovakia</td>\n      <td>NVXD</td>\n      <td>DoseAdditional</td>\n      <td>8</td>\n    </tr>\n    <tr>\n      <th>2449644</th>\n      <td>2022-09-12</td>\n      <td>Slovakia</td>\n      <td>JANSS</td>\n      <td>DoseAdditional</td>\n      <td>13</td>\n    </tr>\n    <tr>\n      <th>2449655</th>\n      <td>2022-09-12</td>\n      <td>Slovakia</td>\n      <td>COM</td>\n      <td>DoseAdditional</td>\n      <td>974</td>\n    </tr>\n  </tbody>\n</table>\n<p>265989 rows × 5 columns</p>\n</div>"
     },
     "execution_count": 82,
     "metadata": {},
     "output_type": "execute_result"
    }
   ],
   "source": [
    "vaccins_eu[vaccins_eu.TargetGroup =='ALL'].drop(columns='TargetGroup')"
   ],
   "metadata": {
    "collapsed": false,
    "ExecuteTime": {
     "end_time": "2023-12-13T08:58:13.257251Z",
     "start_time": "2023-12-13T08:58:13.233376Z"
    }
   },
   "id": "e76faaf5bd77949"
  },
  {
   "cell_type": "code",
   "execution_count": 83,
   "outputs": [],
   "source": [
    "vaccins_eu[vaccins_eu.TargetGroup =='ALL'].drop(columns='TargetGroup').to_csv(\"data/vaccins_eu.csv\", index=False)"
   ],
   "metadata": {
    "collapsed": false,
    "ExecuteTime": {
     "end_time": "2023-12-13T08:58:13.583383Z",
     "start_time": "2023-12-13T08:58:13.318578Z"
    }
   },
   "id": "f89345f9ab4095c2"
  },
  {
   "cell_type": "code",
   "execution_count": 89,
   "outputs": [],
   "source": [
    "first_dose_eu = vaccins_eu[(vaccins_eu.TargetGroup =='ALL') & (vaccins_eu.Doses == 'FirstDose')].drop(columns='TargetGroup')[['Date','Count']].groupby(\"Date\").sum()"
   ],
   "metadata": {
    "collapsed": false,
    "ExecuteTime": {
     "end_time": "2023-12-13T09:00:05.152719Z",
     "start_time": "2023-12-13T09:00:05.141392Z"
    }
   },
   "id": "7c77c035ec188d0f"
  },
  {
   "cell_type": "code",
   "execution_count": 90,
   "outputs": [
    {
     "data": {
      "text/plain": "              Count\nDate               \n2020-12-14        2\n2020-12-21        9\n2020-12-28    77048\n2021-01-04  3924221\n2021-01-11  4371714\n...             ...\n2023-10-16    27854\n2023-10-23     8340\n2023-10-30     5896\n2023-11-06     4281\n2023-11-13     2715\n\n[153 rows x 1 columns]",
      "text/html": "<div>\n<style scoped>\n    .dataframe tbody tr th:only-of-type {\n        vertical-align: middle;\n    }\n\n    .dataframe tbody tr th {\n        vertical-align: top;\n    }\n\n    .dataframe thead th {\n        text-align: right;\n    }\n</style>\n<table border=\"1\" class=\"dataframe\">\n  <thead>\n    <tr style=\"text-align: right;\">\n      <th></th>\n      <th>Count</th>\n    </tr>\n    <tr>\n      <th>Date</th>\n      <th></th>\n    </tr>\n  </thead>\n  <tbody>\n    <tr>\n      <th>2020-12-14</th>\n      <td>2</td>\n    </tr>\n    <tr>\n      <th>2020-12-21</th>\n      <td>9</td>\n    </tr>\n    <tr>\n      <th>2020-12-28</th>\n      <td>77048</td>\n    </tr>\n    <tr>\n      <th>2021-01-04</th>\n      <td>3924221</td>\n    </tr>\n    <tr>\n      <th>2021-01-11</th>\n      <td>4371714</td>\n    </tr>\n    <tr>\n      <th>...</th>\n      <td>...</td>\n    </tr>\n    <tr>\n      <th>2023-10-16</th>\n      <td>27854</td>\n    </tr>\n    <tr>\n      <th>2023-10-23</th>\n      <td>8340</td>\n    </tr>\n    <tr>\n      <th>2023-10-30</th>\n      <td>5896</td>\n    </tr>\n    <tr>\n      <th>2023-11-06</th>\n      <td>4281</td>\n    </tr>\n    <tr>\n      <th>2023-11-13</th>\n      <td>2715</td>\n    </tr>\n  </tbody>\n</table>\n<p>153 rows × 1 columns</p>\n</div>"
     },
     "execution_count": 90,
     "metadata": {},
     "output_type": "execute_result"
    }
   ],
   "source": [
    "first_dose_eu"
   ],
   "metadata": {
    "collapsed": false,
    "ExecuteTime": {
     "end_time": "2023-12-13T09:00:07.132636Z",
     "start_time": "2023-12-13T09:00:07.112103Z"
    }
   },
   "id": "8f5f36ccaa4f2ac8"
  },
  {
   "cell_type": "code",
   "execution_count": 94,
   "outputs": [],
   "source": [
    "new_case_eu = covid19[covid19['Region Name']=='Europe'][['Date','New Cases']].groupby(\"Date\").sum()"
   ],
   "metadata": {
    "collapsed": false,
    "ExecuteTime": {
     "end_time": "2023-12-13T09:00:56.614732Z",
     "start_time": "2023-12-13T09:00:56.604179Z"
    }
   },
   "id": "93974e29075b0de5"
  },
  {
   "cell_type": "code",
   "execution_count": 97,
   "outputs": [
    {
     "data": {
      "text/plain": "         New Cases\nDate              \n1/1/21    212282.0\n1/1/22    716152.0\n1/1/23      9372.0\n1/10/21   199702.0\n1/10/22  1085087.0\n...            ...\n9/8/21    127393.0\n9/8/22    193655.0\n9/9/20     39151.0\n9/9/21    143723.0\n9/9/22    157044.0\n\n[1144 rows x 1 columns]",
      "text/html": "<div>\n<style scoped>\n    .dataframe tbody tr th:only-of-type {\n        vertical-align: middle;\n    }\n\n    .dataframe tbody tr th {\n        vertical-align: top;\n    }\n\n    .dataframe thead th {\n        text-align: right;\n    }\n</style>\n<table border=\"1\" class=\"dataframe\">\n  <thead>\n    <tr style=\"text-align: right;\">\n      <th></th>\n      <th>New Cases</th>\n    </tr>\n    <tr>\n      <th>Date</th>\n      <th></th>\n    </tr>\n  </thead>\n  <tbody>\n    <tr>\n      <th>1/1/21</th>\n      <td>212282.0</td>\n    </tr>\n    <tr>\n      <th>1/1/22</th>\n      <td>716152.0</td>\n    </tr>\n    <tr>\n      <th>1/1/23</th>\n      <td>9372.0</td>\n    </tr>\n    <tr>\n      <th>1/10/21</th>\n      <td>199702.0</td>\n    </tr>\n    <tr>\n      <th>1/10/22</th>\n      <td>1085087.0</td>\n    </tr>\n    <tr>\n      <th>...</th>\n      <td>...</td>\n    </tr>\n    <tr>\n      <th>9/8/21</th>\n      <td>127393.0</td>\n    </tr>\n    <tr>\n      <th>9/8/22</th>\n      <td>193655.0</td>\n    </tr>\n    <tr>\n      <th>9/9/20</th>\n      <td>39151.0</td>\n    </tr>\n    <tr>\n      <th>9/9/21</th>\n      <td>143723.0</td>\n    </tr>\n    <tr>\n      <th>9/9/22</th>\n      <td>157044.0</td>\n    </tr>\n  </tbody>\n</table>\n<p>1144 rows × 1 columns</p>\n</div>"
     },
     "execution_count": 97,
     "metadata": {},
     "output_type": "execute_result"
    }
   ],
   "source": [
    "new_case_eu"
   ],
   "metadata": {
    "collapsed": false,
    "ExecuteTime": {
     "end_time": "2023-12-13T09:01:32.469975Z",
     "start_time": "2023-12-13T09:01:32.463464Z"
    }
   },
   "id": "5e584a57fd4e5076"
  },
  {
   "cell_type": "code",
   "execution_count": 104,
   "outputs": [
    {
     "ename": "AttributeError",
     "evalue": "'DatetimeIndex' object has no attribute 'sort_index'",
     "output_type": "error",
     "traceback": [
      "\u001B[0;31m---------------------------------------------------------------------------\u001B[0m",
      "\u001B[0;31mAttributeError\u001B[0m                            Traceback (most recent call last)",
      "Cell \u001B[0;32mIn[104], line 1\u001B[0m\n\u001B[0;32m----> 1\u001B[0m new_case_eu\u001B[38;5;241m.\u001B[39mindex \u001B[38;5;241m=\u001B[39m \u001B[43mpd\u001B[49m\u001B[38;5;241;43m.\u001B[39;49m\u001B[43mto_datetime\u001B[49m\u001B[43m(\u001B[49m\u001B[43mnew_case_eu\u001B[49m\u001B[38;5;241;43m.\u001B[39;49m\u001B[43mindex\u001B[49m\u001B[43m,\u001B[49m\u001B[43m \u001B[49m\u001B[38;5;28;43mformat\u001B[39;49m\u001B[38;5;241;43m=\u001B[39;49m\u001B[38;5;124;43m'\u001B[39;49m\u001B[38;5;124;43m%\u001B[39;49m\u001B[38;5;124;43mm/\u001B[39;49m\u001B[38;5;132;43;01m%d\u001B[39;49;00m\u001B[38;5;124;43m/\u001B[39;49m\u001B[38;5;124;43m%\u001B[39;49m\u001B[38;5;124;43my\u001B[39;49m\u001B[38;5;124;43m'\u001B[39;49m\u001B[43m)\u001B[49m\u001B[38;5;241;43m.\u001B[39;49m\u001B[43msort_index\u001B[49m()\n",
      "\u001B[0;31mAttributeError\u001B[0m: 'DatetimeIndex' object has no attribute 'sort_index'"
     ]
    }
   ],
   "source": [
    "new_case_eu.index = pd.to_datetime(new_case_eu.index, format='%m/%d/%y')"
   ],
   "metadata": {
    "collapsed": false,
    "ExecuteTime": {
     "end_time": "2023-12-13T09:02:29.845162Z",
     "start_time": "2023-12-13T09:02:29.838664Z"
    }
   },
   "id": "a7b5c3f3f8a6067"
  },
  {
   "cell_type": "code",
   "execution_count": 157,
   "outputs": [],
   "source": [
    "merge_New_Vaccins = new_case_eu.sort_index().cumsum().merge(first_dose_eu.cumsum(),how='left', left_index=True, right_index=True)"
   ],
   "metadata": {
    "collapsed": false,
    "ExecuteTime": {
     "end_time": "2023-12-13T09:20:22.848438Z",
     "start_time": "2023-12-13T09:20:22.844779Z"
    }
   },
   "id": "95191ab90269904b"
  },
  {
   "cell_type": "code",
   "execution_count": 158,
   "outputs": [
    {
     "data": {
      "text/plain": "           Date    New Cases        Count\n0    2020-01-21          0.0          NaN\n1    2020-01-22          0.0          NaN\n2    2020-01-23          0.0          NaN\n3    2020-01-24          2.0          NaN\n4    2020-01-25          3.0          NaN\n...         ...          ...          ...\n1139 2023-03-05  246585327.0          NaN\n1140 2023-03-06  246615532.0  472371169.0\n1141 2023-03-07  246673695.0          NaN\n1142 2023-03-08  246734062.0          NaN\n1143 2023-03-09  246814428.0          NaN\n\n[1144 rows x 3 columns]",
      "text/html": "<div>\n<style scoped>\n    .dataframe tbody tr th:only-of-type {\n        vertical-align: middle;\n    }\n\n    .dataframe tbody tr th {\n        vertical-align: top;\n    }\n\n    .dataframe thead th {\n        text-align: right;\n    }\n</style>\n<table border=\"1\" class=\"dataframe\">\n  <thead>\n    <tr style=\"text-align: right;\">\n      <th></th>\n      <th>Date</th>\n      <th>New Cases</th>\n      <th>Count</th>\n    </tr>\n  </thead>\n  <tbody>\n    <tr>\n      <th>0</th>\n      <td>2020-01-21</td>\n      <td>0.0</td>\n      <td>NaN</td>\n    </tr>\n    <tr>\n      <th>1</th>\n      <td>2020-01-22</td>\n      <td>0.0</td>\n      <td>NaN</td>\n    </tr>\n    <tr>\n      <th>2</th>\n      <td>2020-01-23</td>\n      <td>0.0</td>\n      <td>NaN</td>\n    </tr>\n    <tr>\n      <th>3</th>\n      <td>2020-01-24</td>\n      <td>2.0</td>\n      <td>NaN</td>\n    </tr>\n    <tr>\n      <th>4</th>\n      <td>2020-01-25</td>\n      <td>3.0</td>\n      <td>NaN</td>\n    </tr>\n    <tr>\n      <th>...</th>\n      <td>...</td>\n      <td>...</td>\n      <td>...</td>\n    </tr>\n    <tr>\n      <th>1139</th>\n      <td>2023-03-05</td>\n      <td>246585327.0</td>\n      <td>NaN</td>\n    </tr>\n    <tr>\n      <th>1140</th>\n      <td>2023-03-06</td>\n      <td>246615532.0</td>\n      <td>472371169.0</td>\n    </tr>\n    <tr>\n      <th>1141</th>\n      <td>2023-03-07</td>\n      <td>246673695.0</td>\n      <td>NaN</td>\n    </tr>\n    <tr>\n      <th>1142</th>\n      <td>2023-03-08</td>\n      <td>246734062.0</td>\n      <td>NaN</td>\n    </tr>\n    <tr>\n      <th>1143</th>\n      <td>2023-03-09</td>\n      <td>246814428.0</td>\n      <td>NaN</td>\n    </tr>\n  </tbody>\n</table>\n<p>1144 rows × 3 columns</p>\n</div>"
     },
     "execution_count": 158,
     "metadata": {},
     "output_type": "execute_result"
    }
   ],
   "source": [
    "merge_New_Vaccins.reset_index()"
   ],
   "metadata": {
    "collapsed": false,
    "ExecuteTime": {
     "end_time": "2023-12-13T09:20:23.494937Z",
     "start_time": "2023-12-13T09:20:23.483115Z"
    }
   },
   "id": "a181924720d9eae9"
  },
  {
   "cell_type": "code",
   "execution_count": 159,
   "outputs": [],
   "source": [
    "for i in range(328,1144,7):\n",
    "    merge_New_Vaccins.iloc[i:i+7,1] = merge_New_Vaccins.iloc[i,1]"
   ],
   "metadata": {
    "collapsed": false,
    "ExecuteTime": {
     "end_time": "2023-12-13T09:20:32.548712Z",
     "start_time": "2023-12-13T09:20:32.537065Z"
    }
   },
   "id": "db49bd25b34da248"
  },
  {
   "cell_type": "code",
   "execution_count": 175,
   "outputs": [
    {
     "ename": "TypeError",
     "evalue": "Cannot interpolate with all object-dtype columns in the DataFrame. Try setting at least one column to a numeric dtype.",
     "output_type": "error",
     "traceback": [
      "\u001B[0;31m---------------------------------------------------------------------------\u001B[0m",
      "\u001B[0;31mTypeError\u001B[0m                                 Traceback (most recent call last)",
      "\u001B[0;32m/var/folders/3v/836xbswd3z1f339m_2k6w7b80000gn/T/ipykernel_4226/811672022.py\u001B[0m in \u001B[0;36m?\u001B[0;34m()\u001B[0m\n\u001B[0;32m----> 1\u001B[0;31m \u001B[0mmerge_New_Vaccins\u001B[0m\u001B[0;34m[\u001B[0m\u001B[0;34m[\u001B[0m\u001B[0;34m'Count'\u001B[0m\u001B[0;34m]\u001B[0m\u001B[0;34m]\u001B[0m\u001B[0;34m.\u001B[0m\u001B[0mdiff\u001B[0m\u001B[0;34m(\u001B[0m\u001B[0;34m)\u001B[0m\u001B[0;34m.\u001B[0m\u001B[0mfillna\u001B[0m\u001B[0;34m(\u001B[0m\u001B[0;34m\"NAN\"\u001B[0m\u001B[0;34m)\u001B[0m\u001B[0;34m.\u001B[0m\u001B[0mreplace\u001B[0m\u001B[0;34m(\u001B[0m\u001B[0;36m0.0\u001B[0m\u001B[0;34m,\u001B[0m \u001B[0mnp\u001B[0m\u001B[0;34m.\u001B[0m\u001B[0mnan\u001B[0m\u001B[0;34m)\u001B[0m\u001B[0;34m.\u001B[0m\u001B[0minterpolate\u001B[0m\u001B[0;34m(\u001B[0m\u001B[0;34m)\u001B[0m\u001B[0;34m\u001B[0m\u001B[0;34m\u001B[0m\u001B[0m\n\u001B[0m",
      "\u001B[0;32m~/Documents/Projects/_DataScience/week11/.env/lib/python3.10/site-packages/pandas/core/generic.py\u001B[0m in \u001B[0;36m?\u001B[0;34m(self, method, axis, limit, inplace, limit_direction, limit_area, downcast, **kwargs)\u001B[0m\n\u001B[1;32m   8176\u001B[0m \u001B[0;34m\u001B[0m\u001B[0m\n\u001B[1;32m   8177\u001B[0m         \u001B[0mlimit_direction\u001B[0m \u001B[0;34m=\u001B[0m \u001B[0mmissing\u001B[0m\u001B[0;34m.\u001B[0m\u001B[0minfer_limit_direction\u001B[0m\u001B[0;34m(\u001B[0m\u001B[0mlimit_direction\u001B[0m\u001B[0;34m,\u001B[0m \u001B[0mmethod\u001B[0m\u001B[0;34m)\u001B[0m\u001B[0;34m\u001B[0m\u001B[0;34m\u001B[0m\u001B[0m\n\u001B[1;32m   8178\u001B[0m \u001B[0;34m\u001B[0m\u001B[0m\n\u001B[1;32m   8179\u001B[0m         \u001B[0;32mif\u001B[0m \u001B[0mobj\u001B[0m\u001B[0;34m.\u001B[0m\u001B[0mndim\u001B[0m \u001B[0;34m==\u001B[0m \u001B[0;36m2\u001B[0m \u001B[0;32mand\u001B[0m \u001B[0mnp\u001B[0m\u001B[0;34m.\u001B[0m\u001B[0mall\u001B[0m\u001B[0;34m(\u001B[0m\u001B[0mobj\u001B[0m\u001B[0;34m.\u001B[0m\u001B[0mdtypes\u001B[0m \u001B[0;34m==\u001B[0m \u001B[0mobject\u001B[0m\u001B[0;34m)\u001B[0m\u001B[0;34m:\u001B[0m\u001B[0;34m\u001B[0m\u001B[0;34m\u001B[0m\u001B[0m\n\u001B[0;32m-> 8180\u001B[0;31m             raise TypeError(\n\u001B[0m\u001B[1;32m   8181\u001B[0m                 \u001B[0;34m\"Cannot interpolate with all object-dtype columns \"\u001B[0m\u001B[0;34m\u001B[0m\u001B[0;34m\u001B[0m\u001B[0m\n\u001B[1;32m   8182\u001B[0m                 \u001B[0;34m\"in the DataFrame. Try setting at least one \"\u001B[0m\u001B[0;34m\u001B[0m\u001B[0;34m\u001B[0m\u001B[0m\n\u001B[1;32m   8183\u001B[0m                 \u001B[0;34m\"column to a numeric dtype.\"\u001B[0m\u001B[0;34m\u001B[0m\u001B[0;34m\u001B[0m\u001B[0m\n",
      "\u001B[0;31mTypeError\u001B[0m: Cannot interpolate with all object-dtype columns in the DataFrame. Try setting at least one column to a numeric dtype."
     ]
    }
   ],
   "source": [
    "merge_New_Vaccins[['Count']].diff().fillna(\"NAN\").replace(0.0, np.nan).interpolate()"
   ],
   "metadata": {
    "collapsed": false,
    "ExecuteTime": {
     "end_time": "2023-12-13T09:24:13.645173Z",
     "start_time": "2023-12-13T09:24:13.635229Z"
    }
   },
   "id": "e8da01f2b301ab09"
  },
  {
   "cell_type": "code",
   "execution_count": 177,
   "outputs": [
    {
     "data": {
      "text/plain": "           Date    New Cases        Count\n0    2020-01-21          0.0          NaN\n1    2020-01-22          0.0          NaN\n2    2020-01-23          0.0          NaN\n3    2020-01-24          2.0          NaN\n4    2020-01-25          3.0          NaN\n...         ...          ...          ...\n1139 2023-03-05  246585327.0  472365880.0\n1140 2023-03-06  246615532.0  472371169.0\n1141 2023-03-07  246673695.0  472371169.0\n1142 2023-03-08  246734062.0  472371169.0\n1143 2023-03-09  246814428.0  472371169.0\n\n[1144 rows x 3 columns]",
      "text/html": "<div>\n<style scoped>\n    .dataframe tbody tr th:only-of-type {\n        vertical-align: middle;\n    }\n\n    .dataframe tbody tr th {\n        vertical-align: top;\n    }\n\n    .dataframe thead th {\n        text-align: right;\n    }\n</style>\n<table border=\"1\" class=\"dataframe\">\n  <thead>\n    <tr style=\"text-align: right;\">\n      <th></th>\n      <th>Date</th>\n      <th>New Cases</th>\n      <th>Count</th>\n    </tr>\n  </thead>\n  <tbody>\n    <tr>\n      <th>0</th>\n      <td>2020-01-21</td>\n      <td>0.0</td>\n      <td>NaN</td>\n    </tr>\n    <tr>\n      <th>1</th>\n      <td>2020-01-22</td>\n      <td>0.0</td>\n      <td>NaN</td>\n    </tr>\n    <tr>\n      <th>2</th>\n      <td>2020-01-23</td>\n      <td>0.0</td>\n      <td>NaN</td>\n    </tr>\n    <tr>\n      <th>3</th>\n      <td>2020-01-24</td>\n      <td>2.0</td>\n      <td>NaN</td>\n    </tr>\n    <tr>\n      <th>4</th>\n      <td>2020-01-25</td>\n      <td>3.0</td>\n      <td>NaN</td>\n    </tr>\n    <tr>\n      <th>...</th>\n      <td>...</td>\n      <td>...</td>\n      <td>...</td>\n    </tr>\n    <tr>\n      <th>1139</th>\n      <td>2023-03-05</td>\n      <td>246585327.0</td>\n      <td>472365880.0</td>\n    </tr>\n    <tr>\n      <th>1140</th>\n      <td>2023-03-06</td>\n      <td>246615532.0</td>\n      <td>472371169.0</td>\n    </tr>\n    <tr>\n      <th>1141</th>\n      <td>2023-03-07</td>\n      <td>246673695.0</td>\n      <td>472371169.0</td>\n    </tr>\n    <tr>\n      <th>1142</th>\n      <td>2023-03-08</td>\n      <td>246734062.0</td>\n      <td>472371169.0</td>\n    </tr>\n    <tr>\n      <th>1143</th>\n      <td>2023-03-09</td>\n      <td>246814428.0</td>\n      <td>472371169.0</td>\n    </tr>\n  </tbody>\n</table>\n<p>1144 rows × 3 columns</p>\n</div>"
     },
     "execution_count": 177,
     "metadata": {},
     "output_type": "execute_result"
    }
   ],
   "source": [
    "merge_New_Vaccins.reset_index()"
   ],
   "metadata": {
    "collapsed": false,
    "ExecuteTime": {
     "end_time": "2023-12-13T09:24:48.285941Z",
     "start_time": "2023-12-13T09:24:48.275819Z"
    }
   },
   "id": "aa5b8397800f11a2"
  },
  {
   "cell_type": "code",
   "execution_count": 193,
   "outputs": [
    {
     "data": {
      "text/plain": "            New Cases  Count\nDate                        \n2020-01-21        0.0    0.0\n2020-01-22        0.0    0.0\n2020-01-23        0.0    0.0\n2020-01-24        2.0    0.0\n2020-01-25        1.0    0.0\n...               ...    ...\n2020-12-09   212945.0    0.0\n2020-12-10   229816.0    0.0\n2020-12-11   236193.0    0.0\n2020-12-12   211241.0    0.0\n2020-12-13   173981.0    0.0\n\n[328 rows x 2 columns]",
      "text/html": "<div>\n<style scoped>\n    .dataframe tbody tr th:only-of-type {\n        vertical-align: middle;\n    }\n\n    .dataframe tbody tr th {\n        vertical-align: top;\n    }\n\n    .dataframe thead th {\n        text-align: right;\n    }\n</style>\n<table border=\"1\" class=\"dataframe\">\n  <thead>\n    <tr style=\"text-align: right;\">\n      <th></th>\n      <th>New Cases</th>\n      <th>Count</th>\n    </tr>\n    <tr>\n      <th>Date</th>\n      <th></th>\n      <th></th>\n    </tr>\n  </thead>\n  <tbody>\n    <tr>\n      <th>2020-01-21</th>\n      <td>0.0</td>\n      <td>0.0</td>\n    </tr>\n    <tr>\n      <th>2020-01-22</th>\n      <td>0.0</td>\n      <td>0.0</td>\n    </tr>\n    <tr>\n      <th>2020-01-23</th>\n      <td>0.0</td>\n      <td>0.0</td>\n    </tr>\n    <tr>\n      <th>2020-01-24</th>\n      <td>2.0</td>\n      <td>0.0</td>\n    </tr>\n    <tr>\n      <th>2020-01-25</th>\n      <td>1.0</td>\n      <td>0.0</td>\n    </tr>\n    <tr>\n      <th>...</th>\n      <td>...</td>\n      <td>...</td>\n    </tr>\n    <tr>\n      <th>2020-12-09</th>\n      <td>212945.0</td>\n      <td>0.0</td>\n    </tr>\n    <tr>\n      <th>2020-12-10</th>\n      <td>229816.0</td>\n      <td>0.0</td>\n    </tr>\n    <tr>\n      <th>2020-12-11</th>\n      <td>236193.0</td>\n      <td>0.0</td>\n    </tr>\n    <tr>\n      <th>2020-12-12</th>\n      <td>211241.0</td>\n      <td>0.0</td>\n    </tr>\n    <tr>\n      <th>2020-12-13</th>\n      <td>173981.0</td>\n      <td>0.0</td>\n    </tr>\n  </tbody>\n</table>\n<p>328 rows × 2 columns</p>\n</div>"
     },
     "execution_count": 193,
     "metadata": {},
     "output_type": "execute_result"
    }
   ],
   "source": [
    "merge_New_Vaccins.diff().iloc[:328,:].fillna(0)"
   ],
   "metadata": {
    "collapsed": false,
    "ExecuteTime": {
     "end_time": "2023-12-13T09:27:46.317314Z",
     "start_time": "2023-12-13T09:27:46.308359Z"
    }
   },
   "id": "6567b9a021b3d6ce"
  },
  {
   "cell_type": "code",
   "execution_count": 192,
   "outputs": [
    {
     "data": {
      "text/plain": "            New Cases        Count\nDate                              \n2020-12-14   165910.0     0.000000\n2020-12-15   201419.0     0.000000\n2020-12-16   241604.0     0.000000\n2020-12-17   253844.0     0.000000\n2020-12-18   249391.0     0.000000\n...               ...          ...\n2023-03-05    19140.0  5409.142857\n2023-03-06    30205.0  5289.000000\n2023-03-07    58163.0  5289.000000\n2023-03-08    60367.0  5289.000000\n2023-03-09    80366.0  5289.000000\n\n[816 rows x 2 columns]",
      "text/html": "<div>\n<style scoped>\n    .dataframe tbody tr th:only-of-type {\n        vertical-align: middle;\n    }\n\n    .dataframe tbody tr th {\n        vertical-align: top;\n    }\n\n    .dataframe thead th {\n        text-align: right;\n    }\n</style>\n<table border=\"1\" class=\"dataframe\">\n  <thead>\n    <tr style=\"text-align: right;\">\n      <th></th>\n      <th>New Cases</th>\n      <th>Count</th>\n    </tr>\n    <tr>\n      <th>Date</th>\n      <th></th>\n      <th></th>\n    </tr>\n  </thead>\n  <tbody>\n    <tr>\n      <th>2020-12-14</th>\n      <td>165910.0</td>\n      <td>0.000000</td>\n    </tr>\n    <tr>\n      <th>2020-12-15</th>\n      <td>201419.0</td>\n      <td>0.000000</td>\n    </tr>\n    <tr>\n      <th>2020-12-16</th>\n      <td>241604.0</td>\n      <td>0.000000</td>\n    </tr>\n    <tr>\n      <th>2020-12-17</th>\n      <td>253844.0</td>\n      <td>0.000000</td>\n    </tr>\n    <tr>\n      <th>2020-12-18</th>\n      <td>249391.0</td>\n      <td>0.000000</td>\n    </tr>\n    <tr>\n      <th>...</th>\n      <td>...</td>\n      <td>...</td>\n    </tr>\n    <tr>\n      <th>2023-03-05</th>\n      <td>19140.0</td>\n      <td>5409.142857</td>\n    </tr>\n    <tr>\n      <th>2023-03-06</th>\n      <td>30205.0</td>\n      <td>5289.000000</td>\n    </tr>\n    <tr>\n      <th>2023-03-07</th>\n      <td>58163.0</td>\n      <td>5289.000000</td>\n    </tr>\n    <tr>\n      <th>2023-03-08</th>\n      <td>60367.0</td>\n      <td>5289.000000</td>\n    </tr>\n    <tr>\n      <th>2023-03-09</th>\n      <td>80366.0</td>\n      <td>5289.000000</td>\n    </tr>\n  </tbody>\n</table>\n<p>816 rows × 2 columns</p>\n</div>"
     },
     "execution_count": 192,
     "metadata": {},
     "output_type": "execute_result"
    }
   ],
   "source": [
    "merge_New_Vaccins.diff().iloc[328:,:].replace(0, np.nan).interpolate().fillna(0)"
   ],
   "metadata": {
    "collapsed": false,
    "ExecuteTime": {
     "end_time": "2023-12-13T09:27:42.784341Z",
     "start_time": "2023-12-13T09:27:42.767973Z"
    }
   },
   "id": "302a6164b2b93754"
  },
  {
   "cell_type": "code",
   "execution_count": 195,
   "outputs": [],
   "source": [
    "New_Case_Vaccins = pd.concat([\n",
    "    merge_New_Vaccins.diff().iloc[:328,:].fillna(0),\n",
    "    merge_New_Vaccins.diff().iloc[328:,:].replace(0, np.nan).interpolate().fillna(0)\n",
    "    ],\n",
    "    axis=0\n",
    ")"
   ],
   "metadata": {
    "collapsed": false,
    "ExecuteTime": {
     "end_time": "2023-12-13T09:29:05.967597Z",
     "start_time": "2023-12-13T09:29:05.937545Z"
    }
   },
   "id": "bb67173faa0e15d6"
  },
  {
   "cell_type": "code",
   "execution_count": 196,
   "outputs": [],
   "source": [
    "New_Case_Vaccins.columns = [\"new_cases\",\"new_vaccins\"]"
   ],
   "metadata": {
    "collapsed": false,
    "ExecuteTime": {
     "end_time": "2023-12-13T09:29:33.730342Z",
     "start_time": "2023-12-13T09:29:33.696515Z"
    }
   },
   "id": "e66df3f567a2cd64"
  },
  {
   "cell_type": "code",
   "execution_count": 198,
   "outputs": [],
   "source": [
    "New_Case_Vaccins.to_csv('Data/NewCases_And_NewVaccins.csv')"
   ],
   "metadata": {
    "collapsed": false,
    "ExecuteTime": {
     "end_time": "2023-12-13T09:30:30.634702Z",
     "start_time": "2023-12-13T09:30:30.617736Z"
    }
   },
   "id": "7209e1d2088d0ded"
  },
  {
   "cell_type": "code",
   "execution_count": null,
   "outputs": [],
   "source": [],
   "metadata": {
    "collapsed": false
   },
   "id": "a244fe9038da70f4"
  }
 ],
 "metadata": {
  "kernelspec": {
   "display_name": "Python 3",
   "language": "python",
   "name": "python3"
  },
  "language_info": {
   "codemirror_mode": {
    "name": "ipython",
    "version": 2
   },
   "file_extension": ".py",
   "mimetype": "text/x-python",
   "name": "python",
   "nbconvert_exporter": "python",
   "pygments_lexer": "ipython2",
   "version": "2.7.6"
  }
 },
 "nbformat": 4,
 "nbformat_minor": 5
}
