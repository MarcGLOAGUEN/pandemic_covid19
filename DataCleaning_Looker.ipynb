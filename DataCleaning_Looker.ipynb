{
 "cells": [
  {
   "cell_type": "code",
   "execution_count": 17,
   "id": "initial_id",
   "metadata": {
    "collapsed": true,
    "ExecuteTime": {
     "end_time": "2023-12-11T09:12:34.831325Z",
     "start_time": "2023-12-11T09:12:34.801749Z"
    }
   },
   "outputs": [],
   "source": [
    "import pandas as pd"
   ]
  },
  {
   "cell_type": "code",
   "execution_count": 121,
   "outputs": [],
   "source": [
    "data = pd.read_csv('ressources/time_series_covid19_confirmed_global_iso3_regions.csv')"
   ],
   "metadata": {
    "collapsed": false,
    "ExecuteTime": {
     "end_time": "2023-12-11T09:39:59.702888Z",
     "start_time": "2023-12-11T09:39:59.667062Z"
    }
   },
   "id": "d07fb998aed851bf"
  },
  {
   "cell_type": "code",
   "execution_count": 122,
   "outputs": [],
   "source": [
    "data.drop(index=0, inplace=True)"
   ],
   "metadata": {
    "collapsed": false,
    "ExecuteTime": {
     "end_time": "2023-12-11T09:39:59.851808Z",
     "start_time": "2023-12-11T09:39:59.844745Z"
    }
   },
   "id": "974395c23ecece2b"
  },
  {
   "cell_type": "code",
   "execution_count": 123,
   "outputs": [],
   "source": [
    "data.set_index(['Country/Region','Region Name'], inplace=True)"
   ],
   "metadata": {
    "collapsed": false,
    "ExecuteTime": {
     "end_time": "2023-12-11T09:39:59.994329Z",
     "start_time": "2023-12-11T09:39:59.988130Z"
    }
   },
   "id": "d975bb8aa35ada51"
  },
  {
   "cell_type": "code",
   "execution_count": 124,
   "outputs": [
    {
     "data": {
      "text/plain": "Index(['Province/State', 'Lat', 'Long'], dtype='object')"
     },
     "execution_count": 124,
     "metadata": {},
     "output_type": "execute_result"
    }
   ],
   "source": [
    "data.columns[:3]"
   ],
   "metadata": {
    "collapsed": false,
    "ExecuteTime": {
     "end_time": "2023-12-11T09:40:00.145285Z",
     "start_time": "2023-12-11T09:40:00.138263Z"
    }
   },
   "id": "3468a3e99c2a29e1"
  },
  {
   "cell_type": "code",
   "execution_count": 125,
   "outputs": [
    {
     "data": {
      "text/plain": "Index(['ISO 3166-1 Alpha 3-Codes', 'Region Code', 'Sub-region Code',\n       'Sub-region Name', 'Intermediate Region Code',\n       'Intermediate Region Name'],\n      dtype='object')"
     },
     "execution_count": 125,
     "metadata": {},
     "output_type": "execute_result"
    }
   ],
   "source": [
    "data.columns[-6:]"
   ],
   "metadata": {
    "collapsed": false,
    "ExecuteTime": {
     "end_time": "2023-12-11T09:40:00.292600Z",
     "start_time": "2023-12-11T09:40:00.284645Z"
    }
   },
   "id": "1bfc5412ff1f2451"
  },
  {
   "cell_type": "code",
   "execution_count": 126,
   "outputs": [],
   "source": [
    "data.drop(columns=data.columns[-6:], inplace=True)\n",
    "data.drop(columns=data.columns[:3], inplace=True)"
   ],
   "metadata": {
    "collapsed": false,
    "ExecuteTime": {
     "end_time": "2023-12-11T09:40:00.448325Z",
     "start_time": "2023-12-11T09:40:00.440413Z"
    }
   },
   "id": "ccb685dc9c6dc0b2"
  },
  {
   "cell_type": "code",
   "execution_count": 127,
   "outputs": [],
   "source": [
    "data.insert(0,\"1/21/20\",0.0)"
   ],
   "metadata": {
    "collapsed": false,
    "ExecuteTime": {
     "end_time": "2023-12-11T09:40:00.972310Z",
     "start_time": "2023-12-11T09:40:00.965573Z"
    }
   },
   "id": "7487ab2e25422476"
  },
  {
   "cell_type": "code",
   "execution_count": 129,
   "outputs": [],
   "source": [
    "data = data.groupby(['Country/Region', 'Region Name']).sum()"
   ],
   "metadata": {
    "collapsed": false,
    "ExecuteTime": {
     "end_time": "2023-12-11T09:40:14.373543Z",
     "start_time": "2023-12-11T09:40:14.358998Z"
    }
   },
   "id": "368f15da87af0547"
  },
  {
   "cell_type": "code",
   "execution_count": 153,
   "outputs": [
    {
     "data": {
      "text/plain": "                                1/21/20  1/22/20  1/23/20  1/24/20  1/25/20  \\\nCountry/Region     Region Name                                                \nAfghanistan        Asia             0.0      0.0      0.0      0.0      0.0   \nAlbania            Europe           0.0      0.0      0.0      0.0      0.0   \nAlgeria            Africa           0.0      0.0      0.0      0.0      0.0   \nAndorra            Europe           0.0      0.0      0.0      0.0      0.0   \nAngola             Africa           0.0      0.0      0.0      0.0      0.0   \n...                                 ...      ...      ...      ...      ...   \nVietnam            Asia             0.0      0.0      2.0      2.0      2.0   \nWest Bank and Gaza Asia             0.0      0.0      0.0      0.0      0.0   \nYemen              Asia             0.0      0.0      0.0      0.0      0.0   \nZambia             Africa           0.0      0.0      0.0      0.0      0.0   \nZimbabwe           Africa           0.0      0.0      0.0      0.0      0.0   \n\n                                1/26/20  1/27/20  1/28/20  1/29/20  1/30/20  \\\nCountry/Region     Region Name                                                \nAfghanistan        Asia             0.0      0.0      0.0      0.0      0.0   \nAlbania            Europe           0.0      0.0      0.0      0.0      0.0   \nAlgeria            Africa           0.0      0.0      0.0      0.0      0.0   \nAndorra            Europe           0.0      0.0      0.0      0.0      0.0   \nAngola             Africa           0.0      0.0      0.0      0.0      0.0   \n...                                 ...      ...      ...      ...      ...   \nVietnam            Asia             2.0      2.0      2.0      2.0      2.0   \nWest Bank and Gaza Asia             0.0      0.0      0.0      0.0      0.0   \nYemen              Asia             0.0      0.0      0.0      0.0      0.0   \nZambia             Africa           0.0      0.0      0.0      0.0      0.0   \nZimbabwe           Africa           0.0      0.0      0.0      0.0      0.0   \n\n                                ...     2/28/23      3/1/23      3/2/23  \\\nCountry/Region     Region Name  ...                                       \nAfghanistan        Asia         ...    209322.0    209340.0    209358.0   \nAlbania            Europe       ...    334391.0    334408.0    334408.0   \nAlgeria            Africa       ...    271441.0    271448.0    271463.0   \nAndorra            Europe       ...     47866.0     47875.0     47875.0   \nAngola             Africa       ...    105255.0    105277.0    105277.0   \n...                             ...         ...         ...         ...   \nVietnam            Asia         ...  11526917.0  11526926.0  11526937.0   \nWest Bank and Gaza Asia         ...    703228.0    703228.0    703228.0   \nYemen              Asia         ...     11945.0     11945.0     11945.0   \nZambia             Africa       ...    343012.0    343012.0    343079.0   \nZimbabwe           Africa       ...    263921.0    264127.0    264127.0   \n\n                                    3/3/23      3/4/23      3/5/23  \\\nCountry/Region     Region Name                                       \nAfghanistan        Asia           209362.0    209369.0    209390.0   \nAlbania            Europe         334427.0    334427.0    334427.0   \nAlgeria            Africa         271469.0    271469.0    271477.0   \nAndorra            Europe          47875.0     47875.0     47875.0   \nAngola             Africa         105277.0    105277.0    105277.0   \n...                                    ...         ...         ...   \nVietnam            Asia         11526950.0  11526962.0  11526966.0   \nWest Bank and Gaza Asia           703228.0    703228.0    703228.0   \nYemen              Asia            11945.0     11945.0     11945.0   \nZambia             Africa         343079.0    343079.0    343135.0   \nZimbabwe           Africa         264127.0    264127.0    264127.0   \n\n                                    3/6/23      3/7/23      3/8/23      3/9/23  \nCountry/Region     Region Name                                                  \nAfghanistan        Asia           209406.0    209436.0    209451.0    209451.0  \nAlbania            Europe         334427.0    334427.0    334443.0    334457.0  \nAlgeria            Africa         271477.0    271490.0    271494.0    271496.0  \nAndorra            Europe          47875.0     47875.0     47890.0     47890.0  \nAngola             Africa         105277.0    105277.0    105288.0    105288.0  \n...                                    ...         ...         ...         ...  \nVietnam            Asia         11526966.0  11526986.0  11526994.0  11526994.0  \nWest Bank and Gaza Asia           703228.0    703228.0    703228.0    703228.0  \nYemen              Asia            11945.0     11945.0     11945.0     11945.0  \nZambia             Africa         343135.0    343135.0    343135.0    343135.0  \nZimbabwe           Africa         264127.0    264127.0    264276.0    264276.0  \n\n[200 rows x 1144 columns]",
      "text/html": "<div>\n<style scoped>\n    .dataframe tbody tr th:only-of-type {\n        vertical-align: middle;\n    }\n\n    .dataframe tbody tr th {\n        vertical-align: top;\n    }\n\n    .dataframe thead th {\n        text-align: right;\n    }\n</style>\n<table border=\"1\" class=\"dataframe\">\n  <thead>\n    <tr style=\"text-align: right;\">\n      <th></th>\n      <th></th>\n      <th>1/21/20</th>\n      <th>1/22/20</th>\n      <th>1/23/20</th>\n      <th>1/24/20</th>\n      <th>1/25/20</th>\n      <th>1/26/20</th>\n      <th>1/27/20</th>\n      <th>1/28/20</th>\n      <th>1/29/20</th>\n      <th>1/30/20</th>\n      <th>...</th>\n      <th>2/28/23</th>\n      <th>3/1/23</th>\n      <th>3/2/23</th>\n      <th>3/3/23</th>\n      <th>3/4/23</th>\n      <th>3/5/23</th>\n      <th>3/6/23</th>\n      <th>3/7/23</th>\n      <th>3/8/23</th>\n      <th>3/9/23</th>\n    </tr>\n    <tr>\n      <th>Country/Region</th>\n      <th>Region Name</th>\n      <th></th>\n      <th></th>\n      <th></th>\n      <th></th>\n      <th></th>\n      <th></th>\n      <th></th>\n      <th></th>\n      <th></th>\n      <th></th>\n      <th></th>\n      <th></th>\n      <th></th>\n      <th></th>\n      <th></th>\n      <th></th>\n      <th></th>\n      <th></th>\n      <th></th>\n      <th></th>\n      <th></th>\n    </tr>\n  </thead>\n  <tbody>\n    <tr>\n      <th>Afghanistan</th>\n      <th>Asia</th>\n      <td>0.0</td>\n      <td>0.0</td>\n      <td>0.0</td>\n      <td>0.0</td>\n      <td>0.0</td>\n      <td>0.0</td>\n      <td>0.0</td>\n      <td>0.0</td>\n      <td>0.0</td>\n      <td>0.0</td>\n      <td>...</td>\n      <td>209322.0</td>\n      <td>209340.0</td>\n      <td>209358.0</td>\n      <td>209362.0</td>\n      <td>209369.0</td>\n      <td>209390.0</td>\n      <td>209406.0</td>\n      <td>209436.0</td>\n      <td>209451.0</td>\n      <td>209451.0</td>\n    </tr>\n    <tr>\n      <th>Albania</th>\n      <th>Europe</th>\n      <td>0.0</td>\n      <td>0.0</td>\n      <td>0.0</td>\n      <td>0.0</td>\n      <td>0.0</td>\n      <td>0.0</td>\n      <td>0.0</td>\n      <td>0.0</td>\n      <td>0.0</td>\n      <td>0.0</td>\n      <td>...</td>\n      <td>334391.0</td>\n      <td>334408.0</td>\n      <td>334408.0</td>\n      <td>334427.0</td>\n      <td>334427.0</td>\n      <td>334427.0</td>\n      <td>334427.0</td>\n      <td>334427.0</td>\n      <td>334443.0</td>\n      <td>334457.0</td>\n    </tr>\n    <tr>\n      <th>Algeria</th>\n      <th>Africa</th>\n      <td>0.0</td>\n      <td>0.0</td>\n      <td>0.0</td>\n      <td>0.0</td>\n      <td>0.0</td>\n      <td>0.0</td>\n      <td>0.0</td>\n      <td>0.0</td>\n      <td>0.0</td>\n      <td>0.0</td>\n      <td>...</td>\n      <td>271441.0</td>\n      <td>271448.0</td>\n      <td>271463.0</td>\n      <td>271469.0</td>\n      <td>271469.0</td>\n      <td>271477.0</td>\n      <td>271477.0</td>\n      <td>271490.0</td>\n      <td>271494.0</td>\n      <td>271496.0</td>\n    </tr>\n    <tr>\n      <th>Andorra</th>\n      <th>Europe</th>\n      <td>0.0</td>\n      <td>0.0</td>\n      <td>0.0</td>\n      <td>0.0</td>\n      <td>0.0</td>\n      <td>0.0</td>\n      <td>0.0</td>\n      <td>0.0</td>\n      <td>0.0</td>\n      <td>0.0</td>\n      <td>...</td>\n      <td>47866.0</td>\n      <td>47875.0</td>\n      <td>47875.0</td>\n      <td>47875.0</td>\n      <td>47875.0</td>\n      <td>47875.0</td>\n      <td>47875.0</td>\n      <td>47875.0</td>\n      <td>47890.0</td>\n      <td>47890.0</td>\n    </tr>\n    <tr>\n      <th>Angola</th>\n      <th>Africa</th>\n      <td>0.0</td>\n      <td>0.0</td>\n      <td>0.0</td>\n      <td>0.0</td>\n      <td>0.0</td>\n      <td>0.0</td>\n      <td>0.0</td>\n      <td>0.0</td>\n      <td>0.0</td>\n      <td>0.0</td>\n      <td>...</td>\n      <td>105255.0</td>\n      <td>105277.0</td>\n      <td>105277.0</td>\n      <td>105277.0</td>\n      <td>105277.0</td>\n      <td>105277.0</td>\n      <td>105277.0</td>\n      <td>105277.0</td>\n      <td>105288.0</td>\n      <td>105288.0</td>\n    </tr>\n    <tr>\n      <th>...</th>\n      <th>...</th>\n      <td>...</td>\n      <td>...</td>\n      <td>...</td>\n      <td>...</td>\n      <td>...</td>\n      <td>...</td>\n      <td>...</td>\n      <td>...</td>\n      <td>...</td>\n      <td>...</td>\n      <td>...</td>\n      <td>...</td>\n      <td>...</td>\n      <td>...</td>\n      <td>...</td>\n      <td>...</td>\n      <td>...</td>\n      <td>...</td>\n      <td>...</td>\n      <td>...</td>\n      <td>...</td>\n    </tr>\n    <tr>\n      <th>Vietnam</th>\n      <th>Asia</th>\n      <td>0.0</td>\n      <td>0.0</td>\n      <td>2.0</td>\n      <td>2.0</td>\n      <td>2.0</td>\n      <td>2.0</td>\n      <td>2.0</td>\n      <td>2.0</td>\n      <td>2.0</td>\n      <td>2.0</td>\n      <td>...</td>\n      <td>11526917.0</td>\n      <td>11526926.0</td>\n      <td>11526937.0</td>\n      <td>11526950.0</td>\n      <td>11526962.0</td>\n      <td>11526966.0</td>\n      <td>11526966.0</td>\n      <td>11526986.0</td>\n      <td>11526994.0</td>\n      <td>11526994.0</td>\n    </tr>\n    <tr>\n      <th>West Bank and Gaza</th>\n      <th>Asia</th>\n      <td>0.0</td>\n      <td>0.0</td>\n      <td>0.0</td>\n      <td>0.0</td>\n      <td>0.0</td>\n      <td>0.0</td>\n      <td>0.0</td>\n      <td>0.0</td>\n      <td>0.0</td>\n      <td>0.0</td>\n      <td>...</td>\n      <td>703228.0</td>\n      <td>703228.0</td>\n      <td>703228.0</td>\n      <td>703228.0</td>\n      <td>703228.0</td>\n      <td>703228.0</td>\n      <td>703228.0</td>\n      <td>703228.0</td>\n      <td>703228.0</td>\n      <td>703228.0</td>\n    </tr>\n    <tr>\n      <th>Yemen</th>\n      <th>Asia</th>\n      <td>0.0</td>\n      <td>0.0</td>\n      <td>0.0</td>\n      <td>0.0</td>\n      <td>0.0</td>\n      <td>0.0</td>\n      <td>0.0</td>\n      <td>0.0</td>\n      <td>0.0</td>\n      <td>0.0</td>\n      <td>...</td>\n      <td>11945.0</td>\n      <td>11945.0</td>\n      <td>11945.0</td>\n      <td>11945.0</td>\n      <td>11945.0</td>\n      <td>11945.0</td>\n      <td>11945.0</td>\n      <td>11945.0</td>\n      <td>11945.0</td>\n      <td>11945.0</td>\n    </tr>\n    <tr>\n      <th>Zambia</th>\n      <th>Africa</th>\n      <td>0.0</td>\n      <td>0.0</td>\n      <td>0.0</td>\n      <td>0.0</td>\n      <td>0.0</td>\n      <td>0.0</td>\n      <td>0.0</td>\n      <td>0.0</td>\n      <td>0.0</td>\n      <td>0.0</td>\n      <td>...</td>\n      <td>343012.0</td>\n      <td>343012.0</td>\n      <td>343079.0</td>\n      <td>343079.0</td>\n      <td>343079.0</td>\n      <td>343135.0</td>\n      <td>343135.0</td>\n      <td>343135.0</td>\n      <td>343135.0</td>\n      <td>343135.0</td>\n    </tr>\n    <tr>\n      <th>Zimbabwe</th>\n      <th>Africa</th>\n      <td>0.0</td>\n      <td>0.0</td>\n      <td>0.0</td>\n      <td>0.0</td>\n      <td>0.0</td>\n      <td>0.0</td>\n      <td>0.0</td>\n      <td>0.0</td>\n      <td>0.0</td>\n      <td>0.0</td>\n      <td>...</td>\n      <td>263921.0</td>\n      <td>264127.0</td>\n      <td>264127.0</td>\n      <td>264127.0</td>\n      <td>264127.0</td>\n      <td>264127.0</td>\n      <td>264127.0</td>\n      <td>264127.0</td>\n      <td>264276.0</td>\n      <td>264276.0</td>\n    </tr>\n  </tbody>\n</table>\n<p>200 rows × 1144 columns</p>\n</div>"
     },
     "execution_count": 153,
     "metadata": {},
     "output_type": "execute_result"
    }
   ],
   "source": [
    "data"
   ],
   "metadata": {
    "collapsed": false,
    "ExecuteTime": {
     "end_time": "2023-12-11T09:47:31.532418Z",
     "start_time": "2023-12-11T09:47:31.510068Z"
    }
   },
   "id": "ed71ebb84603b2c0"
  },
  {
   "cell_type": "code",
   "execution_count": 160,
   "outputs": [
    {
     "data": {
      "text/plain": "            Country/Region Region Name     Date  New Cases\n0              Afghanistan        Asia  1/21/20        0.0\n1                  Albania      Europe  1/21/20        0.0\n2                  Algeria      Africa  1/21/20        0.0\n3                  Andorra      Europe  1/21/20        0.0\n4                   Angola      Africa  1/21/20        0.0\n...                    ...         ...      ...        ...\n228795             Vietnam        Asia   3/9/23        0.0\n228796  West Bank and Gaza        Asia   3/9/23        0.0\n228797               Yemen        Asia   3/9/23        0.0\n228798              Zambia      Africa   3/9/23        0.0\n228799            Zimbabwe      Africa   3/9/23        0.0\n\n[228800 rows x 4 columns]",
      "text/html": "<div>\n<style scoped>\n    .dataframe tbody tr th:only-of-type {\n        vertical-align: middle;\n    }\n\n    .dataframe tbody tr th {\n        vertical-align: top;\n    }\n\n    .dataframe thead th {\n        text-align: right;\n    }\n</style>\n<table border=\"1\" class=\"dataframe\">\n  <thead>\n    <tr style=\"text-align: right;\">\n      <th></th>\n      <th>Country/Region</th>\n      <th>Region Name</th>\n      <th>Date</th>\n      <th>New Cases</th>\n    </tr>\n  </thead>\n  <tbody>\n    <tr>\n      <th>0</th>\n      <td>Afghanistan</td>\n      <td>Asia</td>\n      <td>1/21/20</td>\n      <td>0.0</td>\n    </tr>\n    <tr>\n      <th>1</th>\n      <td>Albania</td>\n      <td>Europe</td>\n      <td>1/21/20</td>\n      <td>0.0</td>\n    </tr>\n    <tr>\n      <th>2</th>\n      <td>Algeria</td>\n      <td>Africa</td>\n      <td>1/21/20</td>\n      <td>0.0</td>\n    </tr>\n    <tr>\n      <th>3</th>\n      <td>Andorra</td>\n      <td>Europe</td>\n      <td>1/21/20</td>\n      <td>0.0</td>\n    </tr>\n    <tr>\n      <th>4</th>\n      <td>Angola</td>\n      <td>Africa</td>\n      <td>1/21/20</td>\n      <td>0.0</td>\n    </tr>\n    <tr>\n      <th>...</th>\n      <td>...</td>\n      <td>...</td>\n      <td>...</td>\n      <td>...</td>\n    </tr>\n    <tr>\n      <th>228795</th>\n      <td>Vietnam</td>\n      <td>Asia</td>\n      <td>3/9/23</td>\n      <td>0.0</td>\n    </tr>\n    <tr>\n      <th>228796</th>\n      <td>West Bank and Gaza</td>\n      <td>Asia</td>\n      <td>3/9/23</td>\n      <td>0.0</td>\n    </tr>\n    <tr>\n      <th>228797</th>\n      <td>Yemen</td>\n      <td>Asia</td>\n      <td>3/9/23</td>\n      <td>0.0</td>\n    </tr>\n    <tr>\n      <th>228798</th>\n      <td>Zambia</td>\n      <td>Africa</td>\n      <td>3/9/23</td>\n      <td>0.0</td>\n    </tr>\n    <tr>\n      <th>228799</th>\n      <td>Zimbabwe</td>\n      <td>Africa</td>\n      <td>3/9/23</td>\n      <td>0.0</td>\n    </tr>\n  </tbody>\n</table>\n<p>228800 rows × 4 columns</p>\n</div>"
     },
     "execution_count": 160,
     "metadata": {},
     "output_type": "execute_result"
    }
   ],
   "source": [
    "# Nbr de nouveau cas pas pays\n",
    "covid19 = data.T.diff().fillna(0).T.reset_index().melt(id_vars=['Country/Region', 'Region Name'],var_name='Date', value_name='New Cases')\n",
    "covid19"
   ],
   "metadata": {
    "collapsed": false,
    "ExecuteTime": {
     "end_time": "2023-12-11T09:50:08.440557Z",
     "start_time": "2023-12-11T09:50:08.163946Z"
    }
   },
   "id": "99613fc837c22844"
  },
  {
   "cell_type": "code",
   "execution_count": 176,
   "outputs": [
    {
     "data": {
      "text/plain": "         New Cases by day\nDate                     \n1/1/21           563692.0\n1/1/22          1203137.0\n1/1/23           314595.0\n1/10/21          601539.0\n1/10/22         3251715.0\n...                   ...\n9/8/21           637701.0\n9/8/22           583960.0\n9/9/20           285310.0\n9/9/21           640145.0\n9/9/22           525628.0\n\n[1144 rows x 1 columns]",
      "text/html": "<div>\n<style scoped>\n    .dataframe tbody tr th:only-of-type {\n        vertical-align: middle;\n    }\n\n    .dataframe tbody tr th {\n        vertical-align: top;\n    }\n\n    .dataframe thead th {\n        text-align: right;\n    }\n</style>\n<table border=\"1\" class=\"dataframe\">\n  <thead>\n    <tr style=\"text-align: right;\">\n      <th></th>\n      <th>New Cases by day</th>\n    </tr>\n    <tr>\n      <th>Date</th>\n      <th></th>\n    </tr>\n  </thead>\n  <tbody>\n    <tr>\n      <th>1/1/21</th>\n      <td>563692.0</td>\n    </tr>\n    <tr>\n      <th>1/1/22</th>\n      <td>1203137.0</td>\n    </tr>\n    <tr>\n      <th>1/1/23</th>\n      <td>314595.0</td>\n    </tr>\n    <tr>\n      <th>1/10/21</th>\n      <td>601539.0</td>\n    </tr>\n    <tr>\n      <th>1/10/22</th>\n      <td>3251715.0</td>\n    </tr>\n    <tr>\n      <th>...</th>\n      <td>...</td>\n    </tr>\n    <tr>\n      <th>9/8/21</th>\n      <td>637701.0</td>\n    </tr>\n    <tr>\n      <th>9/8/22</th>\n      <td>583960.0</td>\n    </tr>\n    <tr>\n      <th>9/9/20</th>\n      <td>285310.0</td>\n    </tr>\n    <tr>\n      <th>9/9/21</th>\n      <td>640145.0</td>\n    </tr>\n    <tr>\n      <th>9/9/22</th>\n      <td>525628.0</td>\n    </tr>\n  </tbody>\n</table>\n<p>1144 rows × 1 columns</p>\n</div>"
     },
     "execution_count": 176,
     "metadata": {},
     "output_type": "execute_result"
    }
   ],
   "source": [
    "#new cases by date\n",
    "newcases_date = covid19[['Date','New Cases']].groupby(['Date']).sum()\n",
    "newcases_date.rename(columns={'New Cases':\"New Cases by day\"}, inplace=True)\n",
    "newcases_date"
   ],
   "metadata": {
    "collapsed": false,
    "ExecuteTime": {
     "end_time": "2023-12-11T10:06:42.628987Z",
     "start_time": "2023-12-11T10:06:42.616550Z"
    }
   },
   "id": "ddba3ade7a0ecea8"
  },
  {
   "cell_type": "code",
   "execution_count": 161,
   "outputs": [
    {
     "data": {
      "text/plain": "            Country/Region Region Name     Date  Cases by country\n0              Afghanistan        Asia  1/21/20               0.0\n1                  Albania      Europe  1/21/20               0.0\n2                  Algeria      Africa  1/21/20               0.0\n3                  Andorra      Europe  1/21/20               0.0\n4                   Angola      Africa  1/21/20               0.0\n...                    ...         ...      ...               ...\n228795             Vietnam        Asia   3/9/23        11526994.0\n228796  West Bank and Gaza        Asia   3/9/23          703228.0\n228797               Yemen        Asia   3/9/23           11945.0\n228798              Zambia      Africa   3/9/23          343135.0\n228799            Zimbabwe      Africa   3/9/23          264276.0\n\n[228800 rows x 4 columns]",
      "text/html": "<div>\n<style scoped>\n    .dataframe tbody tr th:only-of-type {\n        vertical-align: middle;\n    }\n\n    .dataframe tbody tr th {\n        vertical-align: top;\n    }\n\n    .dataframe thead th {\n        text-align: right;\n    }\n</style>\n<table border=\"1\" class=\"dataframe\">\n  <thead>\n    <tr style=\"text-align: right;\">\n      <th></th>\n      <th>Country/Region</th>\n      <th>Region Name</th>\n      <th>Date</th>\n      <th>Cases by country</th>\n    </tr>\n  </thead>\n  <tbody>\n    <tr>\n      <th>0</th>\n      <td>Afghanistan</td>\n      <td>Asia</td>\n      <td>1/21/20</td>\n      <td>0.0</td>\n    </tr>\n    <tr>\n      <th>1</th>\n      <td>Albania</td>\n      <td>Europe</td>\n      <td>1/21/20</td>\n      <td>0.0</td>\n    </tr>\n    <tr>\n      <th>2</th>\n      <td>Algeria</td>\n      <td>Africa</td>\n      <td>1/21/20</td>\n      <td>0.0</td>\n    </tr>\n    <tr>\n      <th>3</th>\n      <td>Andorra</td>\n      <td>Europe</td>\n      <td>1/21/20</td>\n      <td>0.0</td>\n    </tr>\n    <tr>\n      <th>4</th>\n      <td>Angola</td>\n      <td>Africa</td>\n      <td>1/21/20</td>\n      <td>0.0</td>\n    </tr>\n    <tr>\n      <th>...</th>\n      <td>...</td>\n      <td>...</td>\n      <td>...</td>\n      <td>...</td>\n    </tr>\n    <tr>\n      <th>228795</th>\n      <td>Vietnam</td>\n      <td>Asia</td>\n      <td>3/9/23</td>\n      <td>11526994.0</td>\n    </tr>\n    <tr>\n      <th>228796</th>\n      <td>West Bank and Gaza</td>\n      <td>Asia</td>\n      <td>3/9/23</td>\n      <td>703228.0</td>\n    </tr>\n    <tr>\n      <th>228797</th>\n      <td>Yemen</td>\n      <td>Asia</td>\n      <td>3/9/23</td>\n      <td>11945.0</td>\n    </tr>\n    <tr>\n      <th>228798</th>\n      <td>Zambia</td>\n      <td>Africa</td>\n      <td>3/9/23</td>\n      <td>343135.0</td>\n    </tr>\n    <tr>\n      <th>228799</th>\n      <td>Zimbabwe</td>\n      <td>Africa</td>\n      <td>3/9/23</td>\n      <td>264276.0</td>\n    </tr>\n  </tbody>\n</table>\n<p>228800 rows × 4 columns</p>\n</div>"
     },
     "execution_count": 161,
     "metadata": {},
     "output_type": "execute_result"
    }
   ],
   "source": [
    "#Nombre de cas par Pays cumulé\n",
    "data.reset_index().melt(id_vars=['Country/Region','Region Name'],var_name='Date', value_name='Cases by country')"
   ],
   "metadata": {
    "collapsed": false,
    "ExecuteTime": {
     "end_time": "2023-12-11T09:50:10.409422Z",
     "start_time": "2023-12-11T09:50:10.377128Z"
    }
   },
   "id": "4ace920e0615bd11"
  },
  {
   "cell_type": "code",
   "execution_count": 162,
   "outputs": [
    {
     "data": {
      "text/plain": "     Region Name     Date  Case by Region\n0         Africa  1/21/20             0.0\n1       Americas  1/21/20             0.0\n2           Asia  1/21/20             0.0\n3         Europe  1/21/20             0.0\n4        Oceania  1/21/20             0.0\n...          ...      ...             ...\n5715      Africa   3/9/23      13059037.0\n5716    Americas   3/9/23     191238459.0\n5717        Asia   3/9/23     211418050.0\n5718      Europe   3/9/23     246814428.0\n5719     Oceania   3/9/23      14014081.0\n\n[5720 rows x 3 columns]",
      "text/html": "<div>\n<style scoped>\n    .dataframe tbody tr th:only-of-type {\n        vertical-align: middle;\n    }\n\n    .dataframe tbody tr th {\n        vertical-align: top;\n    }\n\n    .dataframe thead th {\n        text-align: right;\n    }\n</style>\n<table border=\"1\" class=\"dataframe\">\n  <thead>\n    <tr style=\"text-align: right;\">\n      <th></th>\n      <th>Region Name</th>\n      <th>Date</th>\n      <th>Case by Region</th>\n    </tr>\n  </thead>\n  <tbody>\n    <tr>\n      <th>0</th>\n      <td>Africa</td>\n      <td>1/21/20</td>\n      <td>0.0</td>\n    </tr>\n    <tr>\n      <th>1</th>\n      <td>Americas</td>\n      <td>1/21/20</td>\n      <td>0.0</td>\n    </tr>\n    <tr>\n      <th>2</th>\n      <td>Asia</td>\n      <td>1/21/20</td>\n      <td>0.0</td>\n    </tr>\n    <tr>\n      <th>3</th>\n      <td>Europe</td>\n      <td>1/21/20</td>\n      <td>0.0</td>\n    </tr>\n    <tr>\n      <th>4</th>\n      <td>Oceania</td>\n      <td>1/21/20</td>\n      <td>0.0</td>\n    </tr>\n    <tr>\n      <th>...</th>\n      <td>...</td>\n      <td>...</td>\n      <td>...</td>\n    </tr>\n    <tr>\n      <th>5715</th>\n      <td>Africa</td>\n      <td>3/9/23</td>\n      <td>13059037.0</td>\n    </tr>\n    <tr>\n      <th>5716</th>\n      <td>Americas</td>\n      <td>3/9/23</td>\n      <td>191238459.0</td>\n    </tr>\n    <tr>\n      <th>5717</th>\n      <td>Asia</td>\n      <td>3/9/23</td>\n      <td>211418050.0</td>\n    </tr>\n    <tr>\n      <th>5718</th>\n      <td>Europe</td>\n      <td>3/9/23</td>\n      <td>246814428.0</td>\n    </tr>\n    <tr>\n      <th>5719</th>\n      <td>Oceania</td>\n      <td>3/9/23</td>\n      <td>14014081.0</td>\n    </tr>\n  </tbody>\n</table>\n<p>5720 rows × 3 columns</p>\n</div>"
     },
     "execution_count": 162,
     "metadata": {},
     "output_type": "execute_result"
    }
   ],
   "source": [
    "# Nombre de cas par continent cumulé\n",
    "continent_cumsum = data.groupby(['Region Name']).sum().reset_index().melt(id_vars=['Region Name'],var_name='Date', value_name='Case by Region')\n",
    "continent_cumsum"
   ],
   "metadata": {
    "collapsed": false,
    "ExecuteTime": {
     "end_time": "2023-12-11T09:50:10.945788Z",
     "start_time": "2023-12-11T09:50:10.920684Z"
    }
   },
   "id": "b2c36158b6ee8ad0"
  },
  {
   "cell_type": "code",
   "execution_count": 190,
   "outputs": [
    {
     "data": {
      "text/plain": "     Region Name     Date  New Cases by region/day\n0         Africa   1/1/21                  27814.0\n1         Africa   1/1/22                  40559.0\n2         Africa   1/1/23                    514.0\n3         Africa  1/10/21                  31638.0\n4         Africa  1/10/22                  37673.0\n...          ...      ...                      ...\n5715     Oceania   9/8/21                   1992.0\n5716     Oceania   9/8/22                   9461.0\n5717     Oceania   9/9/20                     87.0\n5718     Oceania   9/9/21                   2445.0\n5719     Oceania   9/9/22                   2061.0\n\n[5720 rows x 3 columns]",
      "text/html": "<div>\n<style scoped>\n    .dataframe tbody tr th:only-of-type {\n        vertical-align: middle;\n    }\n\n    .dataframe tbody tr th {\n        vertical-align: top;\n    }\n\n    .dataframe thead th {\n        text-align: right;\n    }\n</style>\n<table border=\"1\" class=\"dataframe\">\n  <thead>\n    <tr style=\"text-align: right;\">\n      <th></th>\n      <th>Region Name</th>\n      <th>Date</th>\n      <th>New Cases by region/day</th>\n    </tr>\n  </thead>\n  <tbody>\n    <tr>\n      <th>0</th>\n      <td>Africa</td>\n      <td>1/1/21</td>\n      <td>27814.0</td>\n    </tr>\n    <tr>\n      <th>1</th>\n      <td>Africa</td>\n      <td>1/1/22</td>\n      <td>40559.0</td>\n    </tr>\n    <tr>\n      <th>2</th>\n      <td>Africa</td>\n      <td>1/1/23</td>\n      <td>514.0</td>\n    </tr>\n    <tr>\n      <th>3</th>\n      <td>Africa</td>\n      <td>1/10/21</td>\n      <td>31638.0</td>\n    </tr>\n    <tr>\n      <th>4</th>\n      <td>Africa</td>\n      <td>1/10/22</td>\n      <td>37673.0</td>\n    </tr>\n    <tr>\n      <th>...</th>\n      <td>...</td>\n      <td>...</td>\n      <td>...</td>\n    </tr>\n    <tr>\n      <th>5715</th>\n      <td>Oceania</td>\n      <td>9/8/21</td>\n      <td>1992.0</td>\n    </tr>\n    <tr>\n      <th>5716</th>\n      <td>Oceania</td>\n      <td>9/8/22</td>\n      <td>9461.0</td>\n    </tr>\n    <tr>\n      <th>5717</th>\n      <td>Oceania</td>\n      <td>9/9/20</td>\n      <td>87.0</td>\n    </tr>\n    <tr>\n      <th>5718</th>\n      <td>Oceania</td>\n      <td>9/9/21</td>\n      <td>2445.0</td>\n    </tr>\n    <tr>\n      <th>5719</th>\n      <td>Oceania</td>\n      <td>9/9/22</td>\n      <td>2061.0</td>\n    </tr>\n  </tbody>\n</table>\n<p>5720 rows × 3 columns</p>\n</div>"
     },
     "execution_count": 190,
     "metadata": {},
     "output_type": "execute_result"
    }
   ],
   "source": [
    "# Nouveau cas par région\n",
    "newcases_date_region = covid19[['Date','Region Name','New Cases']].groupby(['Region Name','Date']).sum()\n",
    "newcases_date_region.reset_index(inplace=True)\n",
    "newcases_date_region.rename(columns={'New Cases':\"New Cases by region/day\"}, inplace=True)\n",
    "newcases_date_region"
   ],
   "metadata": {
    "collapsed": false,
    "ExecuteTime": {
     "end_time": "2023-12-11T10:12:55.658966Z",
     "start_time": "2023-12-11T10:12:55.635671Z"
    }
   },
   "id": "8b4a292d1d40c436"
  },
  {
   "cell_type": "code",
   "execution_count": 163,
   "outputs": [
    {
     "data": {
      "text/plain": "         Date  Global Cases\n0     1/21/20           0.0\n1     1/22/20         557.0\n2     1/23/20         657.0\n3     1/24/20         944.0\n4     1/25/20        1437.0\n...       ...           ...\n1139   3/5/23   675998807.0\n1140   3/6/23   676056847.0\n1141   3/7/23   676187284.0\n1142   3/8/23   676366730.0\n1143   3/9/23   676544055.0\n\n[1144 rows x 2 columns]",
      "text/html": "<div>\n<style scoped>\n    .dataframe tbody tr th:only-of-type {\n        vertical-align: middle;\n    }\n\n    .dataframe tbody tr th {\n        vertical-align: top;\n    }\n\n    .dataframe thead th {\n        text-align: right;\n    }\n</style>\n<table border=\"1\" class=\"dataframe\">\n  <thead>\n    <tr style=\"text-align: right;\">\n      <th></th>\n      <th>Date</th>\n      <th>Global Cases</th>\n    </tr>\n  </thead>\n  <tbody>\n    <tr>\n      <th>0</th>\n      <td>1/21/20</td>\n      <td>0.0</td>\n    </tr>\n    <tr>\n      <th>1</th>\n      <td>1/22/20</td>\n      <td>557.0</td>\n    </tr>\n    <tr>\n      <th>2</th>\n      <td>1/23/20</td>\n      <td>657.0</td>\n    </tr>\n    <tr>\n      <th>3</th>\n      <td>1/24/20</td>\n      <td>944.0</td>\n    </tr>\n    <tr>\n      <th>4</th>\n      <td>1/25/20</td>\n      <td>1437.0</td>\n    </tr>\n    <tr>\n      <th>...</th>\n      <td>...</td>\n      <td>...</td>\n    </tr>\n    <tr>\n      <th>1139</th>\n      <td>3/5/23</td>\n      <td>675998807.0</td>\n    </tr>\n    <tr>\n      <th>1140</th>\n      <td>3/6/23</td>\n      <td>676056847.0</td>\n    </tr>\n    <tr>\n      <th>1141</th>\n      <td>3/7/23</td>\n      <td>676187284.0</td>\n    </tr>\n    <tr>\n      <th>1142</th>\n      <td>3/8/23</td>\n      <td>676366730.0</td>\n    </tr>\n    <tr>\n      <th>1143</th>\n      <td>3/9/23</td>\n      <td>676544055.0</td>\n    </tr>\n  </tbody>\n</table>\n<p>1144 rows × 2 columns</p>\n</div>"
     },
     "execution_count": 163,
     "metadata": {},
     "output_type": "execute_result"
    }
   ],
   "source": [
    "# Nombre de cas world cumulé\n",
    "world_cumsum = data.T.sum(1).reset_index()\n",
    "world_cumsum.columns = ['Date','Global Cases']\n",
    "world_cumsum"
   ],
   "metadata": {
    "collapsed": false,
    "ExecuteTime": {
     "end_time": "2023-12-11T09:50:11.666414Z",
     "start_time": "2023-12-11T09:50:11.661011Z"
    }
   },
   "id": "dd06c1dea84cd717"
  },
  {
   "cell_type": "code",
   "execution_count": 164,
   "outputs": [
    {
     "data": {
      "text/plain": "            Country/Region Region Name     Date  New Cases\n0              Afghanistan        Asia  1/21/20        0.0\n1                  Albania      Europe  1/21/20        0.0\n2                  Algeria      Africa  1/21/20        0.0\n3                  Andorra      Europe  1/21/20        0.0\n4                   Angola      Africa  1/21/20        0.0\n...                    ...         ...      ...        ...\n228795             Vietnam        Asia   3/9/23        0.0\n228796  West Bank and Gaza        Asia   3/9/23        0.0\n228797               Yemen        Asia   3/9/23        0.0\n228798              Zambia      Africa   3/9/23        0.0\n228799            Zimbabwe      Africa   3/9/23        0.0\n\n[228800 rows x 4 columns]",
      "text/html": "<div>\n<style scoped>\n    .dataframe tbody tr th:only-of-type {\n        vertical-align: middle;\n    }\n\n    .dataframe tbody tr th {\n        vertical-align: top;\n    }\n\n    .dataframe thead th {\n        text-align: right;\n    }\n</style>\n<table border=\"1\" class=\"dataframe\">\n  <thead>\n    <tr style=\"text-align: right;\">\n      <th></th>\n      <th>Country/Region</th>\n      <th>Region Name</th>\n      <th>Date</th>\n      <th>New Cases</th>\n    </tr>\n  </thead>\n  <tbody>\n    <tr>\n      <th>0</th>\n      <td>Afghanistan</td>\n      <td>Asia</td>\n      <td>1/21/20</td>\n      <td>0.0</td>\n    </tr>\n    <tr>\n      <th>1</th>\n      <td>Albania</td>\n      <td>Europe</td>\n      <td>1/21/20</td>\n      <td>0.0</td>\n    </tr>\n    <tr>\n      <th>2</th>\n      <td>Algeria</td>\n      <td>Africa</td>\n      <td>1/21/20</td>\n      <td>0.0</td>\n    </tr>\n    <tr>\n      <th>3</th>\n      <td>Andorra</td>\n      <td>Europe</td>\n      <td>1/21/20</td>\n      <td>0.0</td>\n    </tr>\n    <tr>\n      <th>4</th>\n      <td>Angola</td>\n      <td>Africa</td>\n      <td>1/21/20</td>\n      <td>0.0</td>\n    </tr>\n    <tr>\n      <th>...</th>\n      <td>...</td>\n      <td>...</td>\n      <td>...</td>\n      <td>...</td>\n    </tr>\n    <tr>\n      <th>228795</th>\n      <td>Vietnam</td>\n      <td>Asia</td>\n      <td>3/9/23</td>\n      <td>0.0</td>\n    </tr>\n    <tr>\n      <th>228796</th>\n      <td>West Bank and Gaza</td>\n      <td>Asia</td>\n      <td>3/9/23</td>\n      <td>0.0</td>\n    </tr>\n    <tr>\n      <th>228797</th>\n      <td>Yemen</td>\n      <td>Asia</td>\n      <td>3/9/23</td>\n      <td>0.0</td>\n    </tr>\n    <tr>\n      <th>228798</th>\n      <td>Zambia</td>\n      <td>Africa</td>\n      <td>3/9/23</td>\n      <td>0.0</td>\n    </tr>\n    <tr>\n      <th>228799</th>\n      <td>Zimbabwe</td>\n      <td>Africa</td>\n      <td>3/9/23</td>\n      <td>0.0</td>\n    </tr>\n  </tbody>\n</table>\n<p>228800 rows × 4 columns</p>\n</div>"
     },
     "execution_count": 164,
     "metadata": {},
     "output_type": "execute_result"
    }
   ],
   "source": [
    "covid19"
   ],
   "metadata": {
    "collapsed": false,
    "ExecuteTime": {
     "end_time": "2023-12-11T09:50:12.391577Z",
     "start_time": "2023-12-11T09:50:12.389002Z"
    }
   },
   "id": "8e6eb4716fac31a0"
  },
  {
   "cell_type": "code",
   "execution_count": 165,
   "outputs": [],
   "source": [
    "covid19 = covid19.merge(world_cumsum, how='left',on='Date').merge(continent_cumsum, how='left', on=['Region Name','Date'])"
   ],
   "metadata": {
    "collapsed": false,
    "ExecuteTime": {
     "end_time": "2023-12-11T09:50:12.959172Z",
     "start_time": "2023-12-11T09:50:12.927434Z"
    }
   },
   "id": "c9d43465938f18f9"
  },
  {
   "cell_type": "code",
   "execution_count": 192,
   "outputs": [],
   "source": [
    "covid19 = covid19.merge(newcases_date, how='left', on='Date').merge(newcases_date_region, how='left', on=['Region Name','Date'])"
   ],
   "metadata": {
    "collapsed": false,
    "ExecuteTime": {
     "end_time": "2023-12-11T10:13:07.566336Z",
     "start_time": "2023-12-11T10:13:07.508194Z"
    }
   },
   "id": "28e820132fb74dcd"
  },
  {
   "cell_type": "code",
   "execution_count": 193,
   "outputs": [
    {
     "data": {
      "text/plain": "            Country/Region Region Name     Date  New Cases  Global Cases  \\\n0              Afghanistan        Asia  1/21/20        0.0           0.0   \n1                  Albania      Europe  1/21/20        0.0           0.0   \n2                  Algeria      Africa  1/21/20        0.0           0.0   \n3                  Andorra      Europe  1/21/20        0.0           0.0   \n4                   Angola      Africa  1/21/20        0.0           0.0   \n...                    ...         ...      ...        ...           ...   \n228795             Vietnam        Asia   3/9/23        0.0   676544055.0   \n228796  West Bank and Gaza        Asia   3/9/23        0.0   676544055.0   \n228797               Yemen        Asia   3/9/23        0.0   676544055.0   \n228798              Zambia      Africa   3/9/23        0.0   676544055.0   \n228799            Zimbabwe      Africa   3/9/23        0.0   676544055.0   \n\n        Case by Region  New Cases by day  New Cases by region/day  \n0                  0.0               0.0                      0.0  \n1                  0.0               0.0                      0.0  \n2                  0.0               0.0                      0.0  \n3                  0.0               0.0                      0.0  \n4                  0.0               0.0                      0.0  \n...                ...               ...                      ...  \n228795     211418050.0          177325.0                  23308.0  \n228796     211418050.0          177325.0                  23308.0  \n228797     211418050.0          177325.0                  23308.0  \n228798      13059037.0          177325.0                    451.0  \n228799      13059037.0          177325.0                    451.0  \n\n[228800 rows x 8 columns]",
      "text/html": "<div>\n<style scoped>\n    .dataframe tbody tr th:only-of-type {\n        vertical-align: middle;\n    }\n\n    .dataframe tbody tr th {\n        vertical-align: top;\n    }\n\n    .dataframe thead th {\n        text-align: right;\n    }\n</style>\n<table border=\"1\" class=\"dataframe\">\n  <thead>\n    <tr style=\"text-align: right;\">\n      <th></th>\n      <th>Country/Region</th>\n      <th>Region Name</th>\n      <th>Date</th>\n      <th>New Cases</th>\n      <th>Global Cases</th>\n      <th>Case by Region</th>\n      <th>New Cases by day</th>\n      <th>New Cases by region/day</th>\n    </tr>\n  </thead>\n  <tbody>\n    <tr>\n      <th>0</th>\n      <td>Afghanistan</td>\n      <td>Asia</td>\n      <td>1/21/20</td>\n      <td>0.0</td>\n      <td>0.0</td>\n      <td>0.0</td>\n      <td>0.0</td>\n      <td>0.0</td>\n    </tr>\n    <tr>\n      <th>1</th>\n      <td>Albania</td>\n      <td>Europe</td>\n      <td>1/21/20</td>\n      <td>0.0</td>\n      <td>0.0</td>\n      <td>0.0</td>\n      <td>0.0</td>\n      <td>0.0</td>\n    </tr>\n    <tr>\n      <th>2</th>\n      <td>Algeria</td>\n      <td>Africa</td>\n      <td>1/21/20</td>\n      <td>0.0</td>\n      <td>0.0</td>\n      <td>0.0</td>\n      <td>0.0</td>\n      <td>0.0</td>\n    </tr>\n    <tr>\n      <th>3</th>\n      <td>Andorra</td>\n      <td>Europe</td>\n      <td>1/21/20</td>\n      <td>0.0</td>\n      <td>0.0</td>\n      <td>0.0</td>\n      <td>0.0</td>\n      <td>0.0</td>\n    </tr>\n    <tr>\n      <th>4</th>\n      <td>Angola</td>\n      <td>Africa</td>\n      <td>1/21/20</td>\n      <td>0.0</td>\n      <td>0.0</td>\n      <td>0.0</td>\n      <td>0.0</td>\n      <td>0.0</td>\n    </tr>\n    <tr>\n      <th>...</th>\n      <td>...</td>\n      <td>...</td>\n      <td>...</td>\n      <td>...</td>\n      <td>...</td>\n      <td>...</td>\n      <td>...</td>\n      <td>...</td>\n    </tr>\n    <tr>\n      <th>228795</th>\n      <td>Vietnam</td>\n      <td>Asia</td>\n      <td>3/9/23</td>\n      <td>0.0</td>\n      <td>676544055.0</td>\n      <td>211418050.0</td>\n      <td>177325.0</td>\n      <td>23308.0</td>\n    </tr>\n    <tr>\n      <th>228796</th>\n      <td>West Bank and Gaza</td>\n      <td>Asia</td>\n      <td>3/9/23</td>\n      <td>0.0</td>\n      <td>676544055.0</td>\n      <td>211418050.0</td>\n      <td>177325.0</td>\n      <td>23308.0</td>\n    </tr>\n    <tr>\n      <th>228797</th>\n      <td>Yemen</td>\n      <td>Asia</td>\n      <td>3/9/23</td>\n      <td>0.0</td>\n      <td>676544055.0</td>\n      <td>211418050.0</td>\n      <td>177325.0</td>\n      <td>23308.0</td>\n    </tr>\n    <tr>\n      <th>228798</th>\n      <td>Zambia</td>\n      <td>Africa</td>\n      <td>3/9/23</td>\n      <td>0.0</td>\n      <td>676544055.0</td>\n      <td>13059037.0</td>\n      <td>177325.0</td>\n      <td>451.0</td>\n    </tr>\n    <tr>\n      <th>228799</th>\n      <td>Zimbabwe</td>\n      <td>Africa</td>\n      <td>3/9/23</td>\n      <td>0.0</td>\n      <td>676544055.0</td>\n      <td>13059037.0</td>\n      <td>177325.0</td>\n      <td>451.0</td>\n    </tr>\n  </tbody>\n</table>\n<p>228800 rows × 8 columns</p>\n</div>"
     },
     "execution_count": 193,
     "metadata": {},
     "output_type": "execute_result"
    }
   ],
   "source": [
    "covid19"
   ],
   "metadata": {
    "collapsed": false,
    "ExecuteTime": {
     "end_time": "2023-12-11T10:13:12.046522Z",
     "start_time": "2023-12-11T10:13:12.032596Z"
    }
   },
   "id": "1916e88234a71a56"
  },
  {
   "cell_type": "code",
   "execution_count": 195,
   "outputs": [],
   "source": [
    "covid19.to_csv('data/covid19_Looker_v2.csv', index=False)"
   ],
   "metadata": {
    "collapsed": false,
    "ExecuteTime": {
     "end_time": "2023-12-11T10:13:46.258274Z",
     "start_time": "2023-12-11T10:13:45.809194Z"
    }
   },
   "id": "f84ff453e268674"
  },
  {
   "cell_type": "code",
   "execution_count": 199,
   "outputs": [],
   "source": [
    "covid19_fr = covid19[(covid19['Country/Region']==\"France\") & (covid19['Region Name']==\"Europe\")][['Date','New Cases']]"
   ],
   "metadata": {
    "collapsed": false,
    "ExecuteTime": {
     "start_time": "2023-12-11T10:49:00.065608Z"
    }
   },
   "id": "3059b89d2326d366"
  },
  {
   "cell_type": "code",
   "execution_count": 204,
   "outputs": [],
   "source": [
    "covid19_fr.insert(2,'Total Cases',covid19_fr['New Cases'].cumsum())"
   ],
   "metadata": {
    "collapsed": false,
    "ExecuteTime": {
     "start_time": "2023-12-11T10:49:56.874045Z"
    }
   },
   "id": "f782b52f06a3a209"
  },
  {
   "cell_type": "code",
   "execution_count": 206,
   "outputs": [],
   "source": [
    "covid19_fr.to_csv('data/covid19_fr.csv', index=False)"
   ],
   "metadata": {
    "collapsed": false,
    "ExecuteTime": {
     "end_time": "2023-12-11T10:50:28.680287Z",
     "start_time": "2023-12-11T10:50:28.668232Z"
    }
   },
   "id": "f8398ad5c37c7550"
  },
  {
   "cell_type": "code",
   "execution_count": 33,
   "outputs": [],
   "source": [],
   "metadata": {
    "collapsed": false,
    "ExecuteTime": {
     "end_time": "2023-12-11T09:12:35.654340Z",
     "start_time": "2023-12-11T09:12:35.650017Z"
    }
   },
   "id": "bee987e4574d8ad3"
  }
 ],
 "metadata": {
  "kernelspec": {
   "display_name": "Python 3",
   "language": "python",
   "name": "python3"
  },
  "language_info": {
   "codemirror_mode": {
    "name": "ipython",
    "version": 2
   },
   "file_extension": ".py",
   "mimetype": "text/x-python",
   "name": "python",
   "nbconvert_exporter": "python",
   "pygments_lexer": "ipython2",
   "version": "2.7.6"
  }
 },
 "nbformat": 4,
 "nbformat_minor": 5
}
