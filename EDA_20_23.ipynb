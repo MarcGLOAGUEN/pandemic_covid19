{
 "cells": [
  {
   "cell_type": "code",
   "execution_count": 11,
   "id": "initial_id",
   "metadata": {
    "collapsed": true,
    "ExecuteTime": {
     "end_time": "2023-12-08T08:11:21.700034Z",
     "start_time": "2023-12-08T08:11:21.692713Z"
    }
   },
   "outputs": [],
   "source": [
    "import pandas as pd\n",
    "import plotly.express as px\n",
    "import json"
   ]
  },
  {
   "cell_type": "code",
   "execution_count": 12,
   "outputs": [],
   "source": [
    "data = pd.read_csv('data/time_series_covid19_confirmed_global_iso3_regions.csv')"
   ],
   "metadata": {
    "collapsed": false,
    "ExecuteTime": {
     "end_time": "2023-12-08T08:11:22.080194Z",
     "start_time": "2023-12-08T08:11:22.046751Z"
    }
   },
   "id": "d07fb998aed851bf"
  },
  {
   "cell_type": "code",
   "execution_count": 13,
   "outputs": [],
   "source": [
    "data.drop(index=0, inplace=True)"
   ],
   "metadata": {
    "collapsed": false,
    "ExecuteTime": {
     "end_time": "2023-12-08T08:11:22.377586Z",
     "start_time": "2023-12-08T08:11:22.371596Z"
    }
   },
   "id": "974395c23ecece2b"
  },
  {
   "cell_type": "code",
   "execution_count": 14,
   "outputs": [
    {
     "data": {
      "text/plain": "Index(['Province/State', 'Country/Region', 'Lat', 'Long'], dtype='object')"
     },
     "execution_count": 14,
     "metadata": {},
     "output_type": "execute_result"
    }
   ],
   "source": [
    "data.columns[:4]"
   ],
   "metadata": {
    "collapsed": false,
    "ExecuteTime": {
     "end_time": "2023-12-08T08:11:22.751075Z",
     "start_time": "2023-12-08T08:11:22.745864Z"
    }
   },
   "id": "e603ac539352c3f1"
  },
  {
   "cell_type": "code",
   "execution_count": 15,
   "outputs": [
    {
     "data": {
      "text/plain": "Index(['ISO 3166-1 Alpha 3-Codes', 'Region Code', 'Region Name',\n       'Sub-region Code', 'Sub-region Name', 'Intermediate Region Code',\n       'Intermediate Region Name'],\n      dtype='object')"
     },
     "execution_count": 15,
     "metadata": {},
     "output_type": "execute_result"
    }
   ],
   "source": [
    "data.columns[-7:]"
   ],
   "metadata": {
    "collapsed": false,
    "ExecuteTime": {
     "end_time": "2023-12-08T08:11:23.101924Z",
     "start_time": "2023-12-08T08:11:23.096027Z"
    }
   },
   "id": "b60d7329f615c082"
  },
  {
   "cell_type": "code",
   "execution_count": 16,
   "outputs": [],
   "source": [
    "regions = data.drop(columns=data.columns[:4]).drop(columns=['ISO 3166-1 Alpha 3-Codes', 'Region Code','Sub-region Code', 'Sub-region Name', 'Intermediate Region Code','Intermediate Region Name']).groupby('Region Name').sum().T"
   ],
   "metadata": {
    "collapsed": false,
    "ExecuteTime": {
     "end_time": "2023-12-08T08:11:23.432055Z",
     "start_time": "2023-12-08T08:11:23.427849Z"
    }
   },
   "id": "be060994585ede77"
  },
  {
   "cell_type": "code",
   "execution_count": 17,
   "outputs": [],
   "source": [
    "regions.columns.name=None"
   ],
   "metadata": {
    "collapsed": false,
    "ExecuteTime": {
     "end_time": "2023-12-08T08:11:23.810953Z",
     "start_time": "2023-12-08T08:11:23.806228Z"
    }
   },
   "id": "c7f2422e947f1ab4"
  },
  {
   "cell_type": "code",
   "execution_count": 18,
   "outputs": [],
   "source": [
    "regions.index = pd.to_datetime(regions.index, format='%m/%d/%y') "
   ],
   "metadata": {
    "collapsed": false,
    "ExecuteTime": {
     "end_time": "2023-12-08T08:11:24.333890Z",
     "start_time": "2023-12-08T08:11:24.328644Z"
    }
   },
   "id": "5a5ac3d4c8983227"
  },
  {
   "cell_type": "code",
   "execution_count": 19,
   "outputs": [],
   "source": [
    "regions.to_csv('data_ml/regions.csv')"
   ],
   "metadata": {
    "collapsed": false,
    "ExecuteTime": {
     "end_time": "2023-12-08T08:11:25.471281Z",
     "start_time": "2023-12-08T08:11:25.460279Z"
    }
   },
   "id": "362cc52fdf6aaebd"
  },
  {
   "cell_type": "code",
   "execution_count": null,
   "outputs": [],
   "source": [
    "px.line(regions.diff().applymap(lambda x : max(0,x)), y=regions.columns, height=800)"
   ],
   "metadata": {
    "collapsed": false,
    "ExecuteTime": {
     "start_time": "2023-12-07T17:01:43.258890Z"
    }
   },
   "id": "b9e38d67bde3e877"
  },
  {
   "cell_type": "code",
   "execution_count": null,
   "outputs": [],
   "source": [
    "countries = data.set_index(['ISO 3166-1 Alpha 3-Codes',\"Country/Region\"]).drop(columns=['Province/State','Lat', 'Long']).drop(columns=['Region Name', 'Region Code','Sub-region Code', 'Sub-region Name', 'Intermediate Region Code','Intermediate Region Name']).T"
   ],
   "metadata": {
    "collapsed": false,
    "ExecuteTime": {
     "start_time": "2023-12-07T17:01:43.259897Z"
    }
   },
   "id": "43aa9512f120da20"
  },
  {
   "cell_type": "code",
   "execution_count": null,
   "outputs": [],
   "source": [
    "countries.index = pd.to_datetime(countries.index, format='%m/%d/%y') "
   ],
   "metadata": {
    "collapsed": false,
    "ExecuteTime": {
     "start_time": "2023-12-07T17:01:43.260786Z"
    }
   },
   "id": "49f8b4f4ba543004"
  },
  {
   "cell_type": "code",
   "execution_count": null,
   "outputs": [],
   "source": [
    "countries"
   ],
   "metadata": {
    "collapsed": false,
    "ExecuteTime": {
     "start_time": "2023-12-07T17:01:43.261539Z"
    }
   },
   "id": "2fbf3ce546c65f43"
  },
  {
   "cell_type": "code",
   "execution_count": null,
   "outputs": [],
   "source": [
    "countries = countries.resample('Q').sum().reset_index().melt(id_vars=['index'])"
   ],
   "metadata": {
    "collapsed": false,
    "ExecuteTime": {
     "start_time": "2023-12-07T17:01:43.262213Z"
    }
   },
   "id": "777aff038012a536"
  },
  {
   "cell_type": "code",
   "execution_count": null,
   "outputs": [],
   "source": [
    "countries"
   ],
   "metadata": {
    "collapsed": false,
    "ExecuteTime": {
     "start_time": "2023-12-07T17:01:43.263095Z"
    }
   },
   "id": "e6548583edb38b5c"
  },
  {
   "cell_type": "code",
   "execution_count": null,
   "outputs": [],
   "source": [
    "countries.columns = ['Date','ISO_A3','Country/Region','Cases']"
   ],
   "metadata": {
    "collapsed": false,
    "ExecuteTime": {
     "start_time": "2023-12-07T17:01:43.263864Z"
    }
   },
   "id": "4f8efb99b78cfc6b"
  },
  {
   "cell_type": "code",
   "execution_count": null,
   "outputs": [],
   "source": [
    "countries"
   ],
   "metadata": {
    "collapsed": false,
    "ExecuteTime": {
     "start_time": "2023-12-07T17:01:43.264679Z"
    }
   },
   "id": "f42ff0dcbb5402bb"
  },
  {
   "cell_type": "code",
   "execution_count": null,
   "outputs": [],
   "source": [
    "GeoJson = json.load(open(\"data/countries.geojson\", \"r\"))"
   ],
   "metadata": {
    "collapsed": false,
    "ExecuteTime": {
     "start_time": "2023-12-07T17:01:43.265524Z"
    }
   },
   "id": "c2419b1bc6c86991"
  },
  {
   "cell_type": "code",
   "execution_count": null,
   "outputs": [],
   "source": [
    "fig = px.choropleth_mapbox(\n",
    "    countries,\n",
    "    geojson=GeoJson,\n",
    "    locations='ISO_A3',\n",
    "    color='Cases',\n",
    "    featureidkey=\"properties.ISO_A3\",\n",
    "    zoom=1,\n",
    "    mapbox_style=\"open-street-map\",\n",
    "    width=1200,\n",
    "    height=900,\n",
    "    opacity=0.5,\n",
    "    animation_frame='Date',\n",
    "    color_continuous_scale=\"amp\",\n",
    "    range_color=(0,3000000000)\n",
    "    \n",
    ")"
   ],
   "metadata": {
    "collapsed": false,
    "ExecuteTime": {
     "start_time": "2023-12-07T17:01:43.266273Z"
    }
   },
   "id": "2aee283edeb6a1c1"
  },
  {
   "cell_type": "code",
   "execution_count": null,
   "outputs": [],
   "source": [
    "fig.write_html('Maps_20_23.html')"
   ],
   "metadata": {
    "collapsed": false,
    "ExecuteTime": {
     "start_time": "2023-12-07T17:01:43.267005Z"
    }
   },
   "id": "905cea15d88fb6a8"
  },
  {
   "cell_type": "code",
   "execution_count": null,
   "outputs": [],
   "source": [],
   "metadata": {
    "collapsed": false,
    "ExecuteTime": {
     "start_time": "2023-12-07T17:01:43.267808Z"
    }
   },
   "id": "3468a3e99c2a29e1"
  }
 ],
 "metadata": {
  "kernelspec": {
   "display_name": "Python 3",
   "language": "python",
   "name": "python3"
  },
  "language_info": {
   "codemirror_mode": {
    "name": "ipython",
    "version": 2
   },
   "file_extension": ".py",
   "mimetype": "text/x-python",
   "name": "python",
   "nbconvert_exporter": "python",
   "pygments_lexer": "ipython2",
   "version": "2.7.6"
  }
 },
 "nbformat": 4,
 "nbformat_minor": 5
}
