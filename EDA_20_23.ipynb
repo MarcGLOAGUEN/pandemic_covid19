{
 "cells": [
  {
   "cell_type": "code",
   "execution_count": 1,
   "id": "initial_id",
   "metadata": {
    "collapsed": true,
    "ExecuteTime": {
     "end_time": "2023-12-07T16:50:32.164188Z",
     "start_time": "2023-12-07T16:50:31.839472Z"
    }
   },
   "outputs": [],
   "source": [
    "import pandas as pd\n",
    "import plotly.express as px\n",
    "import json"
   ]
  },
  {
   "cell_type": "code",
   "execution_count": 2,
   "outputs": [],
   "source": [
    "data = pd.read_csv('data/time_series_covid19_confirmed_global_iso3_regions.csv')"
   ],
   "metadata": {
    "collapsed": false,
    "ExecuteTime": {
     "end_time": "2023-12-07T16:50:32.187815Z",
     "start_time": "2023-12-07T16:50:32.163784Z"
    }
   },
   "id": "d07fb998aed851bf"
  },
  {
   "cell_type": "code",
   "execution_count": 3,
   "outputs": [],
   "source": [
    "data.drop(index=0, inplace=True)"
   ],
   "metadata": {
    "collapsed": false,
    "ExecuteTime": {
     "end_time": "2023-12-07T16:50:32.195058Z",
     "start_time": "2023-12-07T16:50:32.189173Z"
    }
   },
   "id": "974395c23ecece2b"
  },
  {
   "cell_type": "code",
   "execution_count": 4,
   "outputs": [
    {
     "data": {
      "text/plain": "Index(['Province/State', 'Country/Region', 'Lat', 'Long'], dtype='object')"
     },
     "execution_count": 4,
     "metadata": {},
     "output_type": "execute_result"
    }
   ],
   "source": [
    "data.columns[:4]"
   ],
   "metadata": {
    "collapsed": false,
    "ExecuteTime": {
     "end_time": "2023-12-07T16:50:32.195793Z",
     "start_time": "2023-12-07T16:50:32.192429Z"
    }
   },
   "id": "e603ac539352c3f1"
  },
  {
   "cell_type": "code",
   "execution_count": 5,
   "outputs": [
    {
     "data": {
      "text/plain": "Index(['ISO 3166-1 Alpha 3-Codes', 'Region Code', 'Region Name',\n       'Sub-region Code', 'Sub-region Name', 'Intermediate Region Code',\n       'Intermediate Region Name'],\n      dtype='object')"
     },
     "execution_count": 5,
     "metadata": {},
     "output_type": "execute_result"
    }
   ],
   "source": [
    "data.columns[-7:]"
   ],
   "metadata": {
    "collapsed": false,
    "ExecuteTime": {
     "end_time": "2023-12-07T16:50:32.197208Z",
     "start_time": "2023-12-07T16:50:32.194928Z"
    }
   },
   "id": "b60d7329f615c082"
  },
  {
   "cell_type": "code",
   "execution_count": 6,
   "outputs": [],
   "source": [
    "regions = data.drop(columns=data.columns[:4]).drop(columns=['ISO 3166-1 Alpha 3-Codes', 'Region Code','Sub-region Code', 'Sub-region Name', 'Intermediate Region Code','Intermediate Region Name']).groupby('Region Name').sum().T"
   ],
   "metadata": {
    "collapsed": false,
    "ExecuteTime": {
     "end_time": "2023-12-07T16:50:32.204428Z",
     "start_time": "2023-12-07T16:50:32.197969Z"
    }
   },
   "id": "be060994585ede77"
  },
  {
   "cell_type": "code",
   "execution_count": 7,
   "outputs": [],
   "source": [
    "regions.columns.name=None"
   ],
   "metadata": {
    "collapsed": false,
    "ExecuteTime": {
     "end_time": "2023-12-07T16:50:32.204619Z",
     "start_time": "2023-12-07T16:50:32.201907Z"
    }
   },
   "id": "c7f2422e947f1ab4"
  },
  {
   "cell_type": "code",
   "execution_count": 8,
   "outputs": [],
   "source": [
    "regions.index = pd.to_datetime(regions.index, format='%m/%d/%y') "
   ],
   "metadata": {
    "collapsed": false,
    "ExecuteTime": {
     "end_time": "2023-12-07T16:50:32.211669Z",
     "start_time": "2023-12-07T16:50:32.205526Z"
    }
   },
   "id": "5a5ac3d4c8983227"
  },
  {
   "cell_type": "code",
   "execution_count": 9,
   "outputs": [
    {
     "data": {
      "text/plain": "                Africa     Americas         Asia       Europe     Oceania\n2020-01-22         0.0          1.0        556.0          0.0         0.0\n2020-01-23         0.0          3.0        654.0          0.0         0.0\n2020-01-24         0.0          5.0        937.0          2.0         0.0\n2020-01-25         0.0          5.0       1429.0          3.0         0.0\n2020-01-26         0.0          8.0       2105.0          3.0         4.0\n...                ...          ...          ...          ...         ...\n2023-03-05  13055369.0  191044835.0  211313286.0  246585327.0  13999990.0\n2023-03-06  13056372.0  191053527.0  211331424.0  246615532.0  13999992.0\n2023-03-07  13056975.0  191097450.0  211359172.0  246673695.0  13999992.0\n2023-03-08  13058586.0  191179187.0  211394742.0  246734062.0  14000153.0\n2023-03-09  13059037.0  191238459.0  211418050.0  246814428.0  14014081.0\n\n[1143 rows x 5 columns]",
      "text/html": "<div>\n<style scoped>\n    .dataframe tbody tr th:only-of-type {\n        vertical-align: middle;\n    }\n\n    .dataframe tbody tr th {\n        vertical-align: top;\n    }\n\n    .dataframe thead th {\n        text-align: right;\n    }\n</style>\n<table border=\"1\" class=\"dataframe\">\n  <thead>\n    <tr style=\"text-align: right;\">\n      <th></th>\n      <th>Africa</th>\n      <th>Americas</th>\n      <th>Asia</th>\n      <th>Europe</th>\n      <th>Oceania</th>\n    </tr>\n  </thead>\n  <tbody>\n    <tr>\n      <th>2020-01-22</th>\n      <td>0.0</td>\n      <td>1.0</td>\n      <td>556.0</td>\n      <td>0.0</td>\n      <td>0.0</td>\n    </tr>\n    <tr>\n      <th>2020-01-23</th>\n      <td>0.0</td>\n      <td>3.0</td>\n      <td>654.0</td>\n      <td>0.0</td>\n      <td>0.0</td>\n    </tr>\n    <tr>\n      <th>2020-01-24</th>\n      <td>0.0</td>\n      <td>5.0</td>\n      <td>937.0</td>\n      <td>2.0</td>\n      <td>0.0</td>\n    </tr>\n    <tr>\n      <th>2020-01-25</th>\n      <td>0.0</td>\n      <td>5.0</td>\n      <td>1429.0</td>\n      <td>3.0</td>\n      <td>0.0</td>\n    </tr>\n    <tr>\n      <th>2020-01-26</th>\n      <td>0.0</td>\n      <td>8.0</td>\n      <td>2105.0</td>\n      <td>3.0</td>\n      <td>4.0</td>\n    </tr>\n    <tr>\n      <th>...</th>\n      <td>...</td>\n      <td>...</td>\n      <td>...</td>\n      <td>...</td>\n      <td>...</td>\n    </tr>\n    <tr>\n      <th>2023-03-05</th>\n      <td>13055369.0</td>\n      <td>191044835.0</td>\n      <td>211313286.0</td>\n      <td>246585327.0</td>\n      <td>13999990.0</td>\n    </tr>\n    <tr>\n      <th>2023-03-06</th>\n      <td>13056372.0</td>\n      <td>191053527.0</td>\n      <td>211331424.0</td>\n      <td>246615532.0</td>\n      <td>13999992.0</td>\n    </tr>\n    <tr>\n      <th>2023-03-07</th>\n      <td>13056975.0</td>\n      <td>191097450.0</td>\n      <td>211359172.0</td>\n      <td>246673695.0</td>\n      <td>13999992.0</td>\n    </tr>\n    <tr>\n      <th>2023-03-08</th>\n      <td>13058586.0</td>\n      <td>191179187.0</td>\n      <td>211394742.0</td>\n      <td>246734062.0</td>\n      <td>14000153.0</td>\n    </tr>\n    <tr>\n      <th>2023-03-09</th>\n      <td>13059037.0</td>\n      <td>191238459.0</td>\n      <td>211418050.0</td>\n      <td>246814428.0</td>\n      <td>14014081.0</td>\n    </tr>\n  </tbody>\n</table>\n<p>1143 rows × 5 columns</p>\n</div>"
     },
     "execution_count": 9,
     "metadata": {},
     "output_type": "execute_result"
    }
   ],
   "source": [
    "regions"
   ],
   "metadata": {
    "collapsed": false,
    "ExecuteTime": {
     "end_time": "2023-12-07T16:50:32.233281Z",
     "start_time": "2023-12-07T16:50:32.207735Z"
    }
   },
   "id": "362cc52fdf6aaebd"
  },
  {
   "cell_type": "code",
   "execution_count": null,
   "outputs": [],
   "source": [
    "px.line(regions.diff().applymap(lambda x : max(0,x)), y=regions.columns, height=800)"
   ],
   "metadata": {
    "collapsed": false,
    "is_executing": true
   },
   "id": "b9e38d67bde3e877"
  },
  {
   "cell_type": "code",
   "execution_count": 11,
   "outputs": [],
   "source": [
    "countries = data.set_index(['ISO 3166-1 Alpha 3-Codes',\"Country/Region\"]).drop(columns=['Province/State','Lat', 'Long']).drop(columns=['Region Name', 'Region Code','Sub-region Code', 'Sub-region Name', 'Intermediate Region Code','Intermediate Region Name']).T"
   ],
   "metadata": {
    "collapsed": false,
    "ExecuteTime": {
     "end_time": "2023-12-07T16:50:32.448472Z",
     "start_time": "2023-12-07T16:50:32.419171Z"
    }
   },
   "id": "43aa9512f120da20"
  },
  {
   "cell_type": "code",
   "execution_count": 12,
   "outputs": [],
   "source": [
    "countries.index = pd.to_datetime(countries.index, format='%m/%d/%y') "
   ],
   "metadata": {
    "collapsed": false,
    "ExecuteTime": {
     "end_time": "2023-12-07T16:50:32.448585Z",
     "start_time": "2023-12-07T16:50:32.419303Z"
    }
   },
   "id": "49f8b4f4ba543004"
  },
  {
   "cell_type": "code",
   "execution_count": 13,
   "outputs": [
    {
     "data": {
      "text/plain": "ISO 3166-1 Alpha 3-Codes         AFG       ALB       DZA      AND       AGO  \\\nCountry/Region           Afghanistan   Albania   Algeria  Andorra    Angola   \n2020-01-22                       0.0       0.0       0.0      0.0       0.0   \n2020-01-23                       0.0       0.0       0.0      0.0       0.0   \n2020-01-24                       0.0       0.0       0.0      0.0       0.0   \n2020-01-25                       0.0       0.0       0.0      0.0       0.0   \n2020-01-26                       0.0       0.0       0.0      0.0       0.0   \n...                              ...       ...       ...      ...       ...   \n2023-03-05                  209390.0  334427.0  271477.0  47875.0  105277.0   \n2023-03-06                  209406.0  334427.0  271477.0  47875.0  105277.0   \n2023-03-07                  209436.0  334427.0  271490.0  47875.0  105277.0   \n2023-03-08                  209451.0  334443.0  271494.0  47890.0  105288.0   \n2023-03-09                  209451.0  334457.0  271496.0  47890.0  105288.0   \n\nISO 3166-1 Alpha 3-Codes        ATA                 ATG         ARG       ARM  \\\nCountry/Region           Antarctica Antigua and Barbuda   Argentina   Armenia   \n2020-01-22                      0.0                 0.0         0.0       0.0   \n2020-01-23                      0.0                 0.0         0.0       0.0   \n2020-01-24                      0.0                 0.0         0.0       0.0   \n2020-01-25                      0.0                 0.0         0.0       0.0   \n2020-01-26                      0.0                 0.0         0.0       0.0   \n...                             ...                 ...         ...       ...   \n2023-03-05                     11.0              9106.0  10044125.0  446819.0   \n2023-03-06                     11.0              9106.0  10044957.0  446819.0   \n2023-03-07                     11.0              9106.0  10044957.0  446819.0   \n2023-03-08                     11.0              9106.0  10044957.0  447308.0   \n2023-03-09                     11.0              9106.0  10044957.0  447308.0   \n\nISO 3166-1 Alpha 3-Codes       AUS  ...        URY        UZB      VUT  \\\nCountry/Region           Australia  ...    Uruguay Uzbekistan  Vanuatu   \n2020-01-22                     0.0  ...        0.0        0.0      0.0   \n2020-01-23                     0.0  ...        0.0        0.0      0.0   \n2020-01-24                     0.0  ...        0.0        0.0      0.0   \n2020-01-25                     0.0  ...        0.0        0.0      0.0   \n2020-01-26                     0.0  ...        0.0        0.0      0.0   \n...                            ...  ...        ...        ...      ...   \n2023-03-05                232619.0  ...  1034303.0   251071.0  12014.0   \n2023-03-06                232619.0  ...  1034303.0   251071.0  12014.0   \n2023-03-07                232619.0  ...  1034303.0   251071.0  12014.0   \n2023-03-08                232619.0  ...  1034303.0   251247.0  12014.0   \n2023-03-09                232974.0  ...  1034303.0   251247.0  12014.0   \n\nISO 3166-1 Alpha 3-Codes       VEN         VNM                PSE  \\\nCountry/Region           Venezuela     Vietnam West Bank and Gaza   \n2020-01-22                     0.0         0.0                0.0   \n2020-01-23                     0.0         2.0                0.0   \n2020-01-24                     0.0         2.0                0.0   \n2020-01-25                     0.0         2.0                0.0   \n2020-01-26                     0.0         2.0                0.0   \n...                            ...         ...                ...   \n2023-03-05                552051.0  11526966.0           703228.0   \n2023-03-06                552125.0  11526966.0           703228.0   \n2023-03-07                552157.0  11526986.0           703228.0   \n2023-03-08                552157.0  11526994.0           703228.0   \n2023-03-09                552162.0  11526994.0           703228.0   \n\nISO 3166-1 Alpha 3-Codes                  NaN      YEM       ZMB       ZWE  \nCountry/Region           Winter Olympics 2022    Yemen    Zambia  Zimbabwe  \n2020-01-22                                0.0      0.0       0.0       0.0  \n2020-01-23                                0.0      0.0       0.0       0.0  \n2020-01-24                                0.0      0.0       0.0       0.0  \n2020-01-25                                0.0      0.0       0.0       0.0  \n2020-01-26                                0.0      0.0       0.0       0.0  \n...                                       ...      ...       ...       ...  \n2023-03-05                              535.0  11945.0  343135.0  264127.0  \n2023-03-06                              535.0  11945.0  343135.0  264127.0  \n2023-03-07                              535.0  11945.0  343135.0  264127.0  \n2023-03-08                              535.0  11945.0  343135.0  264276.0  \n2023-03-09                              535.0  11945.0  343135.0  264276.0  \n\n[1143 rows x 289 columns]",
      "text/html": "<div>\n<style scoped>\n    .dataframe tbody tr th:only-of-type {\n        vertical-align: middle;\n    }\n\n    .dataframe tbody tr th {\n        vertical-align: top;\n    }\n\n    .dataframe thead tr th {\n        text-align: left;\n    }\n</style>\n<table border=\"1\" class=\"dataframe\">\n  <thead>\n    <tr>\n      <th>ISO 3166-1 Alpha 3-Codes</th>\n      <th>AFG</th>\n      <th>ALB</th>\n      <th>DZA</th>\n      <th>AND</th>\n      <th>AGO</th>\n      <th>ATA</th>\n      <th>ATG</th>\n      <th>ARG</th>\n      <th>ARM</th>\n      <th>AUS</th>\n      <th>...</th>\n      <th>URY</th>\n      <th>UZB</th>\n      <th>VUT</th>\n      <th>VEN</th>\n      <th>VNM</th>\n      <th>PSE</th>\n      <th>NaN</th>\n      <th>YEM</th>\n      <th>ZMB</th>\n      <th>ZWE</th>\n    </tr>\n    <tr>\n      <th>Country/Region</th>\n      <th>Afghanistan</th>\n      <th>Albania</th>\n      <th>Algeria</th>\n      <th>Andorra</th>\n      <th>Angola</th>\n      <th>Antarctica</th>\n      <th>Antigua and Barbuda</th>\n      <th>Argentina</th>\n      <th>Armenia</th>\n      <th>Australia</th>\n      <th>...</th>\n      <th>Uruguay</th>\n      <th>Uzbekistan</th>\n      <th>Vanuatu</th>\n      <th>Venezuela</th>\n      <th>Vietnam</th>\n      <th>West Bank and Gaza</th>\n      <th>Winter Olympics 2022</th>\n      <th>Yemen</th>\n      <th>Zambia</th>\n      <th>Zimbabwe</th>\n    </tr>\n  </thead>\n  <tbody>\n    <tr>\n      <th>2020-01-22</th>\n      <td>0.0</td>\n      <td>0.0</td>\n      <td>0.0</td>\n      <td>0.0</td>\n      <td>0.0</td>\n      <td>0.0</td>\n      <td>0.0</td>\n      <td>0.0</td>\n      <td>0.0</td>\n      <td>0.0</td>\n      <td>...</td>\n      <td>0.0</td>\n      <td>0.0</td>\n      <td>0.0</td>\n      <td>0.0</td>\n      <td>0.0</td>\n      <td>0.0</td>\n      <td>0.0</td>\n      <td>0.0</td>\n      <td>0.0</td>\n      <td>0.0</td>\n    </tr>\n    <tr>\n      <th>2020-01-23</th>\n      <td>0.0</td>\n      <td>0.0</td>\n      <td>0.0</td>\n      <td>0.0</td>\n      <td>0.0</td>\n      <td>0.0</td>\n      <td>0.0</td>\n      <td>0.0</td>\n      <td>0.0</td>\n      <td>0.0</td>\n      <td>...</td>\n      <td>0.0</td>\n      <td>0.0</td>\n      <td>0.0</td>\n      <td>0.0</td>\n      <td>2.0</td>\n      <td>0.0</td>\n      <td>0.0</td>\n      <td>0.0</td>\n      <td>0.0</td>\n      <td>0.0</td>\n    </tr>\n    <tr>\n      <th>2020-01-24</th>\n      <td>0.0</td>\n      <td>0.0</td>\n      <td>0.0</td>\n      <td>0.0</td>\n      <td>0.0</td>\n      <td>0.0</td>\n      <td>0.0</td>\n      <td>0.0</td>\n      <td>0.0</td>\n      <td>0.0</td>\n      <td>...</td>\n      <td>0.0</td>\n      <td>0.0</td>\n      <td>0.0</td>\n      <td>0.0</td>\n      <td>2.0</td>\n      <td>0.0</td>\n      <td>0.0</td>\n      <td>0.0</td>\n      <td>0.0</td>\n      <td>0.0</td>\n    </tr>\n    <tr>\n      <th>2020-01-25</th>\n      <td>0.0</td>\n      <td>0.0</td>\n      <td>0.0</td>\n      <td>0.0</td>\n      <td>0.0</td>\n      <td>0.0</td>\n      <td>0.0</td>\n      <td>0.0</td>\n      <td>0.0</td>\n      <td>0.0</td>\n      <td>...</td>\n      <td>0.0</td>\n      <td>0.0</td>\n      <td>0.0</td>\n      <td>0.0</td>\n      <td>2.0</td>\n      <td>0.0</td>\n      <td>0.0</td>\n      <td>0.0</td>\n      <td>0.0</td>\n      <td>0.0</td>\n    </tr>\n    <tr>\n      <th>2020-01-26</th>\n      <td>0.0</td>\n      <td>0.0</td>\n      <td>0.0</td>\n      <td>0.0</td>\n      <td>0.0</td>\n      <td>0.0</td>\n      <td>0.0</td>\n      <td>0.0</td>\n      <td>0.0</td>\n      <td>0.0</td>\n      <td>...</td>\n      <td>0.0</td>\n      <td>0.0</td>\n      <td>0.0</td>\n      <td>0.0</td>\n      <td>2.0</td>\n      <td>0.0</td>\n      <td>0.0</td>\n      <td>0.0</td>\n      <td>0.0</td>\n      <td>0.0</td>\n    </tr>\n    <tr>\n      <th>...</th>\n      <td>...</td>\n      <td>...</td>\n      <td>...</td>\n      <td>...</td>\n      <td>...</td>\n      <td>...</td>\n      <td>...</td>\n      <td>...</td>\n      <td>...</td>\n      <td>...</td>\n      <td>...</td>\n      <td>...</td>\n      <td>...</td>\n      <td>...</td>\n      <td>...</td>\n      <td>...</td>\n      <td>...</td>\n      <td>...</td>\n      <td>...</td>\n      <td>...</td>\n      <td>...</td>\n    </tr>\n    <tr>\n      <th>2023-03-05</th>\n      <td>209390.0</td>\n      <td>334427.0</td>\n      <td>271477.0</td>\n      <td>47875.0</td>\n      <td>105277.0</td>\n      <td>11.0</td>\n      <td>9106.0</td>\n      <td>10044125.0</td>\n      <td>446819.0</td>\n      <td>232619.0</td>\n      <td>...</td>\n      <td>1034303.0</td>\n      <td>251071.0</td>\n      <td>12014.0</td>\n      <td>552051.0</td>\n      <td>11526966.0</td>\n      <td>703228.0</td>\n      <td>535.0</td>\n      <td>11945.0</td>\n      <td>343135.0</td>\n      <td>264127.0</td>\n    </tr>\n    <tr>\n      <th>2023-03-06</th>\n      <td>209406.0</td>\n      <td>334427.0</td>\n      <td>271477.0</td>\n      <td>47875.0</td>\n      <td>105277.0</td>\n      <td>11.0</td>\n      <td>9106.0</td>\n      <td>10044957.0</td>\n      <td>446819.0</td>\n      <td>232619.0</td>\n      <td>...</td>\n      <td>1034303.0</td>\n      <td>251071.0</td>\n      <td>12014.0</td>\n      <td>552125.0</td>\n      <td>11526966.0</td>\n      <td>703228.0</td>\n      <td>535.0</td>\n      <td>11945.0</td>\n      <td>343135.0</td>\n      <td>264127.0</td>\n    </tr>\n    <tr>\n      <th>2023-03-07</th>\n      <td>209436.0</td>\n      <td>334427.0</td>\n      <td>271490.0</td>\n      <td>47875.0</td>\n      <td>105277.0</td>\n      <td>11.0</td>\n      <td>9106.0</td>\n      <td>10044957.0</td>\n      <td>446819.0</td>\n      <td>232619.0</td>\n      <td>...</td>\n      <td>1034303.0</td>\n      <td>251071.0</td>\n      <td>12014.0</td>\n      <td>552157.0</td>\n      <td>11526986.0</td>\n      <td>703228.0</td>\n      <td>535.0</td>\n      <td>11945.0</td>\n      <td>343135.0</td>\n      <td>264127.0</td>\n    </tr>\n    <tr>\n      <th>2023-03-08</th>\n      <td>209451.0</td>\n      <td>334443.0</td>\n      <td>271494.0</td>\n      <td>47890.0</td>\n      <td>105288.0</td>\n      <td>11.0</td>\n      <td>9106.0</td>\n      <td>10044957.0</td>\n      <td>447308.0</td>\n      <td>232619.0</td>\n      <td>...</td>\n      <td>1034303.0</td>\n      <td>251247.0</td>\n      <td>12014.0</td>\n      <td>552157.0</td>\n      <td>11526994.0</td>\n      <td>703228.0</td>\n      <td>535.0</td>\n      <td>11945.0</td>\n      <td>343135.0</td>\n      <td>264276.0</td>\n    </tr>\n    <tr>\n      <th>2023-03-09</th>\n      <td>209451.0</td>\n      <td>334457.0</td>\n      <td>271496.0</td>\n      <td>47890.0</td>\n      <td>105288.0</td>\n      <td>11.0</td>\n      <td>9106.0</td>\n      <td>10044957.0</td>\n      <td>447308.0</td>\n      <td>232974.0</td>\n      <td>...</td>\n      <td>1034303.0</td>\n      <td>251247.0</td>\n      <td>12014.0</td>\n      <td>552162.0</td>\n      <td>11526994.0</td>\n      <td>703228.0</td>\n      <td>535.0</td>\n      <td>11945.0</td>\n      <td>343135.0</td>\n      <td>264276.0</td>\n    </tr>\n  </tbody>\n</table>\n<p>1143 rows × 289 columns</p>\n</div>"
     },
     "execution_count": 13,
     "metadata": {},
     "output_type": "execute_result"
    }
   ],
   "source": [
    "countries"
   ],
   "metadata": {
    "collapsed": false,
    "ExecuteTime": {
     "end_time": "2023-12-07T16:50:32.449979Z",
     "start_time": "2023-12-07T16:50:32.419391Z"
    }
   },
   "id": "2fbf3ce546c65f43"
  },
  {
   "cell_type": "code",
   "execution_count": 14,
   "outputs": [
    {
     "name": "stderr",
     "output_type": "stream",
     "text": [
      "/var/folders/3v/836xbswd3z1f339m_2k6w7b80000gn/T/ipykernel_11771/2472402555.py:1: PerformanceWarning:\n",
      "\n",
      "indexing past lexsort depth may impact performance.\n",
      "\n",
      "/var/folders/3v/836xbswd3z1f339m_2k6w7b80000gn/T/ipykernel_11771/2472402555.py:1: PerformanceWarning:\n",
      "\n",
      "indexing past lexsort depth may impact performance.\n",
      "\n"
     ]
    }
   ],
   "source": [
    "countries = countries.resample('Q').sum().reset_index().melt(id_vars=['index'])"
   ],
   "metadata": {
    "collapsed": false,
    "ExecuteTime": {
     "end_time": "2023-12-07T16:50:32.450865Z",
     "start_time": "2023-12-07T16:50:32.419610Z"
    }
   },
   "id": "777aff038012a536"
  },
  {
   "cell_type": "code",
   "execution_count": 15,
   "outputs": [
    {
     "data": {
      "text/plain": "          index ISO 3166-1 Alpha 3-Codes Country/Region       value\n0    2020-03-31                      AFG    Afghanistan      1171.0\n1    2020-06-30                      AFG    Afghanistan    999557.0\n2    2020-09-30                      AFG    Afghanistan   3410912.0\n3    2020-12-31                      AFG    Afghanistan   4090111.0\n4    2021-03-31                      AFG    Afghanistan   4961429.0\n...         ...                      ...            ...         ...\n3752 2022-03-31                      ZWE       Zimbabwe  20994290.0\n3753 2022-06-30                      ZWE       Zimbabwe  22790708.0\n3754 2022-09-30                      ZWE       Zimbabwe  23601948.0\n3755 2022-12-31                      ZWE       Zimbabwe  23775978.0\n3756 2023-03-31                      ZWE       Zimbabwe  17820642.0\n\n[3757 rows x 4 columns]",
      "text/html": "<div>\n<style scoped>\n    .dataframe tbody tr th:only-of-type {\n        vertical-align: middle;\n    }\n\n    .dataframe tbody tr th {\n        vertical-align: top;\n    }\n\n    .dataframe thead th {\n        text-align: right;\n    }\n</style>\n<table border=\"1\" class=\"dataframe\">\n  <thead>\n    <tr style=\"text-align: right;\">\n      <th></th>\n      <th>index</th>\n      <th>ISO 3166-1 Alpha 3-Codes</th>\n      <th>Country/Region</th>\n      <th>value</th>\n    </tr>\n  </thead>\n  <tbody>\n    <tr>\n      <th>0</th>\n      <td>2020-03-31</td>\n      <td>AFG</td>\n      <td>Afghanistan</td>\n      <td>1171.0</td>\n    </tr>\n    <tr>\n      <th>1</th>\n      <td>2020-06-30</td>\n      <td>AFG</td>\n      <td>Afghanistan</td>\n      <td>999557.0</td>\n    </tr>\n    <tr>\n      <th>2</th>\n      <td>2020-09-30</td>\n      <td>AFG</td>\n      <td>Afghanistan</td>\n      <td>3410912.0</td>\n    </tr>\n    <tr>\n      <th>3</th>\n      <td>2020-12-31</td>\n      <td>AFG</td>\n      <td>Afghanistan</td>\n      <td>4090111.0</td>\n    </tr>\n    <tr>\n      <th>4</th>\n      <td>2021-03-31</td>\n      <td>AFG</td>\n      <td>Afghanistan</td>\n      <td>4961429.0</td>\n    </tr>\n    <tr>\n      <th>...</th>\n      <td>...</td>\n      <td>...</td>\n      <td>...</td>\n      <td>...</td>\n    </tr>\n    <tr>\n      <th>3752</th>\n      <td>2022-03-31</td>\n      <td>ZWE</td>\n      <td>Zimbabwe</td>\n      <td>20994290.0</td>\n    </tr>\n    <tr>\n      <th>3753</th>\n      <td>2022-06-30</td>\n      <td>ZWE</td>\n      <td>Zimbabwe</td>\n      <td>22790708.0</td>\n    </tr>\n    <tr>\n      <th>3754</th>\n      <td>2022-09-30</td>\n      <td>ZWE</td>\n      <td>Zimbabwe</td>\n      <td>23601948.0</td>\n    </tr>\n    <tr>\n      <th>3755</th>\n      <td>2022-12-31</td>\n      <td>ZWE</td>\n      <td>Zimbabwe</td>\n      <td>23775978.0</td>\n    </tr>\n    <tr>\n      <th>3756</th>\n      <td>2023-03-31</td>\n      <td>ZWE</td>\n      <td>Zimbabwe</td>\n      <td>17820642.0</td>\n    </tr>\n  </tbody>\n</table>\n<p>3757 rows × 4 columns</p>\n</div>"
     },
     "execution_count": 15,
     "metadata": {},
     "output_type": "execute_result"
    }
   ],
   "source": [
    "countries"
   ],
   "metadata": {
    "collapsed": false,
    "ExecuteTime": {
     "end_time": "2023-12-07T16:50:32.451476Z",
     "start_time": "2023-12-07T16:50:32.431856Z"
    }
   },
   "id": "e6548583edb38b5c"
  },
  {
   "cell_type": "code",
   "execution_count": 16,
   "outputs": [],
   "source": [
    "countries.columns = ['Date','ISO_A3','Country/Region','Cases']"
   ],
   "metadata": {
    "collapsed": false,
    "ExecuteTime": {
     "end_time": "2023-12-07T16:50:32.451605Z",
     "start_time": "2023-12-07T16:50:32.434196Z"
    }
   },
   "id": "4f8efb99b78cfc6b"
  },
  {
   "cell_type": "code",
   "execution_count": 17,
   "outputs": [
    {
     "data": {
      "text/plain": "           Date ISO_A3 Country/Region       Cases\n0    2020-03-31    AFG    Afghanistan      1171.0\n1    2020-06-30    AFG    Afghanistan    999557.0\n2    2020-09-30    AFG    Afghanistan   3410912.0\n3    2020-12-31    AFG    Afghanistan   4090111.0\n4    2021-03-31    AFG    Afghanistan   4961429.0\n...         ...    ...            ...         ...\n3752 2022-03-31    ZWE       Zimbabwe  20994290.0\n3753 2022-06-30    ZWE       Zimbabwe  22790708.0\n3754 2022-09-30    ZWE       Zimbabwe  23601948.0\n3755 2022-12-31    ZWE       Zimbabwe  23775978.0\n3756 2023-03-31    ZWE       Zimbabwe  17820642.0\n\n[3757 rows x 4 columns]",
      "text/html": "<div>\n<style scoped>\n    .dataframe tbody tr th:only-of-type {\n        vertical-align: middle;\n    }\n\n    .dataframe tbody tr th {\n        vertical-align: top;\n    }\n\n    .dataframe thead th {\n        text-align: right;\n    }\n</style>\n<table border=\"1\" class=\"dataframe\">\n  <thead>\n    <tr style=\"text-align: right;\">\n      <th></th>\n      <th>Date</th>\n      <th>ISO_A3</th>\n      <th>Country/Region</th>\n      <th>Cases</th>\n    </tr>\n  </thead>\n  <tbody>\n    <tr>\n      <th>0</th>\n      <td>2020-03-31</td>\n      <td>AFG</td>\n      <td>Afghanistan</td>\n      <td>1171.0</td>\n    </tr>\n    <tr>\n      <th>1</th>\n      <td>2020-06-30</td>\n      <td>AFG</td>\n      <td>Afghanistan</td>\n      <td>999557.0</td>\n    </tr>\n    <tr>\n      <th>2</th>\n      <td>2020-09-30</td>\n      <td>AFG</td>\n      <td>Afghanistan</td>\n      <td>3410912.0</td>\n    </tr>\n    <tr>\n      <th>3</th>\n      <td>2020-12-31</td>\n      <td>AFG</td>\n      <td>Afghanistan</td>\n      <td>4090111.0</td>\n    </tr>\n    <tr>\n      <th>4</th>\n      <td>2021-03-31</td>\n      <td>AFG</td>\n      <td>Afghanistan</td>\n      <td>4961429.0</td>\n    </tr>\n    <tr>\n      <th>...</th>\n      <td>...</td>\n      <td>...</td>\n      <td>...</td>\n      <td>...</td>\n    </tr>\n    <tr>\n      <th>3752</th>\n      <td>2022-03-31</td>\n      <td>ZWE</td>\n      <td>Zimbabwe</td>\n      <td>20994290.0</td>\n    </tr>\n    <tr>\n      <th>3753</th>\n      <td>2022-06-30</td>\n      <td>ZWE</td>\n      <td>Zimbabwe</td>\n      <td>22790708.0</td>\n    </tr>\n    <tr>\n      <th>3754</th>\n      <td>2022-09-30</td>\n      <td>ZWE</td>\n      <td>Zimbabwe</td>\n      <td>23601948.0</td>\n    </tr>\n    <tr>\n      <th>3755</th>\n      <td>2022-12-31</td>\n      <td>ZWE</td>\n      <td>Zimbabwe</td>\n      <td>23775978.0</td>\n    </tr>\n    <tr>\n      <th>3756</th>\n      <td>2023-03-31</td>\n      <td>ZWE</td>\n      <td>Zimbabwe</td>\n      <td>17820642.0</td>\n    </tr>\n  </tbody>\n</table>\n<p>3757 rows × 4 columns</p>\n</div>"
     },
     "execution_count": 17,
     "metadata": {},
     "output_type": "execute_result"
    }
   ],
   "source": [
    "countries"
   ],
   "metadata": {
    "collapsed": false,
    "ExecuteTime": {
     "end_time": "2023-12-07T16:50:32.452553Z",
     "start_time": "2023-12-07T16:50:32.437129Z"
    }
   },
   "id": "f42ff0dcbb5402bb"
  },
  {
   "cell_type": "code",
   "execution_count": 18,
   "outputs": [],
   "source": [
    "GeoJson = json.load(open(\"data/countries.geojson\", \"r\"))"
   ],
   "metadata": {
    "collapsed": false,
    "ExecuteTime": {
     "end_time": "2023-12-07T16:50:32.832853Z",
     "start_time": "2023-12-07T16:50:32.440217Z"
    }
   },
   "id": "c2419b1bc6c86991"
  },
  {
   "cell_type": "code",
   "execution_count": 19,
   "outputs": [],
   "source": [
    "fig = px.choropleth_mapbox(\n",
    "    countries,\n",
    "    geojson=GeoJson,\n",
    "    locations='ISO_A3',\n",
    "    color='Cases',\n",
    "    featureidkey=\"properties.ISO_A3\",\n",
    "    zoom=1,\n",
    "    mapbox_style=\"open-street-map\",\n",
    "    width=1600,\n",
    "    height=900,\n",
    "    opacity=0.5,\n",
    "    animation_frame='Date',\n",
    "    color_continuous_scale=\"amp\",\n",
    "    range_color=(0,3000000000)\n",
    "    \n",
    ")"
   ],
   "metadata": {
    "collapsed": false,
    "ExecuteTime": {
     "end_time": "2023-12-07T16:50:40.393349Z",
     "start_time": "2023-12-07T16:50:32.682752Z"
    }
   },
   "id": "2aee283edeb6a1c1"
  },
  {
   "cell_type": "code",
   "execution_count": 20,
   "outputs": [],
   "source": [
    "fig.write_html('Maps_20_23.html')"
   ],
   "metadata": {
    "collapsed": false,
    "ExecuteTime": {
     "end_time": "2023-12-07T16:51:04.273345Z",
     "start_time": "2023-12-07T16:50:40.449891Z"
    }
   },
   "id": "905cea15d88fb6a8"
  },
  {
   "cell_type": "code",
   "execution_count": 20,
   "outputs": [],
   "source": [],
   "metadata": {
    "collapsed": false,
    "ExecuteTime": {
     "end_time": "2023-12-07T16:51:04.277319Z",
     "start_time": "2023-12-07T16:51:04.273730Z"
    }
   },
   "id": "3468a3e99c2a29e1"
  }
 ],
 "metadata": {
  "kernelspec": {
   "display_name": "Python 3",
   "language": "python",
   "name": "python3"
  },
  "language_info": {
   "codemirror_mode": {
    "name": "ipython",
    "version": 2
   },
   "file_extension": ".py",
   "mimetype": "text/x-python",
   "name": "python",
   "nbconvert_exporter": "python",
   "pygments_lexer": "ipython2",
   "version": "2.7.6"
  }
 },
 "nbformat": 4,
 "nbformat_minor": 5
}
