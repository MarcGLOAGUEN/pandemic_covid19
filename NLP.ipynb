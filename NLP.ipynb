{
 "cells": [
  {
   "cell_type": "code",
   "execution_count": 221,
   "id": "initial_id",
   "metadata": {
    "collapsed": true,
    "ExecuteTime": {
     "end_time": "2023-12-11T16:19:18.272326Z",
     "start_time": "2023-12-11T16:19:18.256315Z"
    }
   },
   "outputs": [],
   "source": [
    "import pandas as pd"
   ]
  },
  {
   "cell_type": "code",
   "execution_count": 222,
   "outputs": [],
   "source": [
    "tweet = pd.read_csv('ressources/covid19_tweets.csv',parse_dates=['user_created','date'])"
   ],
   "metadata": {
    "collapsed": false,
    "ExecuteTime": {
     "end_time": "2023-12-11T16:19:18.983943Z",
     "start_time": "2023-12-11T16:19:18.260512Z"
    }
   },
   "id": "dd6d260a9d072464"
  },
  {
   "cell_type": "code",
   "execution_count": 223,
   "outputs": [
    {
     "data": {
      "text/plain": "                     user_name               user_location  \\\n0                       ᏉᎥ☻լꂅϮ                  astroworld   \n1                Tom Basile 🇺🇸                New York, NY   \n2              Time4fisticuffs            Pewee Valley, KY   \n3                  ethel mertz        Stuck in the Middle    \n4                     DIPR-J&K           Jammu and Kashmir   \n...                        ...                         ...   \n179103  AJIMATI AbdulRahman O.             Ilorin, Nigeria   \n179104                   Jason                     Ontario   \n179105             BEEHEMOTH ⏳                   🇨🇦 Canada   \n179106           Gary DelPonte               New York City   \n179107                 TUKY II  Aliwal North, South Africa   \n\n                                         user_description        user_created  \\\n0       wednesday addams as a disney princess keepin i... 2017-05-26 05:46:42   \n1       Husband, Father, Columnist & Commentator. Auth... 2009-04-16 20:06:23   \n2       #Christian #Catholic #Conservative #Reagan #Re... 2009-02-28 18:57:41   \n3       #Browns #Indians #ClevelandProud #[]_[] #Cavs ... 2019-03-07 01:45:06   \n4       🖊️Official Twitter handle of Department of Inf... 2017-02-12 06:45:15   \n...                                                   ...                 ...   \n179103    Animal Scientist|| Muslim|| Real Madrid/Chelsea 2013-12-30 18:59:19   \n179104  When your cat has more baking soda than Ninja ... 2011-12-21 04:41:30   \n179105  ⚒️ The Architects of Free Trade ⚒️ Really Did ... 2016-07-13 17:21:59   \n179106  Global UX UI Visual Designer. StoryTeller, Mus... 2009-10-27 17:43:13   \n179107  TOKELO SEKHOPA | TUKY II | LAST BORN | EISH TU... 2018-04-14 17:30:07   \n\n        user_followers  user_friends  user_favourites  user_verified  \\\n0                  624           950            18775          False   \n1                 2253          1677               24           True   \n2                 9275          9525             7254          False   \n3                  197           987             1488          False   \n4               101009           168              101          False   \n...                ...           ...              ...            ...   \n179103             412          1609             1062          False   \n179104             150           182             7295          False   \n179105            1623          2160            98000          False   \n179106            1338          1111                0          False   \n179107              97          1697              566          False   \n\n                      date                                               text  \\\n0      2020-07-25 12:27:21  If I smelled the scent of hand sanitizers toda...   \n1      2020-07-25 12:27:17  Hey @Yankees @YankeesPR and @MLB - wouldn't it...   \n2      2020-07-25 12:27:14  @diane3443 @wdunlap @realDonaldTrump Trump nev...   \n3      2020-07-25 12:27:10  @brookbanktv The one gift #COVID19 has give me...   \n4      2020-07-25 12:27:08  25 July : Media Bulletin on Novel #CoronaVirus...   \n...                    ...                                                ...   \n179103 2020-08-29 19:44:21  Thanks @IamOhmai for nominating me for the @WH...   \n179104 2020-08-29 19:44:16  2020! The year of insanity! Lol! #COVID19 http...   \n179105 2020-08-29 19:44:15  @CTVNews A powerful painting by Juan Lucena. I...   \n179106 2020-08-29 19:44:14  More than 1,200 students test positive for #CO...   \n179107 2020-08-29 19:44:08  I stop when I see a Stop\\n\\n@SABCNews\\n@Izinda...   \n\n                                 hashtags               source  is_retweet  \n0                                     NaN   Twitter for iPhone       False  \n1                                     NaN  Twitter for Android       False  \n2                             ['COVID19']  Twitter for Android       False  \n3                             ['COVID19']   Twitter for iPhone       False  \n4       ['CoronaVirusUpdates', 'COVID19']  Twitter for Android       False  \n...                                   ...                  ...         ...  \n179103                      ['WearAMask']  Twitter for Android       False  \n179104                        ['COVID19']  Twitter for Android       False  \n179105                                NaN      Twitter Web App       False  \n179106                        ['COVID19']   Twitter for iPhone       False  \n179107                                NaN  Twitter for Android       False  \n\n[179108 rows x 13 columns]",
      "text/html": "<div>\n<style scoped>\n    .dataframe tbody tr th:only-of-type {\n        vertical-align: middle;\n    }\n\n    .dataframe tbody tr th {\n        vertical-align: top;\n    }\n\n    .dataframe thead th {\n        text-align: right;\n    }\n</style>\n<table border=\"1\" class=\"dataframe\">\n  <thead>\n    <tr style=\"text-align: right;\">\n      <th></th>\n      <th>user_name</th>\n      <th>user_location</th>\n      <th>user_description</th>\n      <th>user_created</th>\n      <th>user_followers</th>\n      <th>user_friends</th>\n      <th>user_favourites</th>\n      <th>user_verified</th>\n      <th>date</th>\n      <th>text</th>\n      <th>hashtags</th>\n      <th>source</th>\n      <th>is_retweet</th>\n    </tr>\n  </thead>\n  <tbody>\n    <tr>\n      <th>0</th>\n      <td>ᏉᎥ☻լꂅϮ</td>\n      <td>astroworld</td>\n      <td>wednesday addams as a disney princess keepin i...</td>\n      <td>2017-05-26 05:46:42</td>\n      <td>624</td>\n      <td>950</td>\n      <td>18775</td>\n      <td>False</td>\n      <td>2020-07-25 12:27:21</td>\n      <td>If I smelled the scent of hand sanitizers toda...</td>\n      <td>NaN</td>\n      <td>Twitter for iPhone</td>\n      <td>False</td>\n    </tr>\n    <tr>\n      <th>1</th>\n      <td>Tom Basile 🇺🇸</td>\n      <td>New York, NY</td>\n      <td>Husband, Father, Columnist &amp; Commentator. Auth...</td>\n      <td>2009-04-16 20:06:23</td>\n      <td>2253</td>\n      <td>1677</td>\n      <td>24</td>\n      <td>True</td>\n      <td>2020-07-25 12:27:17</td>\n      <td>Hey @Yankees @YankeesPR and @MLB - wouldn't it...</td>\n      <td>NaN</td>\n      <td>Twitter for Android</td>\n      <td>False</td>\n    </tr>\n    <tr>\n      <th>2</th>\n      <td>Time4fisticuffs</td>\n      <td>Pewee Valley, KY</td>\n      <td>#Christian #Catholic #Conservative #Reagan #Re...</td>\n      <td>2009-02-28 18:57:41</td>\n      <td>9275</td>\n      <td>9525</td>\n      <td>7254</td>\n      <td>False</td>\n      <td>2020-07-25 12:27:14</td>\n      <td>@diane3443 @wdunlap @realDonaldTrump Trump nev...</td>\n      <td>['COVID19']</td>\n      <td>Twitter for Android</td>\n      <td>False</td>\n    </tr>\n    <tr>\n      <th>3</th>\n      <td>ethel mertz</td>\n      <td>Stuck in the Middle</td>\n      <td>#Browns #Indians #ClevelandProud #[]_[] #Cavs ...</td>\n      <td>2019-03-07 01:45:06</td>\n      <td>197</td>\n      <td>987</td>\n      <td>1488</td>\n      <td>False</td>\n      <td>2020-07-25 12:27:10</td>\n      <td>@brookbanktv The one gift #COVID19 has give me...</td>\n      <td>['COVID19']</td>\n      <td>Twitter for iPhone</td>\n      <td>False</td>\n    </tr>\n    <tr>\n      <th>4</th>\n      <td>DIPR-J&amp;K</td>\n      <td>Jammu and Kashmir</td>\n      <td>🖊️Official Twitter handle of Department of Inf...</td>\n      <td>2017-02-12 06:45:15</td>\n      <td>101009</td>\n      <td>168</td>\n      <td>101</td>\n      <td>False</td>\n      <td>2020-07-25 12:27:08</td>\n      <td>25 July : Media Bulletin on Novel #CoronaVirus...</td>\n      <td>['CoronaVirusUpdates', 'COVID19']</td>\n      <td>Twitter for Android</td>\n      <td>False</td>\n    </tr>\n    <tr>\n      <th>...</th>\n      <td>...</td>\n      <td>...</td>\n      <td>...</td>\n      <td>...</td>\n      <td>...</td>\n      <td>...</td>\n      <td>...</td>\n      <td>...</td>\n      <td>...</td>\n      <td>...</td>\n      <td>...</td>\n      <td>...</td>\n      <td>...</td>\n    </tr>\n    <tr>\n      <th>179103</th>\n      <td>AJIMATI AbdulRahman O.</td>\n      <td>Ilorin, Nigeria</td>\n      <td>Animal Scientist|| Muslim|| Real Madrid/Chelsea</td>\n      <td>2013-12-30 18:59:19</td>\n      <td>412</td>\n      <td>1609</td>\n      <td>1062</td>\n      <td>False</td>\n      <td>2020-08-29 19:44:21</td>\n      <td>Thanks @IamOhmai for nominating me for the @WH...</td>\n      <td>['WearAMask']</td>\n      <td>Twitter for Android</td>\n      <td>False</td>\n    </tr>\n    <tr>\n      <th>179104</th>\n      <td>Jason</td>\n      <td>Ontario</td>\n      <td>When your cat has more baking soda than Ninja ...</td>\n      <td>2011-12-21 04:41:30</td>\n      <td>150</td>\n      <td>182</td>\n      <td>7295</td>\n      <td>False</td>\n      <td>2020-08-29 19:44:16</td>\n      <td>2020! The year of insanity! Lol! #COVID19 http...</td>\n      <td>['COVID19']</td>\n      <td>Twitter for Android</td>\n      <td>False</td>\n    </tr>\n    <tr>\n      <th>179105</th>\n      <td>BEEHEMOTH ⏳</td>\n      <td>🇨🇦 Canada</td>\n      <td>⚒️ The Architects of Free Trade ⚒️ Really Did ...</td>\n      <td>2016-07-13 17:21:59</td>\n      <td>1623</td>\n      <td>2160</td>\n      <td>98000</td>\n      <td>False</td>\n      <td>2020-08-29 19:44:15</td>\n      <td>@CTVNews A powerful painting by Juan Lucena. I...</td>\n      <td>NaN</td>\n      <td>Twitter Web App</td>\n      <td>False</td>\n    </tr>\n    <tr>\n      <th>179106</th>\n      <td>Gary DelPonte</td>\n      <td>New York City</td>\n      <td>Global UX UI Visual Designer. StoryTeller, Mus...</td>\n      <td>2009-10-27 17:43:13</td>\n      <td>1338</td>\n      <td>1111</td>\n      <td>0</td>\n      <td>False</td>\n      <td>2020-08-29 19:44:14</td>\n      <td>More than 1,200 students test positive for #CO...</td>\n      <td>['COVID19']</td>\n      <td>Twitter for iPhone</td>\n      <td>False</td>\n    </tr>\n    <tr>\n      <th>179107</th>\n      <td>TUKY II</td>\n      <td>Aliwal North, South Africa</td>\n      <td>TOKELO SEKHOPA | TUKY II | LAST BORN | EISH TU...</td>\n      <td>2018-04-14 17:30:07</td>\n      <td>97</td>\n      <td>1697</td>\n      <td>566</td>\n      <td>False</td>\n      <td>2020-08-29 19:44:08</td>\n      <td>I stop when I see a Stop\\n\\n@SABCNews\\n@Izinda...</td>\n      <td>NaN</td>\n      <td>Twitter for Android</td>\n      <td>False</td>\n    </tr>\n  </tbody>\n</table>\n<p>179108 rows × 13 columns</p>\n</div>"
     },
     "execution_count": 223,
     "metadata": {},
     "output_type": "execute_result"
    }
   ],
   "source": [
    "tweet"
   ],
   "metadata": {
    "collapsed": false,
    "ExecuteTime": {
     "end_time": "2023-12-11T16:19:18.992175Z",
     "start_time": "2023-12-11T16:19:18.988659Z"
    }
   },
   "id": "6959111c2b52af38"
  },
  {
   "cell_type": "markdown",
   "source": [
    "## Hashtags"
   ],
   "metadata": {
    "collapsed": false
   },
   "id": "c036cf292e0dcdad"
  },
  {
   "cell_type": "code",
   "execution_count": 224,
   "outputs": [],
   "source": [
    "hastags = tweet.hashtags.dropna().apply(eval).explode().str.lower()"
   ],
   "metadata": {
    "collapsed": false,
    "ExecuteTime": {
     "end_time": "2023-12-11T16:19:19.862569Z",
     "start_time": "2023-12-11T16:19:18.994487Z"
    }
   },
   "id": "b53ad0a532b3edf9"
  },
  {
   "cell_type": "code",
   "execution_count": 225,
   "outputs": [],
   "source": [
    "hastags[hastags.str.contains('covid')] = 'Covid, Covid19, Covid_19 ...'"
   ],
   "metadata": {
    "collapsed": false,
    "ExecuteTime": {
     "end_time": "2023-12-11T16:19:19.910275Z",
     "start_time": "2023-12-11T16:19:19.868954Z"
    }
   },
   "id": "cced1c0032acb61e"
  },
  {
   "cell_type": "code",
   "execution_count": 226,
   "outputs": [],
   "source": [
    "hastags[hastags.str.contains('corona')] = 'coronavirus, corona ...'"
   ],
   "metadata": {
    "collapsed": false,
    "ExecuteTime": {
     "end_time": "2023-12-11T16:19:19.952867Z",
     "start_time": "2023-12-11T16:19:19.933564Z"
    }
   },
   "id": "220dc565f5751adf"
  },
  {
   "cell_type": "code",
   "execution_count": 227,
   "outputs": [],
   "source": [
    "hastags_values = hastags.value_counts().reset_index()"
   ],
   "metadata": {
    "collapsed": false,
    "ExecuteTime": {
     "end_time": "2023-12-11T16:19:19.972128Z",
     "start_time": "2023-12-11T16:19:19.968892Z"
    }
   },
   "id": "a5264e3da204afea"
  },
  {
   "cell_type": "code",
   "execution_count": 228,
   "outputs": [],
   "source": [
    "hastags_values.to_csv('data/hashtags.csv', index=False)"
   ],
   "metadata": {
    "collapsed": false,
    "ExecuteTime": {
     "end_time": "2023-12-11T16:19:19.990447Z",
     "start_time": "2023-12-11T16:19:19.972902Z"
    }
   },
   "id": "90315f19562f73b"
  },
  {
   "cell_type": "markdown",
   "source": [
    "## Tweet"
   ],
   "metadata": {
    "collapsed": false
   },
   "id": "ef421fc080228ac7"
  },
  {
   "cell_type": "code",
   "execution_count": 229,
   "outputs": [],
   "source": [
    "text = tweet[['date','text']]"
   ],
   "metadata": {
    "collapsed": false,
    "ExecuteTime": {
     "end_time": "2023-12-11T16:19:19.996662Z",
     "start_time": "2023-12-11T16:19:19.992722Z"
    }
   },
   "id": "b6e1ee1d428d8327"
  },
  {
   "cell_type": "code",
   "execution_count": 230,
   "outputs": [],
   "source": [
    "text.insert(2,\"lenth\",text.text.str.len())"
   ],
   "metadata": {
    "collapsed": false,
    "ExecuteTime": {
     "end_time": "2023-12-11T16:19:20.031580Z",
     "start_time": "2023-12-11T16:19:20.009312Z"
    }
   },
   "id": "981f81c34c5396e4"
  },
  {
   "cell_type": "code",
   "execution_count": 231,
   "outputs": [
    {
     "data": {
      "text/plain": "                      date                                               text  \\\n0      2020-07-25 12:27:21  If I smelled the scent of hand sanitizers toda...   \n1      2020-07-25 12:27:17  Hey @Yankees @YankeesPR and @MLB - wouldn't it...   \n2      2020-07-25 12:27:14  @diane3443 @wdunlap @realDonaldTrump Trump nev...   \n3      2020-07-25 12:27:10  @brookbanktv The one gift #COVID19 has give me...   \n4      2020-07-25 12:27:08  25 July : Media Bulletin on Novel #CoronaVirus...   \n...                    ...                                                ...   \n179103 2020-08-29 19:44:21  Thanks @IamOhmai for nominating me for the @WH...   \n179104 2020-08-29 19:44:16  2020! The year of insanity! Lol! #COVID19 http...   \n179105 2020-08-29 19:44:15  @CTVNews A powerful painting by Juan Lucena. I...   \n179106 2020-08-29 19:44:14  More than 1,200 students test positive for #CO...   \n179107 2020-08-29 19:44:08  I stop when I see a Stop\\n\\n@SABCNews\\n@Izinda...   \n\n        lenth  \n0         140  \n1         140  \n2         140  \n3         139  \n4         138  \n...       ...  \n179103    128  \n179104     65  \n179105    140  \n179106    106  \n179107    138  \n\n[179108 rows x 3 columns]",
      "text/html": "<div>\n<style scoped>\n    .dataframe tbody tr th:only-of-type {\n        vertical-align: middle;\n    }\n\n    .dataframe tbody tr th {\n        vertical-align: top;\n    }\n\n    .dataframe thead th {\n        text-align: right;\n    }\n</style>\n<table border=\"1\" class=\"dataframe\">\n  <thead>\n    <tr style=\"text-align: right;\">\n      <th></th>\n      <th>date</th>\n      <th>text</th>\n      <th>lenth</th>\n    </tr>\n  </thead>\n  <tbody>\n    <tr>\n      <th>0</th>\n      <td>2020-07-25 12:27:21</td>\n      <td>If I smelled the scent of hand sanitizers toda...</td>\n      <td>140</td>\n    </tr>\n    <tr>\n      <th>1</th>\n      <td>2020-07-25 12:27:17</td>\n      <td>Hey @Yankees @YankeesPR and @MLB - wouldn't it...</td>\n      <td>140</td>\n    </tr>\n    <tr>\n      <th>2</th>\n      <td>2020-07-25 12:27:14</td>\n      <td>@diane3443 @wdunlap @realDonaldTrump Trump nev...</td>\n      <td>140</td>\n    </tr>\n    <tr>\n      <th>3</th>\n      <td>2020-07-25 12:27:10</td>\n      <td>@brookbanktv The one gift #COVID19 has give me...</td>\n      <td>139</td>\n    </tr>\n    <tr>\n      <th>4</th>\n      <td>2020-07-25 12:27:08</td>\n      <td>25 July : Media Bulletin on Novel #CoronaVirus...</td>\n      <td>138</td>\n    </tr>\n    <tr>\n      <th>...</th>\n      <td>...</td>\n      <td>...</td>\n      <td>...</td>\n    </tr>\n    <tr>\n      <th>179103</th>\n      <td>2020-08-29 19:44:21</td>\n      <td>Thanks @IamOhmai for nominating me for the @WH...</td>\n      <td>128</td>\n    </tr>\n    <tr>\n      <th>179104</th>\n      <td>2020-08-29 19:44:16</td>\n      <td>2020! The year of insanity! Lol! #COVID19 http...</td>\n      <td>65</td>\n    </tr>\n    <tr>\n      <th>179105</th>\n      <td>2020-08-29 19:44:15</td>\n      <td>@CTVNews A powerful painting by Juan Lucena. I...</td>\n      <td>140</td>\n    </tr>\n    <tr>\n      <th>179106</th>\n      <td>2020-08-29 19:44:14</td>\n      <td>More than 1,200 students test positive for #CO...</td>\n      <td>106</td>\n    </tr>\n    <tr>\n      <th>179107</th>\n      <td>2020-08-29 19:44:08</td>\n      <td>I stop when I see a Stop\\n\\n@SABCNews\\n@Izinda...</td>\n      <td>138</td>\n    </tr>\n  </tbody>\n</table>\n<p>179108 rows × 3 columns</p>\n</div>"
     },
     "execution_count": 231,
     "metadata": {},
     "output_type": "execute_result"
    }
   ],
   "source": [
    "text"
   ],
   "metadata": {
    "collapsed": false,
    "ExecuteTime": {
     "end_time": "2023-12-11T16:19:20.037532Z",
     "start_time": "2023-12-11T16:19:20.034298Z"
    }
   },
   "id": "22acfe1c33a4427a"
  },
  {
   "cell_type": "code",
   "execution_count": 232,
   "outputs": [],
   "source": [
    "mentions = text['text'].str.findall(r'(@\\w+)')"
   ],
   "metadata": {
    "collapsed": false,
    "ExecuteTime": {
     "end_time": "2023-12-11T16:19:20.098741Z",
     "start_time": "2023-12-11T16:19:20.045883Z"
    }
   },
   "id": "2c58b6f52c80522a"
  },
  {
   "cell_type": "code",
   "execution_count": 233,
   "outputs": [
    {
     "data": {
      "text/plain": "0                                                        []\n1                              [@Yankees, @YankeesPR, @MLB]\n2                  [@diane3443, @wdunlap, @realDonaldTrump]\n3                                            [@brookbanktv]\n4         [@kansalrohit69, @DrSyedSehrish, @airnewsalert...\n                                ...                        \n179103             [@IamOhmai, @WHO, @abdlbaasit_, @hvbxxb]\n179104                                                   []\n179105                                           [@CTVNews]\n179106                                                   []\n179107    [@SABCNews, @IzindabaNews24, @dailysunsa, @eNC...\nName: text, Length: 179108, dtype: object"
     },
     "execution_count": 233,
     "metadata": {},
     "output_type": "execute_result"
    }
   ],
   "source": [
    "mentions"
   ],
   "metadata": {
    "collapsed": false,
    "ExecuteTime": {
     "end_time": "2023-12-11T16:19:20.099067Z",
     "start_time": "2023-12-11T16:19:20.095606Z"
    }
   },
   "id": "43119784d2ac1e2a"
  },
  {
   "cell_type": "code",
   "execution_count": 234,
   "outputs": [
    {
     "data": {
      "text/plain": "0                                                        []\n1                              [@Yankees, @YankeesPR, @MLB]\n2                  [@diane3443, @wdunlap, @realDonaldTrump]\n3                                            [@brookbanktv]\n4         [@kansalrohit69, @DrSyedSehrish, @airnewsalert...\n                                ...                        \n179103             [@IamOhmai, @WHO, @abdlbaasit_, @hvbxxb]\n179104                                                   []\n179105                                           [@CTVNews]\n179106                                                   []\n179107    [@SABCNews, @IzindabaNews24, @dailysunsa, @eNC...\nName: text, Length: 179108, dtype: object"
     },
     "execution_count": 234,
     "metadata": {},
     "output_type": "execute_result"
    }
   ],
   "source": [
    "mentions"
   ],
   "metadata": {
    "collapsed": false,
    "ExecuteTime": {
     "end_time": "2023-12-11T16:19:20.104793Z",
     "start_time": "2023-12-11T16:19:20.097958Z"
    }
   },
   "id": "aaa13da5bdd26b07"
  },
  {
   "cell_type": "code",
   "execution_count": 235,
   "outputs": [],
   "source": [
    "mentions.explode().value_counts(True).to_csv('data/mentions.csv')"
   ],
   "metadata": {
    "collapsed": false,
    "ExecuteTime": {
     "end_time": "2023-12-11T16:19:20.164494Z",
     "start_time": "2023-12-11T16:19:20.101331Z"
    }
   },
   "id": "da305f6914108b97"
  },
  {
   "cell_type": "code",
   "execution_count": 236,
   "outputs": [],
   "source": [
    "text.insert(3,'nbr_mentions', mentions.apply(lambda x : len(x)) )"
   ],
   "metadata": {
    "collapsed": false,
    "ExecuteTime": {
     "end_time": "2023-12-11T16:19:20.191643Z",
     "start_time": "2023-12-11T16:19:20.164930Z"
    }
   },
   "id": "75bae3ab604700c5"
  },
  {
   "cell_type": "code",
   "execution_count": 237,
   "outputs": [
    {
     "data": {
      "text/plain": "                      date                                               text  \\\n0      2020-07-25 12:27:21  If I smelled the scent of hand sanitizers toda...   \n1      2020-07-25 12:27:17  Hey @Yankees @YankeesPR and @MLB - wouldn't it...   \n2      2020-07-25 12:27:14  @diane3443 @wdunlap @realDonaldTrump Trump nev...   \n3      2020-07-25 12:27:10  @brookbanktv The one gift #COVID19 has give me...   \n4      2020-07-25 12:27:08  25 July : Media Bulletin on Novel #CoronaVirus...   \n...                    ...                                                ...   \n179103 2020-08-29 19:44:21  Thanks @IamOhmai for nominating me for the @WH...   \n179104 2020-08-29 19:44:16  2020! The year of insanity! Lol! #COVID19 http...   \n179105 2020-08-29 19:44:15  @CTVNews A powerful painting by Juan Lucena. I...   \n179106 2020-08-29 19:44:14  More than 1,200 students test positive for #CO...   \n179107 2020-08-29 19:44:08  I stop when I see a Stop\\n\\n@SABCNews\\n@Izinda...   \n\n        lenth  nbr_mentions  \n0         140             0  \n1         140             3  \n2         140             3  \n3         139             1  \n4         138             4  \n...       ...           ...  \n179103    128             4  \n179104     65             0  \n179105    140             1  \n179106    106             0  \n179107    138             7  \n\n[179108 rows x 4 columns]",
      "text/html": "<div>\n<style scoped>\n    .dataframe tbody tr th:only-of-type {\n        vertical-align: middle;\n    }\n\n    .dataframe tbody tr th {\n        vertical-align: top;\n    }\n\n    .dataframe thead th {\n        text-align: right;\n    }\n</style>\n<table border=\"1\" class=\"dataframe\">\n  <thead>\n    <tr style=\"text-align: right;\">\n      <th></th>\n      <th>date</th>\n      <th>text</th>\n      <th>lenth</th>\n      <th>nbr_mentions</th>\n    </tr>\n  </thead>\n  <tbody>\n    <tr>\n      <th>0</th>\n      <td>2020-07-25 12:27:21</td>\n      <td>If I smelled the scent of hand sanitizers toda...</td>\n      <td>140</td>\n      <td>0</td>\n    </tr>\n    <tr>\n      <th>1</th>\n      <td>2020-07-25 12:27:17</td>\n      <td>Hey @Yankees @YankeesPR and @MLB - wouldn't it...</td>\n      <td>140</td>\n      <td>3</td>\n    </tr>\n    <tr>\n      <th>2</th>\n      <td>2020-07-25 12:27:14</td>\n      <td>@diane3443 @wdunlap @realDonaldTrump Trump nev...</td>\n      <td>140</td>\n      <td>3</td>\n    </tr>\n    <tr>\n      <th>3</th>\n      <td>2020-07-25 12:27:10</td>\n      <td>@brookbanktv The one gift #COVID19 has give me...</td>\n      <td>139</td>\n      <td>1</td>\n    </tr>\n    <tr>\n      <th>4</th>\n      <td>2020-07-25 12:27:08</td>\n      <td>25 July : Media Bulletin on Novel #CoronaVirus...</td>\n      <td>138</td>\n      <td>4</td>\n    </tr>\n    <tr>\n      <th>...</th>\n      <td>...</td>\n      <td>...</td>\n      <td>...</td>\n      <td>...</td>\n    </tr>\n    <tr>\n      <th>179103</th>\n      <td>2020-08-29 19:44:21</td>\n      <td>Thanks @IamOhmai for nominating me for the @WH...</td>\n      <td>128</td>\n      <td>4</td>\n    </tr>\n    <tr>\n      <th>179104</th>\n      <td>2020-08-29 19:44:16</td>\n      <td>2020! The year of insanity! Lol! #COVID19 http...</td>\n      <td>65</td>\n      <td>0</td>\n    </tr>\n    <tr>\n      <th>179105</th>\n      <td>2020-08-29 19:44:15</td>\n      <td>@CTVNews A powerful painting by Juan Lucena. I...</td>\n      <td>140</td>\n      <td>1</td>\n    </tr>\n    <tr>\n      <th>179106</th>\n      <td>2020-08-29 19:44:14</td>\n      <td>More than 1,200 students test positive for #CO...</td>\n      <td>106</td>\n      <td>0</td>\n    </tr>\n    <tr>\n      <th>179107</th>\n      <td>2020-08-29 19:44:08</td>\n      <td>I stop when I see a Stop\\n\\n@SABCNews\\n@Izinda...</td>\n      <td>138</td>\n      <td>7</td>\n    </tr>\n  </tbody>\n</table>\n<p>179108 rows × 4 columns</p>\n</div>"
     },
     "execution_count": 237,
     "metadata": {},
     "output_type": "execute_result"
    }
   ],
   "source": [
    "text"
   ],
   "metadata": {
    "collapsed": false,
    "ExecuteTime": {
     "end_time": "2023-12-11T16:19:20.195350Z",
     "start_time": "2023-12-11T16:19:20.193136Z"
    }
   },
   "id": "167bb27dacf130f0"
  },
  {
   "cell_type": "code",
   "execution_count": 238,
   "outputs": [],
   "source": [
    "import re\n",
    "def remove_usernames_links(tweet):\n",
    "    tweet = re.sub('#[^\\s]+', '', tweet)\n",
    "    tweet = re.sub('@[^\\s]+','',tweet)\n",
    "    tweet = re.sub('http[^\\s]+','',tweet) \n",
    "    tweet = re.sub(' +', ' ', tweet)\n",
    "    return tweet\n"
   ],
   "metadata": {
    "collapsed": false,
    "ExecuteTime": {
     "end_time": "2023-12-11T16:19:20.197969Z",
     "start_time": "2023-12-11T16:19:20.196109Z"
    }
   },
   "id": "1906f32ae1d18934"
  },
  {
   "cell_type": "code",
   "execution_count": 239,
   "outputs": [],
   "source": [
    "text.insert(2,\"text_without_#&@\",text.text.apply(remove_usernames_links))"
   ],
   "metadata": {
    "collapsed": false,
    "ExecuteTime": {
     "end_time": "2023-12-11T16:19:20.917466Z",
     "start_time": "2023-12-11T16:19:20.198379Z"
    }
   },
   "id": "68987049320124df"
  },
  {
   "cell_type": "code",
   "execution_count": 240,
   "outputs": [
    {
     "data": {
      "text/plain": "                      date                                               text  \\\n0      2020-07-25 12:27:21  If I smelled the scent of hand sanitizers toda...   \n1      2020-07-25 12:27:17  Hey @Yankees @YankeesPR and @MLB - wouldn't it...   \n2      2020-07-25 12:27:14  @diane3443 @wdunlap @realDonaldTrump Trump nev...   \n3      2020-07-25 12:27:10  @brookbanktv The one gift #COVID19 has give me...   \n4      2020-07-25 12:27:08  25 July : Media Bulletin on Novel #CoronaVirus...   \n...                    ...                                                ...   \n179103 2020-08-29 19:44:21  Thanks @IamOhmai for nominating me for the @WH...   \n179104 2020-08-29 19:44:16  2020! The year of insanity! Lol! #COVID19 http...   \n179105 2020-08-29 19:44:15  @CTVNews A powerful painting by Juan Lucena. I...   \n179106 2020-08-29 19:44:14  More than 1,200 students test positive for #CO...   \n179107 2020-08-29 19:44:08  I stop when I see a Stop\\n\\n@SABCNews\\n@Izinda...   \n\n                                         text_without_#&@  lenth  nbr_mentions  \n0       If I smelled the scent of hand sanitizers toda...    140             0  \n1       Hey and - wouldn't it have made more sense to ...    140             3  \n2        Trump never once claimed was a hoax. We all c...    140             3  \n3        The one gift has give me is an appreciation f...    139             1  \n4                   25 July : Media Bulletin on Novel \\n     138             4  \n...                                                   ...    ...           ...  \n179103  Thanks for nominating me for the challenge.\\n\\...    128             4  \n179104                  2020! The year of insanity! Lol!      65             0  \n179105   A powerful painting by Juan Lucena. It's a tr...    140             1  \n179106  More than 1,200 students test positive for at ...    106             0  \n179107          I stop when I see a Stop\\n\\n\\n\\n\\n\\n\\n\\n     138             7  \n\n[179108 rows x 5 columns]",
      "text/html": "<div>\n<style scoped>\n    .dataframe tbody tr th:only-of-type {\n        vertical-align: middle;\n    }\n\n    .dataframe tbody tr th {\n        vertical-align: top;\n    }\n\n    .dataframe thead th {\n        text-align: right;\n    }\n</style>\n<table border=\"1\" class=\"dataframe\">\n  <thead>\n    <tr style=\"text-align: right;\">\n      <th></th>\n      <th>date</th>\n      <th>text</th>\n      <th>text_without_#&amp;@</th>\n      <th>lenth</th>\n      <th>nbr_mentions</th>\n    </tr>\n  </thead>\n  <tbody>\n    <tr>\n      <th>0</th>\n      <td>2020-07-25 12:27:21</td>\n      <td>If I smelled the scent of hand sanitizers toda...</td>\n      <td>If I smelled the scent of hand sanitizers toda...</td>\n      <td>140</td>\n      <td>0</td>\n    </tr>\n    <tr>\n      <th>1</th>\n      <td>2020-07-25 12:27:17</td>\n      <td>Hey @Yankees @YankeesPR and @MLB - wouldn't it...</td>\n      <td>Hey and - wouldn't it have made more sense to ...</td>\n      <td>140</td>\n      <td>3</td>\n    </tr>\n    <tr>\n      <th>2</th>\n      <td>2020-07-25 12:27:14</td>\n      <td>@diane3443 @wdunlap @realDonaldTrump Trump nev...</td>\n      <td>Trump never once claimed was a hoax. We all c...</td>\n      <td>140</td>\n      <td>3</td>\n    </tr>\n    <tr>\n      <th>3</th>\n      <td>2020-07-25 12:27:10</td>\n      <td>@brookbanktv The one gift #COVID19 has give me...</td>\n      <td>The one gift has give me is an appreciation f...</td>\n      <td>139</td>\n      <td>1</td>\n    </tr>\n    <tr>\n      <th>4</th>\n      <td>2020-07-25 12:27:08</td>\n      <td>25 July : Media Bulletin on Novel #CoronaVirus...</td>\n      <td>25 July : Media Bulletin on Novel \\n</td>\n      <td>138</td>\n      <td>4</td>\n    </tr>\n    <tr>\n      <th>...</th>\n      <td>...</td>\n      <td>...</td>\n      <td>...</td>\n      <td>...</td>\n      <td>...</td>\n    </tr>\n    <tr>\n      <th>179103</th>\n      <td>2020-08-29 19:44:21</td>\n      <td>Thanks @IamOhmai for nominating me for the @WH...</td>\n      <td>Thanks for nominating me for the challenge.\\n\\...</td>\n      <td>128</td>\n      <td>4</td>\n    </tr>\n    <tr>\n      <th>179104</th>\n      <td>2020-08-29 19:44:16</td>\n      <td>2020! The year of insanity! Lol! #COVID19 http...</td>\n      <td>2020! The year of insanity! Lol!</td>\n      <td>65</td>\n      <td>0</td>\n    </tr>\n    <tr>\n      <th>179105</th>\n      <td>2020-08-29 19:44:15</td>\n      <td>@CTVNews A powerful painting by Juan Lucena. I...</td>\n      <td>A powerful painting by Juan Lucena. It's a tr...</td>\n      <td>140</td>\n      <td>1</td>\n    </tr>\n    <tr>\n      <th>179106</th>\n      <td>2020-08-29 19:44:14</td>\n      <td>More than 1,200 students test positive for #CO...</td>\n      <td>More than 1,200 students test positive for at ...</td>\n      <td>106</td>\n      <td>0</td>\n    </tr>\n    <tr>\n      <th>179107</th>\n      <td>2020-08-29 19:44:08</td>\n      <td>I stop when I see a Stop\\n\\n@SABCNews\\n@Izinda...</td>\n      <td>I stop when I see a Stop\\n\\n\\n\\n\\n\\n\\n\\n</td>\n      <td>138</td>\n      <td>7</td>\n    </tr>\n  </tbody>\n</table>\n<p>179108 rows × 5 columns</p>\n</div>"
     },
     "execution_count": 240,
     "metadata": {},
     "output_type": "execute_result"
    }
   ],
   "source": [
    "text"
   ],
   "metadata": {
    "collapsed": false,
    "ExecuteTime": {
     "end_time": "2023-12-11T16:19:20.924303Z",
     "start_time": "2023-12-11T16:19:20.920935Z"
    }
   },
   "id": "4217654ec2c9832e"
  },
  {
   "cell_type": "code",
   "execution_count": 240,
   "outputs": [],
   "source": [],
   "metadata": {
    "collapsed": false,
    "ExecuteTime": {
     "end_time": "2023-12-11T16:19:20.924389Z",
     "start_time": "2023-12-11T16:19:20.922884Z"
    }
   },
   "id": "dbd9b5e619c81828"
  }
 ],
 "metadata": {
  "kernelspec": {
   "display_name": "Python 3",
   "language": "python",
   "name": "python3"
  },
  "language_info": {
   "codemirror_mode": {
    "name": "ipython",
    "version": 2
   },
   "file_extension": ".py",
   "mimetype": "text/x-python",
   "name": "python",
   "nbconvert_exporter": "python",
   "pygments_lexer": "ipython2",
   "version": "2.7.6"
  }
 },
 "nbformat": 4,
 "nbformat_minor": 5
}
