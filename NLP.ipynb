{
 "cells": [
  {
   "cell_type": "code",
   "execution_count": 220,
   "metadata": {},
   "outputs": [],
   "source": [
    "import pandas as pd\n",
    "import re"
   ]
  },
  {
   "cell_type": "code",
   "execution_count": 221,
   "metadata": {},
   "outputs": [],
   "source": [
    "train = pd.read_csv(\"data/Corona_NLP_train.csv\", encoding='ISO-8859-1')\n",
    "test = pd.read_csv(\"data/Corona_NLP_test.csv\", encoding='ISO-8859-1')"
   ]
  },
  {
   "cell_type": "code",
   "execution_count": 222,
   "metadata": {},
   "outputs": [],
   "source": [
    "df = pd.concat([test, train], ignore_index=True)"
   ]
  },
  {
   "cell_type": "code",
   "execution_count": 223,
   "metadata": {},
   "outputs": [],
   "source": [
    "df['TweetAt'] = pd.to_datetime(df['TweetAt'], format=\"%d-%m-%Y\")\n"
   ]
  },
  {
   "cell_type": "code",
   "execution_count": 224,
   "metadata": {},
   "outputs": [
    {
     "name": "stdout",
     "output_type": "stream",
     "text": [
      "<class 'pandas.core.frame.DataFrame'>\n",
      "RangeIndex: 44955 entries, 0 to 44954\n",
      "Data columns (total 6 columns):\n",
      " #   Column         Non-Null Count  Dtype         \n",
      "---  ------         --------------  -----         \n",
      " 0   UserName       44955 non-null  int64         \n",
      " 1   ScreenName     44955 non-null  int64         \n",
      " 2   Location       35531 non-null  object        \n",
      " 3   TweetAt        44955 non-null  datetime64[ns]\n",
      " 4   OriginalTweet  44955 non-null  object        \n",
      " 5   Sentiment      44955 non-null  object        \n",
      "dtypes: datetime64[ns](1), int64(2), object(3)\n",
      "memory usage: 2.1+ MB\n"
     ]
    }
   ],
   "source": [
    "df.info()"
   ]
  },
  {
   "cell_type": "code",
   "execution_count": 225,
   "metadata": {},
   "outputs": [],
   "source": [
    "df = df.sort_values(by='TweetAt').reset_index(drop=True)"
   ]
  },
  {
   "cell_type": "code",
   "execution_count": 226,
   "metadata": {},
   "outputs": [],
   "source": [
    "df = df[[\"TweetAt\", \"OriginalTweet\", \"Sentiment\"]]"
   ]
  },
  {
   "cell_type": "code",
   "execution_count": 227,
   "metadata": {},
   "outputs": [
    {
     "name": "stdout",
     "output_type": "stream",
     "text": [
      "2020-03-02 00:00:00  <-- min date\n",
      "2020-04-14 00:00:00  <-- max date\n"
     ]
    }
   ],
   "source": [
    "print(str(df[\"TweetAt\"].min()) + \"  <-- min date\")\n",
    "print(str(df[\"TweetAt\"].max()) + \"  <-- max date\")"
   ]
  },
  {
   "cell_type": "code",
   "execution_count": 228,
   "metadata": {},
   "outputs": [],
   "source": [
    "text = df[[\"TweetAt\", \"OriginalTweet\"]]"
   ]
  },
  {
   "cell_type": "code",
   "execution_count": 229,
   "metadata": {},
   "outputs": [],
   "source": [
    "text[\"length\"] = text[\"OriginalTweet\"].apply(lambda x: len(x))"
   ]
  },
  {
   "cell_type": "code",
   "execution_count": 230,
   "metadata": {},
   "outputs": [],
   "source": [
    "mentions = text['OriginalTweet'].str.findall(r'(@\\w+)')"
   ]
  },
  {
   "cell_type": "code",
   "execution_count": 231,
   "metadata": {},
   "outputs": [],
   "source": [
    "text.insert(3,'nbr_mentions', mentions.apply(lambda x : len(x)))"
   ]
  },
  {
   "cell_type": "code",
   "execution_count": 232,
   "metadata": {},
   "outputs": [
    {
     "data": {
      "text/plain": [
       "@realDonaldTrump    0.014899\n",
       "@Tesco              0.010376\n",
       "@sainsburys         0.009418\n",
       "@BorisJohnson       0.008141\n",
       "@amazon             0.006385\n",
       "                      ...   \n",
       "@Billtony91         0.000053\n",
       "@BBCEngland         0.000053\n",
       "@parademag          0.000053\n",
       "@JohnFMauldin       0.000053\n",
       "@TartiiCat          0.000053\n",
       "Name: OriginalTweet, Length: 11163, dtype: float64"
      ]
     },
     "execution_count": 232,
     "metadata": {},
     "output_type": "execute_result"
    }
   ],
   "source": [
    "mentions = mentions.explode().value_counts(True)\n",
    "mentions"
   ]
  },
  {
   "cell_type": "code",
   "execution_count": 233,
   "metadata": {},
   "outputs": [],
   "source": [
    "def remove_usernames_links(df):\n",
    "    df = re.sub('#[^\\s]+', '', df)\n",
    "    df = re.sub('@[^\\s]+','',df)\n",
    "    df = re.sub('http[^\\s]+','',df) \n",
    "    df = re.sub(' +', ' ', df)\n",
    "    return df"
   ]
  },
  {
   "cell_type": "code",
   "execution_count": 234,
   "metadata": {},
   "outputs": [],
   "source": [
    "df[\"text_without_tags\"] = df[\"OriginalTweet\"].apply(remove_usernames_links)"
   ]
  },
  {
   "cell_type": "code",
   "execution_count": 235,
   "metadata": {},
   "outputs": [
    {
     "data": {
      "text/html": [
       "<div>\n",
       "<style scoped>\n",
       "    .dataframe tbody tr th:only-of-type {\n",
       "        vertical-align: middle;\n",
       "    }\n",
       "\n",
       "    .dataframe tbody tr th {\n",
       "        vertical-align: top;\n",
       "    }\n",
       "\n",
       "    .dataframe thead th {\n",
       "        text-align: right;\n",
       "    }\n",
       "</style>\n",
       "<table border=\"1\" class=\"dataframe\">\n",
       "  <thead>\n",
       "    <tr style=\"text-align: right;\">\n",
       "      <th></th>\n",
       "      <th>TweetAt</th>\n",
       "      <th>OriginalTweet</th>\n",
       "      <th>Sentiment</th>\n",
       "      <th>text_without_tags</th>\n",
       "    </tr>\n",
       "  </thead>\n",
       "  <tbody>\n",
       "    <tr>\n",
       "      <th>0</th>\n",
       "      <td>2020-03-02</td>\n",
       "      <td>TRENDING: New Yorkers encounter empty supermar...</td>\n",
       "      <td>Extremely Negative</td>\n",
       "      <td>TRENDING: New Yorkers encounter empty supermar...</td>\n",
       "    </tr>\n",
       "    <tr>\n",
       "      <th>1</th>\n",
       "      <td>2020-03-02</td>\n",
       "      <td>When I couldn't find hand sanitizer at Fred Me...</td>\n",
       "      <td>Positive</td>\n",
       "      <td>When I couldn't find hand sanitizer at Fred Me...</td>\n",
       "    </tr>\n",
       "    <tr>\n",
       "      <th>2</th>\n",
       "      <td>2020-03-02</td>\n",
       "      <td>Find out how you can protect yourself and love...</td>\n",
       "      <td>Extremely Positive</td>\n",
       "      <td>Find out how you can protect yourself and love...</td>\n",
       "    </tr>\n",
       "    <tr>\n",
       "      <th>3</th>\n",
       "      <td>2020-03-02</td>\n",
       "      <td>#Panic buying hits #NewYork City as anxious sh...</td>\n",
       "      <td>Negative</td>\n",
       "      <td>buying hits City as anxious shoppers stock up...</td>\n",
       "    </tr>\n",
       "    <tr>\n",
       "      <th>4</th>\n",
       "      <td>2020-03-03</td>\n",
       "      <td>#toiletpaper #dunnypaper #coronavirus #coronav...</td>\n",
       "      <td>Neutral</td>\n",
       "      <td>One week everyone buying baby milk powder the...</td>\n",
       "    </tr>\n",
       "    <tr>\n",
       "      <th>...</th>\n",
       "      <td>...</td>\n",
       "      <td>...</td>\n",
       "      <td>...</td>\n",
       "      <td>...</td>\n",
       "    </tr>\n",
       "    <tr>\n",
       "      <th>44950</th>\n",
       "      <td>2020-04-14</td>\n",
       "      <td>Breweries are making hand sanitizer over booze...</td>\n",
       "      <td>Positive</td>\n",
       "      <td>Breweries are making hand sanitizer over booze...</td>\n",
       "    </tr>\n",
       "    <tr>\n",
       "      <th>44951</th>\n",
       "      <td>2020-04-14</td>\n",
       "      <td>Just scolded my dad who wanted to go supermark...</td>\n",
       "      <td>Extremely Negative</td>\n",
       "      <td>Just scolded my dad who wanted to go supermark...</td>\n",
       "    </tr>\n",
       "    <tr>\n",
       "      <th>44952</th>\n",
       "      <td>2020-04-14</td>\n",
       "      <td>COVID-19 Special LIVE Phone-In Program with Sh...</td>\n",
       "      <td>Positive</td>\n",
       "      <td>COVID-19 Special LIVE Phone-In Program with Sh...</td>\n",
       "    </tr>\n",
       "    <tr>\n",
       "      <th>44953</th>\n",
       "      <td>2020-04-14</td>\n",
       "      <td>We may be saying goodbye to paper flyers soon,...</td>\n",
       "      <td>Positive</td>\n",
       "      <td>We may be saying goodbye to paper flyers soon,...</td>\n",
       "    </tr>\n",
       "    <tr>\n",
       "      <th>44954</th>\n",
       "      <td>2020-04-14</td>\n",
       "      <td>@TartiiCat Well new/used Rift S are going for ...</td>\n",
       "      <td>Negative</td>\n",
       "      <td>Well new/used Rift S are going for $700.00 on...</td>\n",
       "    </tr>\n",
       "  </tbody>\n",
       "</table>\n",
       "<p>44955 rows × 4 columns</p>\n",
       "</div>"
      ],
      "text/plain": [
       "         TweetAt                                      OriginalTweet  \\\n",
       "0     2020-03-02  TRENDING: New Yorkers encounter empty supermar...   \n",
       "1     2020-03-02  When I couldn't find hand sanitizer at Fred Me...   \n",
       "2     2020-03-02  Find out how you can protect yourself and love...   \n",
       "3     2020-03-02  #Panic buying hits #NewYork City as anxious sh...   \n",
       "4     2020-03-03  #toiletpaper #dunnypaper #coronavirus #coronav...   \n",
       "...          ...                                                ...   \n",
       "44950 2020-04-14  Breweries are making hand sanitizer over booze...   \n",
       "44951 2020-04-14  Just scolded my dad who wanted to go supermark...   \n",
       "44952 2020-04-14  COVID-19 Special LIVE Phone-In Program with Sh...   \n",
       "44953 2020-04-14  We may be saying goodbye to paper flyers soon,...   \n",
       "44954 2020-04-14  @TartiiCat Well new/used Rift S are going for ...   \n",
       "\n",
       "                Sentiment                                  text_without_tags  \n",
       "0      Extremely Negative  TRENDING: New Yorkers encounter empty supermar...  \n",
       "1                Positive  When I couldn't find hand sanitizer at Fred Me...  \n",
       "2      Extremely Positive  Find out how you can protect yourself and love...  \n",
       "3                Negative   buying hits City as anxious shoppers stock up...  \n",
       "4                 Neutral   One week everyone buying baby milk powder the...  \n",
       "...                   ...                                                ...  \n",
       "44950            Positive  Breweries are making hand sanitizer over booze...  \n",
       "44951  Extremely Negative  Just scolded my dad who wanted to go supermark...  \n",
       "44952            Positive  COVID-19 Special LIVE Phone-In Program with Sh...  \n",
       "44953            Positive  We may be saying goodbye to paper flyers soon,...  \n",
       "44954            Negative   Well new/used Rift S are going for $700.00 on...  \n",
       "\n",
       "[44955 rows x 4 columns]"
      ]
     },
     "execution_count": 235,
     "metadata": {},
     "output_type": "execute_result"
    }
   ],
   "source": [
    "df"
   ]
  },
  {
   "cell_type": "code",
   "execution_count": 236,
   "metadata": {},
   "outputs": [],
   "source": [
    "import nltk\n",
    "from nltk.corpus import stopwords\n",
    "from nltk.tokenize import word_tokenize"
   ]
  },
  {
   "cell_type": "code",
   "execution_count": 237,
   "metadata": {},
   "outputs": [
    {
     "name": "stderr",
     "output_type": "stream",
     "text": [
      "[nltk_data] Downloading package stopwords to\n",
      "[nltk_data]     /Users/rogermauvois/nltk_data...\n",
      "[nltk_data]   Package stopwords is already up-to-date!\n",
      "[nltk_data] Downloading package punkt to\n",
      "[nltk_data]     /Users/rogermauvois/nltk_data...\n",
      "[nltk_data]   Package punkt is already up-to-date!\n"
     ]
    }
   ],
   "source": [
    "nltk.download('stopwords')\n",
    "nltk.download('punkt')\n",
    "stop_words = set(stopwords.words('english'))"
   ]
  },
  {
   "cell_type": "code",
   "execution_count": 238,
   "metadata": {},
   "outputs": [],
   "source": [
    "def remove_stopwords(text):\n",
    "    words = word_tokenize(text)\n",
    "    words_filtered = [word for word in words if word.lower() not in stop_words]\n",
    "    return \" \".join(words_filtered)"
   ]
  },
  {
   "cell_type": "code",
   "execution_count": 239,
   "metadata": {},
   "outputs": [],
   "source": [
    "df['text_without_tags'] = df['text_without_tags'].apply(lambda x: remove_stopwords(x.lower()))"
   ]
  },
  {
   "cell_type": "code",
   "execution_count": 240,
   "metadata": {},
   "outputs": [
    {
     "data": {
      "text/plain": [
       "'trending : new yorkers encounter empty supermarket shelves ( pictured , wegmans brooklyn ) , sold-out online grocers ( foodkick , maxdelivery ) shoppers stock'"
      ]
     },
     "execution_count": 240,
     "metadata": {},
     "output_type": "execute_result"
    }
   ],
   "source": [
    "df[\"text_without_tags\"].iloc[0]"
   ]
  },
  {
   "cell_type": "markdown",
   "metadata": {},
   "source": [
    "### Modèle"
   ]
  },
  {
   "cell_type": "code",
   "execution_count": 241,
   "metadata": {},
   "outputs": [],
   "source": [
    "sentiment_mapping = {\n",
    "    'Extremely Negative': -1,\n",
    "    'Negative': -0.5,\n",
    "    'Neutral': 0,\n",
    "    'Positive': 0.5,\n",
    "    'Extremely Positive': 1\n",
    "}"
   ]
  },
  {
   "cell_type": "code",
   "execution_count": 242,
   "metadata": {},
   "outputs": [],
   "source": [
    "df['Sentiment'] = df['Sentiment'].map(sentiment_mapping)"
   ]
  },
  {
   "cell_type": "code",
   "execution_count": 243,
   "metadata": {},
   "outputs": [],
   "source": [
    "from tensorflow.keras.layers import Dense, Embedding, LSTM, TextVectorization\n",
    "from tensorflow.keras import Sequential\n",
    "import tensorflow.keras.backend as K\n",
    "from tensorflow.keras.initializers import Constant\n",
    "\n"
   ]
  },
  {
   "cell_type": "code",
   "execution_count": 244,
   "metadata": {},
   "outputs": [],
   "source": [
    "from sklearn.model_selection import train_test_split"
   ]
  },
  {
   "cell_type": "code",
   "execution_count": 245,
   "metadata": {},
   "outputs": [],
   "source": [
    "X = df[\"text_without_tags\"].values\n",
    "y = df[\"Sentiment\"].values\n",
    "\n",
    "X_train, X_test, y_train, y_test = train_test_split(X, y, test_size=0.15, random_state=42)"
   ]
  },
  {
   "cell_type": "code",
   "execution_count": 246,
   "metadata": {},
   "outputs": [],
   "source": [
    "X_train, X_val, y_train, y_val = train_test_split(X_train, y_train, test_size=0.30, random_state=42)"
   ]
  },
  {
   "cell_type": "code",
   "execution_count": 247,
   "metadata": {},
   "outputs": [
    {
     "data": {
      "text/plain": [
       "((26747,), (11464,), (6744,))"
      ]
     },
     "execution_count": 247,
     "metadata": {},
     "output_type": "execute_result"
    }
   ],
   "source": [
    "X_train.shape, X_val.shape, X_test.shape"
   ]
  },
  {
   "cell_type": "code",
   "execution_count": 302,
   "metadata": {},
   "outputs": [],
   "source": [
    "embedding_dim = 50\n",
    "max_tokens = 20000\n",
    "embedding_matrix = np.zeros((max_tokens, embedding_dim))"
   ]
  },
  {
   "cell_type": "code",
   "execution_count": 304,
   "metadata": {},
   "outputs": [],
   "source": [
    "def custom_tanh(x):\n",
    "    return K.tanh(x /7)"
   ]
  },
  {
   "cell_type": "code",
   "execution_count": 305,
   "metadata": {},
   "outputs": [
    {
     "name": "stdout",
     "output_type": "stream",
     "text": [
      "1/1 [==============================] - 1s 614ms/step\n",
      "Model: \"sequential_30\"\n",
      "_________________________________________________________________\n",
      " Layer (type)                Output Shape              Param #   \n",
      "=================================================================\n",
      " text_vectorizer (TextVecto  (None, 50)                0         \n",
      " rization)                                                       \n",
      "                                                                 \n",
      " embedding_25 (Embedding)    (None, 50, 50)            1000000   \n",
      "                                                                 \n",
      " lstm_25 (LSTM)              (None, 100)               60400     \n",
      "                                                                 \n",
      " dense_25 (Dense)            (None, 1)                 101       \n",
      "                                                                 \n",
      "=================================================================\n",
      "Total params: 1060501 (4.05 MB)\n",
      "Trainable params: 1060501 (4.05 MB)\n",
      "Non-trainable params: 0 (0.00 Byte)\n",
      "_________________________________________________________________\n"
     ]
    }
   ],
   "source": [
    "model = Sequential()\n",
    "\n",
    "text_vectorizer = TextVectorization(max_tokens=max_tokens,\n",
    "                                    output_sequence_length=50,\n",
    "                                    output_mode='int',\n",
    "                                    name=\"text_vectorizer\")\n",
    "text_vectorizer.adapt(X_train)\n",
    "\n",
    "model.add(text_vectorizer)\n",
    "\n",
    "\n",
    "model.add(Embedding(\n",
    "    max_tokens,\n",
    "    embedding_dim,\n",
    "    embeddings_initializer=Constant(embedding_matrix)\n",
    "    # trainable=False, \n",
    "    # mask_zero=True\n",
    "    )\n",
    ")\n",
    "model.add(LSTM(100))\n",
    "model.add(Dense(1, activation=custom_tanh))\n",
    "\n",
    "model.compile(optimizer=\"Adam\", loss= \"mean_squared_error\")\n",
    "\n",
    "sample_text_data = ['trending : new yorkers encounter empty supermarket shelves ( pictured , wegmans brooklyn ) , sold-out online grocers ( foodkick , maxdelivery ) shoppers stock']\n",
    "model.predict(sample_text_data)\n",
    "\n",
    "model.summary()"
   ]
  },
  {
   "cell_type": "code",
   "execution_count": 298,
   "metadata": {},
   "outputs": [],
   "source": [
    "from tensorflow.keras.callbacks import EarlyStopping, ModelCheckpoint"
   ]
  },
  {
   "cell_type": "code",
   "execution_count": 306,
   "metadata": {},
   "outputs": [
    {
     "name": "stdout",
     "output_type": "stream",
     "text": [
      "Epoch 1/200\n",
      "835/836 [============================>.] - ETA: 0s - loss: 0.4276INFO:tensorflow:Assets written to: best_model.tf/assets\n"
     ]
    },
    {
     "name": "stderr",
     "output_type": "stream",
     "text": [
      "INFO:tensorflow:Assets written to: best_model.tf/assets\n"
     ]
    },
    {
     "name": "stdout",
     "output_type": "stream",
     "text": [
      "836/836 [==============================] - 38s 42ms/step - loss: 0.4276 - val_loss: 0.4184\n",
      "Epoch 2/200\n",
      "836/836 [==============================] - ETA: 0s - loss: 0.4280INFO:tensorflow:Assets written to: best_model.tf/assets\n"
     ]
    },
    {
     "name": "stderr",
     "output_type": "stream",
     "text": [
      "INFO:tensorflow:Assets written to: best_model.tf/assets\n"
     ]
    },
    {
     "name": "stdout",
     "output_type": "stream",
     "text": [
      "836/836 [==============================] - 34s 41ms/step - loss: 0.4280 - val_loss: 0.4181\n",
      "Epoch 3/200\n",
      "835/836 [============================>.] - ETA: 0s - loss: 0.4280INFO:tensorflow:Assets written to: best_model.tf/assets\n"
     ]
    },
    {
     "name": "stderr",
     "output_type": "stream",
     "text": [
      "INFO:tensorflow:Assets written to: best_model.tf/assets\n"
     ]
    },
    {
     "name": "stdout",
     "output_type": "stream",
     "text": [
      "836/836 [==============================] - 35s 41ms/step - loss: 0.4280 - val_loss: 0.4181\n",
      "Epoch 4/200\n",
      "835/836 [============================>.] - ETA: 0s - loss: 0.4279INFO:tensorflow:Assets written to: best_model.tf/assets\n"
     ]
    },
    {
     "name": "stderr",
     "output_type": "stream",
     "text": [
      "INFO:tensorflow:Assets written to: best_model.tf/assets\n"
     ]
    },
    {
     "name": "stdout",
     "output_type": "stream",
     "text": [
      "836/836 [==============================] - 34s 40ms/step - loss: 0.4279 - val_loss: 0.4180\n",
      "Epoch 5/200\n",
      "836/836 [==============================] - ETA: 0s - loss: 0.4222INFO:tensorflow:Assets written to: best_model.tf/assets\n"
     ]
    },
    {
     "name": "stderr",
     "output_type": "stream",
     "text": [
      "INFO:tensorflow:Assets written to: best_model.tf/assets\n"
     ]
    },
    {
     "name": "stdout",
     "output_type": "stream",
     "text": [
      "836/836 [==============================] - 32s 39ms/step - loss: 0.4222 - val_loss: 0.3935\n",
      "Epoch 6/200\n",
      "835/836 [============================>.] - ETA: 0s - loss: 0.3946INFO:tensorflow:Assets written to: best_model.tf/assets\n"
     ]
    },
    {
     "name": "stderr",
     "output_type": "stream",
     "text": [
      "INFO:tensorflow:Assets written to: best_model.tf/assets\n"
     ]
    },
    {
     "name": "stdout",
     "output_type": "stream",
     "text": [
      "836/836 [==============================] - 33s 40ms/step - loss: 0.3946 - val_loss: 0.3911\n",
      "Epoch 7/200\n",
      "836/836 [==============================] - 27s 33ms/step - loss: 0.3869 - val_loss: 0.3924\n",
      "Epoch 8/200\n",
      "836/836 [==============================] - 29s 35ms/step - loss: 0.3896 - val_loss: 0.4024\n",
      "Epoch 9/200\n",
      "836/836 [==============================] - 28s 33ms/step - loss: 0.3916 - val_loss: 0.3997\n",
      "Epoch 10/200\n",
      "836/836 [==============================] - 27s 33ms/step - loss: 0.3882 - val_loss: 0.3971\n",
      "Epoch 11/200\n",
      "836/836 [==============================] - 28s 33ms/step - loss: 0.3858 - val_loss: 0.3965\n",
      "Epoch 12/200\n",
      "836/836 [==============================] - 27s 33ms/step - loss: 0.3858 - val_loss: 0.3947\n",
      "Epoch 13/200\n",
      "836/836 [==============================] - 31s 37ms/step - loss: 0.3824 - val_loss: 0.3954\n",
      "Epoch 14/200\n",
      "836/836 [==============================] - 33s 39ms/step - loss: 0.3831 - val_loss: 0.3961\n",
      "Epoch 15/200\n",
      "836/836 [==============================] - 28s 34ms/step - loss: 0.3822 - val_loss: 0.3946\n",
      "Epoch 16/200\n",
      "836/836 [==============================] - 29s 34ms/step - loss: 0.3806 - val_loss: 0.3968\n",
      "Epoch 17/200\n",
      "836/836 [==============================] - 27s 33ms/step - loss: 0.3793 - val_loss: 0.3952\n",
      "Epoch 18/200\n",
      "836/836 [==============================] - 25s 30ms/step - loss: 0.3799 - val_loss: 0.3935\n",
      "Epoch 19/200\n",
      "835/836 [============================>.] - ETA: 0s - loss: 0.3781INFO:tensorflow:Assets written to: best_model.tf/assets\n"
     ]
    },
    {
     "name": "stderr",
     "output_type": "stream",
     "text": [
      "INFO:tensorflow:Assets written to: best_model.tf/assets\n"
     ]
    },
    {
     "name": "stdout",
     "output_type": "stream",
     "text": [
      "836/836 [==============================] - 35s 42ms/step - loss: 0.3781 - val_loss: 0.3888\n",
      "Epoch 20/200\n",
      "835/836 [============================>.] - ETA: 0s - loss: 0.3119INFO:tensorflow:Assets written to: best_model.tf/assets\n"
     ]
    },
    {
     "name": "stderr",
     "output_type": "stream",
     "text": [
      "INFO:tensorflow:Assets written to: best_model.tf/assets\n"
     ]
    },
    {
     "name": "stdout",
     "output_type": "stream",
     "text": [
      "836/836 [==============================] - 33s 39ms/step - loss: 0.3118 - val_loss: 0.2070\n",
      "Epoch 21/200\n",
      "836/836 [==============================] - ETA: 0s - loss: 0.1732INFO:tensorflow:Assets written to: best_model.tf/assets\n"
     ]
    },
    {
     "name": "stderr",
     "output_type": "stream",
     "text": [
      "INFO:tensorflow:Assets written to: best_model.tf/assets\n"
     ]
    },
    {
     "name": "stdout",
     "output_type": "stream",
     "text": [
      "836/836 [==============================] - 35s 42ms/step - loss: 0.1732 - val_loss: 0.1527\n",
      "Epoch 22/200\n",
      "835/836 [============================>.] - ETA: 0s - loss: 0.0981INFO:tensorflow:Assets written to: best_model.tf/assets\n"
     ]
    },
    {
     "name": "stderr",
     "output_type": "stream",
     "text": [
      "INFO:tensorflow:Assets written to: best_model.tf/assets\n"
     ]
    },
    {
     "name": "stdout",
     "output_type": "stream",
     "text": [
      "836/836 [==============================] - 31s 38ms/step - loss: 0.0981 - val_loss: 0.1317\n",
      "Epoch 23/200\n",
      "836/836 [==============================] - ETA: 0s - loss: 0.0781INFO:tensorflow:Assets written to: best_model.tf/assets\n"
     ]
    },
    {
     "name": "stderr",
     "output_type": "stream",
     "text": [
      "INFO:tensorflow:Assets written to: best_model.tf/assets\n"
     ]
    },
    {
     "name": "stdout",
     "output_type": "stream",
     "text": [
      "836/836 [==============================] - 34s 40ms/step - loss: 0.0781 - val_loss: 0.1278\n",
      "Epoch 24/200\n",
      "836/836 [==============================] - ETA: 0s - loss: 0.0522INFO:tensorflow:Assets written to: best_model.tf/assets\n"
     ]
    },
    {
     "name": "stderr",
     "output_type": "stream",
     "text": [
      "INFO:tensorflow:Assets written to: best_model.tf/assets\n"
     ]
    },
    {
     "name": "stdout",
     "output_type": "stream",
     "text": [
      "836/836 [==============================] - 33s 39ms/step - loss: 0.0522 - val_loss: 0.1269\n",
      "Epoch 25/200\n",
      "836/836 [==============================] - 27s 32ms/step - loss: 0.0412 - val_loss: 0.1279\n",
      "Epoch 26/200\n",
      "836/836 [==============================] - ETA: 0s - loss: 0.0334INFO:tensorflow:Assets written to: best_model.tf/assets\n"
     ]
    },
    {
     "name": "stderr",
     "output_type": "stream",
     "text": [
      "INFO:tensorflow:Assets written to: best_model.tf/assets\n"
     ]
    },
    {
     "name": "stdout",
     "output_type": "stream",
     "text": [
      "836/836 [==============================] - 32s 39ms/step - loss: 0.0334 - val_loss: 0.1246\n",
      "Epoch 27/200\n",
      "836/836 [==============================] - 27s 33ms/step - loss: 0.0292 - val_loss: 0.1299\n",
      "Epoch 28/200\n",
      "836/836 [==============================] - 28s 33ms/step - loss: 0.0267 - val_loss: 0.1264\n",
      "Epoch 29/200\n",
      "836/836 [==============================] - 28s 34ms/step - loss: 0.0224 - val_loss: 0.1353\n",
      "Epoch 30/200\n",
      "836/836 [==============================] - 28s 33ms/step - loss: 0.0197 - val_loss: 0.1357\n",
      "Epoch 31/200\n",
      "836/836 [==============================] - 28s 34ms/step - loss: 0.0176 - val_loss: 0.1327\n",
      "Epoch 32/200\n",
      "836/836 [==============================] - 28s 33ms/step - loss: 0.0162 - val_loss: 0.1331\n"
     ]
    }
   ],
   "source": [
    "callbacks = [\n",
    "    EarlyStopping(monitor='val_loss', patience=6, start_from_epoch=20 ),\n",
    "    ModelCheckpoint(filepath='best_model.tf', monitor='val_loss', save_best_only=True)\n",
    "]\n",
    "\n",
    "# Train the model\n",
    "history = model.fit(\n",
    "    X_train, y_train,\n",
    "    validation_data=(X_val, y_val),\n",
    "    epochs=200,  # You can adjust the number of epoch\n",
    "    callbacks=callbacks\n",
    ")"
   ]
  },
  {
   "cell_type": "code",
   "execution_count": 307,
   "metadata": {},
   "outputs": [
    {
     "name": "stdout",
     "output_type": "stream",
     "text": [
      "211/211 [==============================] - 2s 9ms/step - loss: 0.1366\n"
     ]
    },
    {
     "data": {
      "image/png": "[encoded data removed]",
      "text/plain": [
       "<Figure size 640x480 with 1 Axes>"
      ]
     },
     "metadata": {},
     "output_type": "display_data"
    }
   ],
   "source": [
    "test_loss = model.evaluate(X_test, y_test)\n",
    "\n",
    "# Optionally, you can plot the training history for analysis\n",
    "import matplotlib.pyplot as plt\n",
    "\n",
    "plt.plot(history.history['loss'], label='Training loss')\n",
    "plt.plot(history.history['val_loss'], label='Validation loss')\n",
    "plt.title('Training and Validation Loss')\n",
    "plt.ylabel('Loss')\n",
    "plt.xlabel('Epoch')\n",
    "plt.legend()\n",
    "plt.show()"
   ]
  },
  {
   "cell_type": "code",
   "execution_count": 311,
   "metadata": {},
   "outputs": [
    {
     "name": "stdout",
     "output_type": "stream",
     "text": [
      "211/211 [==============================] - 2s 9ms/step\n"
     ]
    }
   ],
   "source": [
    "prediction = model.predict(X_test)"
   ]
  },
  {
   "cell_type": "code",
   "execution_count": 314,
   "metadata": {},
   "outputs": [
    {
     "data": {
      "text/plain": [
       "array([-0.19158962,  0.96405005, -0.07637209, ...,  0.9512711 ,\n",
       "       -0.49431255,  0.482968  ], dtype=float32)"
      ]
     },
     "execution_count": 314,
     "metadata": {},
     "output_type": "execute_result"
    }
   ],
   "source": [
    "prediction[:,0]"
   ]
  },
  {
   "cell_type": "code",
   "execution_count": 317,
   "metadata": {},
   "outputs": [
    {
     "data": {
      "text/plain": [
       "array([-0.25,  1.  , -0.  , ...,  1.  , -0.5 ,  0.5 ], dtype=float32)"
      ]
     },
     "execution_count": 317,
     "metadata": {},
     "output_type": "execute_result"
    }
   ],
   "source": [
    "np.around(prediction[:,0]/0.25)/4"
   ]
  },
  {
   "cell_type": "code",
   "execution_count": 319,
   "metadata": {},
   "outputs": [],
   "source": [
    "from sklearn.metrics import classification_report"
   ]
  },
  {
   "cell_type": "code",
   "execution_count": 334,
   "metadata": {},
   "outputs": [
    {
     "data": {
      "text/plain": [
       "array([-0. ,  1. , -0. , ...,  1. , -0.5,  0.5], dtype=float32)"
      ]
     },
     "execution_count": 334,
     "metadata": {},
     "output_type": "execute_result"
    }
   ],
   "source": [
    "y_pred = ((np.around(prediction[:,0] * 2))/2)\n"
   ]
  },
  {
   "cell_type": "code",
   "execution_count": 340,
   "metadata": {},
   "outputs": [],
   "source": [
    "y_pred = (y_pred +1) * 2"
   ]
  },
  {
   "cell_type": "code",
   "execution_count": 341,
   "metadata": {},
   "outputs": [
    {
     "data": {
      "text/plain": [
       "array([2., 4., 2., ..., 4., 1., 3.], dtype=float32)"
      ]
     },
     "execution_count": 341,
     "metadata": {},
     "output_type": "execute_result"
    }
   ],
   "source": [
    "y_pred"
   ]
  },
  {
   "cell_type": "code",
   "execution_count": 332,
   "metadata": {},
   "outputs": [
    {
     "data": {
      "text/plain": [
       "array([-0.,  2., -0., ...,  2., -1.,  1.], dtype=float32)"
      ]
     },
     "execution_count": 332,
     "metadata": {},
     "output_type": "execute_result"
    }
   ],
   "source": [
    "np.around(prediction[:,0]/0.5)"
   ]
  },
  {
   "cell_type": "code",
   "execution_count": 337,
   "metadata": {},
   "outputs": [],
   "source": [
    "y_test = y_test-2"
   ]
  },
  {
   "cell_type": "code",
   "execution_count": 338,
   "metadata": {},
   "outputs": [
    {
     "data": {
      "text/plain": [
       "array([3., 4., 3., ..., 4., 0., 3.])"
      ]
     },
     "execution_count": 338,
     "metadata": {},
     "output_type": "execute_result"
    }
   ],
   "source": [
    "y_test"
   ]
  },
  {
   "cell_type": "code",
   "execution_count": 345,
   "metadata": {},
   "outputs": [],
   "source": [
    "report = pd.DataFrame(classification_report(y_test, y_pred, output_dict=True))"
   ]
  },
  {
   "cell_type": "code",
   "execution_count": 360,
   "metadata": {},
   "outputs": [
    {
     "name": "stdout",
     "output_type": "stream",
     "text": [
      "              precision    recall  f1-score   support\n",
      "\n",
      "         0.0       0.73      0.69      0.71       894\n",
      "         1.0       0.62      0.58      0.60      1609\n",
      "         2.0       0.65      0.74      0.69      1289\n",
      "         3.0       0.68      0.70      0.69      1887\n",
      "         4.0       0.79      0.75      0.77      1065\n",
      "\n",
      "    accuracy                           0.69      6744\n",
      "   macro avg       0.70      0.69      0.69      6744\n",
      "weighted avg       0.69      0.69      0.68      6744\n",
      "\n"
     ]
    }
   ],
   "source": [
    "print(classification_report(y_test, y_pred))"
   ]
  },
  {
   "cell_type": "code",
   "execution_count": 346,
   "metadata": {},
   "outputs": [
    {
     "data": {
      "text/html": [
       "<div>\n",
       "<style scoped>\n",
       "    .dataframe tbody tr th:only-of-type {\n",
       "        vertical-align: middle;\n",
       "    }\n",
       "\n",
       "    .dataframe tbody tr th {\n",
       "        vertical-align: top;\n",
       "    }\n",
       "\n",
       "    .dataframe thead th {\n",
       "        text-align: right;\n",
       "    }\n",
       "</style>\n",
       "<table border=\"1\" class=\"dataframe\">\n",
       "  <thead>\n",
       "    <tr style=\"text-align: right;\">\n",
       "      <th></th>\n",
       "      <th>0.0</th>\n",
       "      <th>1.0</th>\n",
       "      <th>2.0</th>\n",
       "      <th>3.0</th>\n",
       "      <th>4.0</th>\n",
       "      <th>accuracy</th>\n",
       "      <th>macro avg</th>\n",
       "      <th>weighted avg</th>\n",
       "    </tr>\n",
       "  </thead>\n",
       "  <tbody>\n",
       "    <tr>\n",
       "      <th>precision</th>\n",
       "      <td>0.732861</td>\n",
       "      <td>0.623749</td>\n",
       "      <td>0.651131</td>\n",
       "      <td>0.682573</td>\n",
       "      <td>0.790514</td>\n",
       "      <td>0.685202</td>\n",
       "      <td>0.696165</td>\n",
       "      <td>0.686241</td>\n",
       "    </tr>\n",
       "    <tr>\n",
       "      <th>recall</th>\n",
       "      <td>0.693512</td>\n",
       "      <td>0.581106</td>\n",
       "      <td>0.737005</td>\n",
       "      <td>0.697403</td>\n",
       "      <td>0.751174</td>\n",
       "      <td>0.685202</td>\n",
       "      <td>0.692040</td>\n",
       "      <td>0.685202</td>\n",
       "    </tr>\n",
       "    <tr>\n",
       "      <th>f1-score</th>\n",
       "      <td>0.712644</td>\n",
       "      <td>0.601673</td>\n",
       "      <td>0.691412</td>\n",
       "      <td>0.689908</td>\n",
       "      <td>0.770342</td>\n",
       "      <td>0.685202</td>\n",
       "      <td>0.693196</td>\n",
       "      <td>0.684860</td>\n",
       "    </tr>\n",
       "    <tr>\n",
       "      <th>support</th>\n",
       "      <td>894.000000</td>\n",
       "      <td>1609.000000</td>\n",
       "      <td>1289.000000</td>\n",
       "      <td>1887.000000</td>\n",
       "      <td>1065.000000</td>\n",
       "      <td>0.685202</td>\n",
       "      <td>6744.000000</td>\n",
       "      <td>6744.000000</td>\n",
       "    </tr>\n",
       "  </tbody>\n",
       "</table>\n",
       "</div>"
      ],
      "text/plain": [
       "                  0.0          1.0          2.0          3.0          4.0  \\\n",
       "precision    0.732861     0.623749     0.651131     0.682573     0.790514   \n",
       "recall       0.693512     0.581106     0.737005     0.697403     0.751174   \n",
       "f1-score     0.712644     0.601673     0.691412     0.689908     0.770342   \n",
       "support    894.000000  1609.000000  1289.000000  1887.000000  1065.000000   \n",
       "\n",
       "           accuracy    macro avg  weighted avg  \n",
       "precision  0.685202     0.696165      0.686241  \n",
       "recall     0.685202     0.692040      0.685202  \n",
       "f1-score   0.685202     0.693196      0.684860  \n",
       "support    0.685202  6744.000000   6744.000000  "
      ]
     },
     "execution_count": 346,
     "metadata": {},
     "output_type": "execute_result"
    }
   ],
   "source": [
    "report"
   ]
  },
  {
   "cell_type": "code",
   "execution_count": 349,
   "metadata": {},
   "outputs": [],
   "source": [
    "from sklearn.metrics import confusion_matrix, ConfusionMatrixDisplay"
   ]
  },
  {
   "cell_type": "code",
   "execution_count": 348,
   "metadata": {},
   "outputs": [
    {
     "data": {
      "text/plain": [
       "array([[ 620,  224,   24,   24,    2],\n",
       "       [ 196,  935,  270,  187,   21],\n",
       "       [   5,  167,  950,  164,    3],\n",
       "       [  23,  159,  203, 1316,  186],\n",
       "       [   2,   14,   12,  237,  800]])"
      ]
     },
     "execution_count": 348,
     "metadata": {},
     "output_type": "execute_result"
    }
   ],
   "source": [
    "confusion_matrix(y_test, y_pred)"
   ]
  },
  {
   "cell_type": "code",
   "execution_count": 364,
   "metadata": {},
   "outputs": [
    {
     "data": {
      "image/png": "[encoded data removed]",
      "text/plain": [
       "<Figure size 640x480 with 2 Axes>"
      ]
     },
     "metadata": {},
     "output_type": "display_data"
    }
   ],
   "source": [
    "cm = confusion_matrix(y_test, y_pred)\n",
    "\n",
    "# Create the ConfusionMatrixDisplay\n",
    "disp = ConfusionMatrixDisplay(confusion_matrix=cm, display_labels=list(sentiment_mapping.keys()))\n",
    "\n",
    "# Plot the confusion matrix\n",
    "ax = disp.plot().ax_\n",
    "\n",
    "# Set the background color; RGB values are scaled to [0, 1]\n",
    "ax.set_facecolor((100/255, 100/255, 100/255))\n",
    "\n",
    "# Rotate x-axis labels for better readability\n",
    "plt.xticks(rotation=45)\n",
    "\n",
    "# Display the plot\n",
    "plt.show()"
   ]
  },
  {
   "cell_type": "code",
   "execution_count": 354,
   "metadata": {},
   "outputs": [
    {
     "data": {
      "text/plain": [
       "dict_keys(['Extremely Negative', 'Negative', 'Neutral', 'Positive', 'Extremely Positive'])"
      ]
     },
     "execution_count": 354,
     "metadata": {},
     "output_type": "execute_result"
    }
   ],
   "source": [
    "sentiment_mapping.keys()"
   ]
  },
  {
   "cell_type": "code",
   "execution_count": 380,
   "metadata": {},
   "outputs": [
    {
     "data": {
      "image/png": "[encoded data removed]",
      "text/plain": [
       "<Figure size 1400x1000 with 2 Axes>"
      ]
     },
     "metadata": {},
     "output_type": "display_data"
    }
   ],
   "source": [
    "_,ax = plt.subplots(figsize=(14, 10))\n",
    "\n",
    "ConfusionMatrixDisplay(confusion_matrix(y_test, y_pred), display_labels=list(sentiment_mapping.keys())).plot(ax=ax)\n",
    "plt.xticks(rotation=24, fontsize = 15)\n",
    "plt.yticks(fontsize = 15)\n",
    "plt.savefig(\"confusion_matrix.svg\")"
   ]
  },
  {
   "cell_type": "code",
   "execution_count": 381,
   "metadata": {},
   "outputs": [
    {
     "data": {
      "text/plain": [
       "array([\"something tells 'free ' 'need ' attracted many cars . notice hooptie among . another feed panic story .\",\n",
       "       '6.6 oz 80 % alcohol hand sanitizer . high alcohol content kills & amp ; neutralizes covid-19 compared thicker gel-type sanitizers sold . grab business , sales',\n",
       "       'ministry trade industry reiterated call cautioning retailers wholesalers taking advantage novel outbreak increase prices products . full story ? ?',\n",
       "       ..., \"blue supermarket queue 's stressful ...\",\n",
       "       'outbreak triggered profiteering essential items sold black market government price ceiling solved issue , said consumer group',\n",
       "       'tried buy masks back mid february . ebay amazon already left sky high prices . government lied . wearing masks beginning .'],\n",
       "      dtype=object)"
      ]
     },
     "execution_count": 381,
     "metadata": {},
     "output_type": "execute_result"
    }
   ],
   "source": [
    "X_train"
   ]
  },
  {
   "cell_type": "code",
   "execution_count": null,
   "metadata": {},
   "outputs": [],
   "source": []
  }
 ],
 "metadata": {
  "kernelspec": {
   "display_name": "covid",
   "language": "python",
   "name": "python3"
  },
  "language_info": {
   "codemirror_mode": {
    "name": "ipython",
    "version": 3
   },
   "file_extension": ".py",
   "mimetype": "text/x-python",
   "name": "python",
   "nbconvert_exporter": "python",
   "pygments_lexer": "ipython3",
   "version": "3.11.4"
  }
 },
 "nbformat": 4,
 "nbformat_minor": 2
}
