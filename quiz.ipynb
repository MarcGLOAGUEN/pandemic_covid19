{
 "cells": [
  {
   "cell_type": "code",
   "execution_count": 1,
   "metadata": {},
   "outputs": [],
   "source": [
    "from itertools import permutations"
   ]
  },
  {
   "cell_type": "code",
   "execution_count": 3,
   "metadata": {},
   "outputs": [],
   "source": [
    "lettres = \"RJONUT\"\n",
    "chiffres = [str(i) for i in range(10) if i not in [5, 4, 2]]"
   ]
  },
  {
   "cell_type": "code",
   "execution_count": 4,
   "metadata": {},
   "outputs": [],
   "source": [
    "\n",
    "possibilites = permutations(chiffres, len(lettres))"
   ]
  },
  {
   "cell_type": "code",
   "execution_count": 5,
   "metadata": {},
   "outputs": [],
   "source": [
    "\n",
    "for possibilite in possibilites:\n",
    "    solution = dict(zip(lettres, possibilite))\n",
    "    solution['E'] = '5'\n",
    "    solution['P'] = '4'\n",
    "    solution['L'] = '2'\n",
    "\n",
    "    PERE = int(\"\".join(solution[lettre] for lettre in \"PERE\"))\n",
    "    NOEL = int(\"\".join(solution[lettre] for lettre in \"NOEL\"))\n",
    "    JOUET = int(\"\".join(solution[lettre] for lettre in \"JOUET\"))\n",
    "\n",
    "    if PERE + NOEL == JOUET:\n",
    "        valeur_JOUET = JOUET\n",
    "        break"
   ]
  },
  {
   "cell_type": "code",
   "execution_count": 7,
   "metadata": {},
   "outputs": [
    {
     "data": {
      "text/plain": [
       "13857"
      ]
     },
     "execution_count": 7,
     "metadata": {},
     "output_type": "execute_result"
    }
   ],
   "source": [
    "valeur_JOUET\n"
   ]
  },
  {
   "cell_type": "code",
   "execution_count": null,
   "metadata": {},
   "outputs": [],
   "source": []
  }
 ],
 "metadata": {
  "kernelspec": {
   "display_name": "cours",
   "language": "python",
   "name": "python3"
  },
  "language_info": {
   "codemirror_mode": {
    "name": "ipython",
    "version": 3
   },
   "file_extension": ".py",
   "mimetype": "text/x-python",
   "name": "python",
   "nbconvert_exporter": "python",
   "pygments_lexer": "ipython3",
   "version": "3.11.4"
  }
 },
 "nbformat": 4,
 "nbformat_minor": 2
}
